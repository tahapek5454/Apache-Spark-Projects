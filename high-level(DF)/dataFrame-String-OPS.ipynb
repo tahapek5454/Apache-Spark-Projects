{
 "cells": [
  {
   "cell_type": "code",
   "execution_count": 1,
   "id": "73a848ba",
   "metadata": {},
   "outputs": [],
   "source": [
    "import findspark\n",
    "findspark.init()\n",
    "from pyspark.sql import SparkSession\n",
    "spark = SparkSession.builder \\\n",
    ".master(\"local[4]\") \\\n",
    ".appName(\"stringOPS\") \\\n",
    ".config(\"spark.executor.memory\",\"4g\") \\\n",
    ".config(\"spark.driver.memory\",\"2g\") \\\n",
    ".getOrCreate()\n",
    "sc = spark.sparkContext"
   ]
  },
  {
   "cell_type": "code",
   "execution_count": 2,
   "id": "e5bc88f6",
   "metadata": {},
   "outputs": [],
   "source": [
    "df = spark.read \\\n",
    ".option(\"header\",\"True\") \\\n",
    ".option(\"inferSchema\",\"True\") \\\n",
    ".option(\"sep\",\",\") \\\n",
    ".csv(\"/home/taha/Downloads/simple_data.csv\")"
   ]
  },
  {
   "cell_type": "code",
   "execution_count": 3,
   "id": "528fc266",
   "metadata": {},
   "outputs": [
    {
     "name": "stdout",
     "output_type": "stream",
     "text": [
      "+------+-----+---+--------+--------+-----------+\n",
      "|sirano| isim|yas|  meslek|   sehir|aylik_gelir|\n",
      "+------+-----+---+--------+--------+-----------+\n",
      "|     1|Cemal| 35|    Isci|  Ankara|       3500|\n",
      "|     2|Ceyda| 42|   Memur| Kayseri|       4200|\n",
      "|     3|Timur| 30|Müzisyen|Istanbul|       9000|\n",
      "+------+-----+---+--------+--------+-----------+\n",
      "only showing top 3 rows\n",
      "\n"
     ]
    }
   ],
   "source": [
    "df.show(3)"
   ]
  },
  {
   "cell_type": "code",
   "execution_count": 4,
   "id": "d04c580e",
   "metadata": {},
   "outputs": [],
   "source": [
    "# sql string ops yapıcaz hepsini indierlim\n",
    "from pyspark.sql.functions import *"
   ]
  },
  {
   "cell_type": "markdown",
   "id": "5ac6fa0f",
   "metadata": {},
   "source": [
    "# 1.Concat"
   ]
  },
  {
   "cell_type": "code",
   "execution_count": 7,
   "id": "e7744c80",
   "metadata": {},
   "outputs": [
    {
     "name": "stdout",
     "output_type": "stream",
     "text": [
      "+------+-----+---+--------+--------+-----------+-----------------+\n",
      "|sirano|isim |yas|meslek  |sehir   |aylik_gelir|meslek-sehir     |\n",
      "+------+-----+---+--------+--------+-----------+-----------------+\n",
      "|1     |Cemal|35 |Isci    |Ankara  |3500       |Isci-Ankara      |\n",
      "|2     |Ceyda|42 |Memur   |Kayseri |4200       |Memur-Kayseri    |\n",
      "|3     |Timur|30 |Müzisyen|Istanbul|9000       |Müzisyen-Istanbul|\n",
      "+------+-----+---+--------+--------+-----------+-----------------+\n",
      "only showing top 3 rows\n",
      "\n"
     ]
    }
   ],
   "source": [
    "# 2 stunun veya 2 stringi birlestiren fonksiyon\n",
    "df_concat = df \\\n",
    ".withColumn(\"meslek-sehir\",concat(col(\"meslek\"),lit(\"-\"),col(\"sehir\")))\n",
    "\n",
    "df_concat.show(n=3,truncate=False)"
   ]
  },
  {
   "cell_type": "markdown",
   "id": "c5e84483",
   "metadata": {},
   "source": [
    "# 2. Number Format"
   ]
  },
  {
   "cell_type": "code",
   "execution_count": 10,
   "id": "06840f46",
   "metadata": {},
   "outputs": [
    {
     "name": "stdout",
     "output_type": "stream",
     "text": [
      "+------+-----+---+--------+--------+-----------+-------------+\n",
      "|sirano|isim |yas|meslek  |sehir   |aylik_gelir|aylik_gelir_F|\n",
      "+------+-----+---+--------+--------+-----------+-------------+\n",
      "|1     |Cemal|35 |Isci    |Ankara  |3500       |3,500.00     |\n",
      "|2     |Ceyda|42 |Memur   |Kayseri |4200       |4,200.00     |\n",
      "|3     |Timur|30 |Müzisyen|Istanbul|9000       |9,000.00     |\n",
      "+------+-----+---+--------+--------+-----------+-------------+\n",
      "only showing top 3 rows\n",
      "\n"
     ]
    }
   ],
   "source": [
    "# numaraları duzenler\n",
    "df_number_format= df \\\n",
    ".withColumn(\"aylik_gelir_F\",format_number(col(\"aylik_gelir\"),2))\n",
    "\n",
    "df_number_format.show(n=3, truncate=False)"
   ]
  },
  {
   "cell_type": "markdown",
   "id": "96a50559",
   "metadata": {},
   "source": [
    "# 3. lower,initcap,length"
   ]
  },
  {
   "cell_type": "code",
   "execution_count": 11,
   "id": "fd8dd436",
   "metadata": {},
   "outputs": [
    {
     "name": "stdout",
     "output_type": "stream",
     "text": [
      "+------+-----+---+--------+--------+-----------+------------+\n",
      "|sirano|isim |yas|meslek  |sehir   |aylik_gelir|meslek_lower|\n",
      "+------+-----+---+--------+--------+-----------+------------+\n",
      "|1     |Cemal|35 |Isci    |Ankara  |3500       |isci        |\n",
      "|2     |Ceyda|42 |Memur   |Kayseri |4200       |memur       |\n",
      "|3     |Timur|30 |Müzisyen|Istanbul|9000       |müzisyen    |\n",
      "+------+-----+---+--------+--------+-----------+------------+\n",
      "only showing top 3 rows\n",
      "\n",
      "*************************\n",
      "+------+-----+---+--------+--------+-----------+------------+\n",
      "|sirano|isim |yas|meslek  |sehir   |aylik_gelir|isim_initcap|\n",
      "+------+-----+---+--------+--------+-----------+------------+\n",
      "|1     |Cemal|35 |Isci    |Ankara  |3500       |Cemal       |\n",
      "|2     |Ceyda|42 |Memur   |Kayseri |4200       |Ceyda       |\n",
      "|3     |Timur|30 |Müzisyen|Istanbul|9000       |Timur       |\n",
      "+------+-----+---+--------+--------+-----------+------------+\n",
      "only showing top 3 rows\n",
      "\n",
      "*************************\n",
      "+------+-----+---+--------+--------+-----------+------------+\n",
      "|sirano|isim |yas|meslek  |sehir   |aylik_gelir|sehir_length|\n",
      "+------+-----+---+--------+--------+-----------+------------+\n",
      "|1     |Cemal|35 |Isci    |Ankara  |3500       |6           |\n",
      "|2     |Ceyda|42 |Memur   |Kayseri |4200       |7           |\n",
      "|3     |Timur|30 |Müzisyen|Istanbul|9000       |8           |\n",
      "+------+-----+---+--------+--------+-----------+------------+\n",
      "only showing top 3 rows\n",
      "\n"
     ]
    }
   ],
   "source": [
    "# kucultme,basharf buyutme , uzunluk\n",
    "df_lower = df \\\n",
    ".withColumn(\"meslek_lower\",lower(col(\"meslek\")))\n",
    "\n",
    "df_lower.show(n=3 , truncate=False)\n",
    "\n",
    "print(\"*************************\")\n",
    "\n",
    "df_initcap = df \\\n",
    ".withColumn(\"isim_initcap\",initcap(col(\"isim\")))\n",
    "\n",
    "df_initcap.show(n=3 , truncate=False)\n",
    "\n",
    "print(\"*************************\")\n",
    "\n",
    "df_length = df \\\n",
    ".withColumn(\"sehir_length\",length(col(\"sehir\")))\n",
    "\n",
    "df_length.show(n=3 , truncate=False)\n"
   ]
  },
  {
   "cell_type": "markdown",
   "id": "bdccc752",
   "metadata": {},
   "source": [
    "# 4. trim"
   ]
  },
  {
   "cell_type": "code",
   "execution_count": 12,
   "id": "c9118a3a",
   "metadata": {},
   "outputs": [
    {
     "name": "stdout",
     "output_type": "stream",
     "text": [
      "+------+-----+---+--------+--------+-----------+-----------+\n",
      "|sirano|isim |yas|meslek  |sehir   |aylik_gelir|sehir_rtrim|\n",
      "+------+-----+---+--------+--------+-----------+-----------+\n",
      "|1     |Cemal|35 |Isci    |Ankara  |3500       |Ankara     |\n",
      "|2     |Ceyda|42 |Memur   |Kayseri |4200       |Kayseri    |\n",
      "|3     |Timur|30 |Müzisyen|Istanbul|9000       |Istanbul   |\n",
      "+------+-----+---+--------+--------+-----------+-----------+\n",
      "only showing top 3 rows\n",
      "\n",
      "*************************\n",
      "+------+-----+---+--------+--------+-----------+-----------+\n",
      "|sirano|isim |yas|meslek  |sehir   |aylik_gelir|sehir_ltrim|\n",
      "+------+-----+---+--------+--------+-----------+-----------+\n",
      "|1     |Cemal|35 |Isci    |Ankara  |3500       |Ankara     |\n",
      "|2     |Ceyda|42 |Memur   |Kayseri |4200       |Kayseri    |\n",
      "|3     |Timur|30 |Müzisyen|Istanbul|9000       |Istanbul   |\n",
      "+------+-----+---+--------+--------+-----------+-----------+\n",
      "only showing top 3 rows\n",
      "\n",
      "*************************\n",
      "+------+-----+---+--------+--------+-----------+----------+\n",
      "|sirano|isim |yas|meslek  |sehir   |aylik_gelir|sehir_trim|\n",
      "+------+-----+---+--------+--------+-----------+----------+\n",
      "|1     |Cemal|35 |Isci    |Ankara  |3500       |Ankara    |\n",
      "|2     |Ceyda|42 |Memur   |Kayseri |4200       |Kayseri   |\n",
      "|3     |Timur|30 |Müzisyen|Istanbul|9000       |Istanbul  |\n",
      "+------+-----+---+--------+--------+-----------+----------+\n",
      "only showing top 3 rows\n",
      "\n"
     ]
    }
   ],
   "source": [
    "# bosluk silme\n",
    "df_rtrim = df \\\n",
    ".withColumn(\"sehir_rtrim\",rtrim(col(\"sehir\")))\n",
    "\n",
    "df_rtrim.show(n=3 , truncate=False)\n",
    "\n",
    "print(\"*************************\")\n",
    "\n",
    "df_ltrim = df \\\n",
    ".withColumn(\"sehir_ltrim\",ltrim(col(\"sehir\")))\n",
    "\n",
    "df_ltrim.show(n=3 , truncate=False)\n",
    "\n",
    "print(\"*************************\")\n",
    "\n",
    "df_trim = df \\\n",
    ".withColumn(\"sehir_trim\",trim(col(\"sehir\")))\n",
    "\n",
    "df_trim.show(n=3 , truncate=False)\n"
   ]
  },
  {
   "cell_type": "markdown",
   "id": "4562e74c",
   "metadata": {},
   "source": [
    "# replace , split"
   ]
  },
  {
   "cell_type": "code",
   "execution_count": 14,
   "id": "7d18e00b",
   "metadata": {},
   "outputs": [
    {
     "name": "stdout",
     "output_type": "stream",
     "text": [
      "+------+-----+---+--------+--------+-----------+-------------+\n",
      "|sirano|isim |yas|meslek  |sehir   |aylik_gelir|sehir_replace|\n",
      "+------+-----+---+--------+--------+-----------+-------------+\n",
      "|1     |Cemal|35 |Isci    |Ankara  |3500       |Mankara      |\n",
      "|2     |Ceyda|42 |Memur   |Kayseri |4200       |Kayseri      |\n",
      "|3     |Timur|30 |Müzisyen|Istanbul|9000       |Istanbul     |\n",
      "+------+-----+---+--------+--------+-----------+-------------+\n",
      "only showing top 3 rows\n",
      "\n",
      "*************************\n",
      "+------+-----+---+--------+--------+-----------+-----------+\n",
      "|sirano|isim |yas|meslek  |sehir   |aylik_gelir|sehir_split|\n",
      "+------+-----+---+--------+--------+-----------+-----------+\n",
      "|1     |Cemal|35 |Isci    |Ankara  |3500       |[Ank, r, ] |\n",
      "|2     |Ceyda|42 |Memur   |Kayseri |4200       |[K, yseri] |\n",
      "|3     |Timur|30 |Müzisyen|Istanbul|9000       |[Ist, nbul]|\n",
      "+------+-----+---+--------+--------+-----------+-----------+\n",
      "only showing top 3 rows\n",
      "\n"
     ]
    }
   ],
   "source": [
    "# yerine koyar ve belli seye gore boler\n",
    "df_replace = df \\\n",
    ".withColumn(\"sehir_replace\",regexp_replace(col(\"sehir\"),\"An\",\"Man\"))\n",
    "\n",
    "df_replace.show(n=3 , truncate=False)\n",
    "\n",
    "print(\"*************************\")\n",
    "\n",
    "df_split = df \\\n",
    ".withColumn(\"sehir_split\",split(col(\"sehir\"),\"a\"))\n",
    "\n",
    "df_split.show(n=3 , truncate=False)\n"
   ]
  },
  {
   "cell_type": "code",
   "execution_count": 15,
   "id": "5b7ae138",
   "metadata": {},
   "outputs": [],
   "source": [
    "# ayirma isleminde | buna gore ayir demek icin \\\\| yapmaliyiz"
   ]
  },
  {
   "cell_type": "code",
   "execution_count": 16,
   "id": "6c801832",
   "metadata": {},
   "outputs": [
    {
     "name": "stdout",
     "output_type": "stream",
     "text": [
      "root\n",
      " |-- sirano: integer (nullable = true)\n",
      " |-- isim: string (nullable = true)\n",
      " |-- yas: integer (nullable = true)\n",
      " |-- meslek: string (nullable = true)\n",
      " |-- sehir: string (nullable = true)\n",
      " |-- aylik_gelir: integer (nullable = true)\n",
      " |-- sehir_split: array (nullable = true)\n",
      " |    |-- element: string (containsNull = true)\n",
      "\n"
     ]
    }
   ],
   "source": [
    "df_split.printSchema()"
   ]
  },
  {
   "cell_type": "code",
   "execution_count": null,
   "id": "28119bae",
   "metadata": {},
   "outputs": [],
   "source": []
  }
 ],
 "metadata": {
  "kernelspec": {
   "display_name": "Python 3",
   "language": "python",
   "name": "python3"
  },
  "language_info": {
   "codemirror_mode": {
    "name": "ipython",
    "version": 3
   },
   "file_extension": ".py",
   "mimetype": "text/x-python",
   "name": "python",
   "nbconvert_exporter": "python",
   "pygments_lexer": "ipython3",
   "version": "3.6.15"
  }
 },
 "nbformat": 4,
 "nbformat_minor": 5
}
