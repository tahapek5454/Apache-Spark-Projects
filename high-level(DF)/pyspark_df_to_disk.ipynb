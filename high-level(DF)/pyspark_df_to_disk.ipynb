{
 "cells": [
  {
   "cell_type": "code",
   "execution_count": 1,
   "id": "f996af92",
   "metadata": {},
   "outputs": [],
   "source": [
    "import findspark\n",
    "findspark.init()"
   ]
  },
  {
   "cell_type": "code",
   "execution_count": 2,
   "id": "c6d89171",
   "metadata": {},
   "outputs": [],
   "source": [
    "from pyspark.sql import SparkSession"
   ]
  },
  {
   "cell_type": "code",
   "execution_count": 3,
   "id": "84e53445",
   "metadata": {},
   "outputs": [],
   "source": [
    "spark = SparkSession.builder \\\n",
    ".master(\"local[4]\") \\\n",
    ".appName(\"pyspark_Df_to_disk\") \\\n",
    ".config(\"spark.executor.memory\",\"4g\") \\\n",
    ".config(\"spark.driver.memory\",\"2g\") \\\n",
    ".getOrCreate()"
   ]
  },
  {
   "cell_type": "code",
   "execution_count": 4,
   "id": "1ffa88da",
   "metadata": {},
   "outputs": [],
   "source": [
    "sc = spark.sparkContext"
   ]
  },
  {
   "cell_type": "code",
   "execution_count": 5,
   "id": "2888dff6",
   "metadata": {},
   "outputs": [],
   "source": [
    "df = spark.read \\\n",
    ".option(\"header\",\"True\") \\\n",
    ".option(\"inferSchema\",\"True\")\\\n",
    ".option(\"sep\",\",\") \\\n",
    ".csv(\"/home/taha/Downloads/simple_dirty_data.csv\")"
   ]
  },
  {
   "cell_type": "code",
   "execution_count": 6,
   "id": "b8d3b873",
   "metadata": {},
   "outputs": [
    {
     "name": "stdout",
     "output_type": "stream",
     "text": [
      "+------+------+---+--------+------+-------+-----------+--------+\n",
      "|sirano|  isim|yas|cinsiyet|meslek|  sehir|aylik_gelir|mal_mulk|\n",
      "+------+------+---+--------+------+-------+-----------+--------+\n",
      "|     1| Cemal| 35|       E|  Isci| Ankara|     3500.0|   araba|\n",
      "|     2|ceyda | 42|       K| Memur|Kayseri|     4200.0| arabaev|\n",
      "+------+------+---+--------+------+-------+-----------+--------+\n",
      "only showing top 2 rows\n",
      "\n"
     ]
    }
   ],
   "source": [
    "df.show(2)"
   ]
  },
  {
   "cell_type": "markdown",
   "id": "0fa87a3d",
   "metadata": {},
   "source": [
    "# Veri Temizligi"
   ]
  },
  {
   "cell_type": "code",
   "execution_count": 7,
   "id": "47d967eb",
   "metadata": {},
   "outputs": [],
   "source": [
    "from pyspark.sql import functions as F"
   ]
  },
  {
   "cell_type": "code",
   "execution_count": 11,
   "id": "b102e7a1",
   "metadata": {},
   "outputs": [
    {
     "name": "stdout",
     "output_type": "stream",
     "text": [
      "+------+-----+---+--------+------+-------+-----------+--------+\n",
      "|sirano| isim|yas|cinsiyet|meslek|  sehir|aylik_gelir|mal_mulk|\n",
      "+------+-----+---+--------+------+-------+-----------+--------+\n",
      "|     1|Cemal| 35|       E|  Isci| ANKARA|     3500.0|   araba|\n",
      "|     2|Ceyda| 42|       K| Memur|KAYSERI|     4200.0| arabaev|\n",
      "+------+-----+---+--------+------+-------+-----------+--------+\n",
      "only showing top 2 rows\n",
      "\n"
     ]
    }
   ],
   "source": [
    "df2 = df \\\n",
    ".withColumn(\"isim\",F.trim(F.initcap(df.isim))) \\\n",
    ".withColumn(\"cinsiyet\",F.when(df.cinsiyet.isNull(),\"U\").otherwise(df.cinsiyet)) \\\n",
    ".withColumn(\"sehir\",F.when(df.sehir.isNull(),\"BİLİNMİYOR\").otherwise(F.trim(F.upper(df.sehir))))\n",
    "\n",
    "df2.show(2)"
   ]
  },
  {
   "cell_type": "markdown",
   "id": "9b3cab81",
   "metadata": {},
   "source": [
    "# Temizlenmis dataframe i diske yaz"
   ]
  },
  {
   "cell_type": "code",
   "execution_count": 18,
   "id": "bdd0b5c2",
   "metadata": {},
   "outputs": [],
   "source": [
    "# coalesce(1) parca parca yazmasını sagliypr\n",
    "df2 \\\n",
    ".coalesce(1) \\\n",
    ".write \\\n",
    ".mode(\"overwrite\") \\\n",
    ".option(\"header\",\"True\") \\\n",
    ".option(\"sep\",\",\") \\\n",
    ".csv(\"/home/taha/Downloads/temiz_yazdirma\")"
   ]
  },
  {
   "cell_type": "code",
   "execution_count": 19,
   "id": "d964c535",
   "metadata": {},
   "outputs": [
    {
     "name": "stdout",
     "output_type": "stream",
     "text": [
      "+------+-----+---+--------+------+-------+-----------+--------+\n",
      "|sirano| isim|yas|cinsiyet|meslek|  sehir|aylik_gelir|mal_mulk|\n",
      "+------+-----+---+--------+------+-------+-----------+--------+\n",
      "|     1|Cemal| 35|       E|  Isci| ANKARA|     3500.0|   araba|\n",
      "|     2|Ceyda| 42|       K| Memur|KAYSERI|     4200.0| arabaev|\n",
      "+------+-----+---+--------+------+-------+-----------+--------+\n",
      "only showing top 2 rows\n",
      "\n"
     ]
    }
   ],
   "source": [
    "df = spark.read \\\n",
    ".option(\"header\",\"True\") \\\n",
    ".option(\"inferSchema\",\"True\")\\\n",
    ".option(\"sep\",\",\") \\\n",
    ".csv(\"/home/taha/Downloads/temiz_yazdirma\")\n",
    "\n",
    "df.show(2)"
   ]
  },
  {
   "cell_type": "code",
   "execution_count": null,
   "id": "bbbef32a",
   "metadata": {},
   "outputs": [],
   "source": []
  }
 ],
 "metadata": {
  "kernelspec": {
   "display_name": "Python 3",
   "language": "python",
   "name": "python3"
  },
  "language_info": {
   "codemirror_mode": {
    "name": "ipython",
    "version": 3
   },
   "file_extension": ".py",
   "mimetype": "text/x-python",
   "name": "python",
   "nbconvert_exporter": "python",
   "pygments_lexer": "ipython3",
   "version": "3.6.15"
  }
 },
 "nbformat": 4,
 "nbformat_minor": 5
}
