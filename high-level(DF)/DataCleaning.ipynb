{
 "cells": [
  {
   "cell_type": "code",
   "execution_count": 3,
   "id": "b654c896",
   "metadata": {},
   "outputs": [],
   "source": [
    "import findspark\n",
    "findspark.init()\n",
    "from pyspark.sql import SparkSession\n",
    "spark=SparkSession.builder \\\n",
    ".master(\"local[4]\") \\\n",
    ".appName(\"cleaning\") \\\n",
    ".config(\"spark.executor.memory\",\"4g\") \\\n",
    ".config(\"spark.driver.memory\",\"2g\") \\\n",
    ".getOrCreate()"
   ]
  },
  {
   "cell_type": "code",
   "execution_count": 4,
   "id": "736ee68a",
   "metadata": {},
   "outputs": [],
   "source": [
    "adult_train_df = spark.read \\\n",
    ".option(\"header\",\"True\") \\\n",
    ".option(\"inferSchema\",\"True\") \\\n",
    ".option(\"sep\",\",\") \\\n",
    ".csv(\"/home/taha/Downloads/adult.data\")"
   ]
  },
  {
   "cell_type": "code",
   "execution_count": 5,
   "id": "7369de82",
   "metadata": {},
   "outputs": [],
   "source": [
    "adult_test_df = spark.read \\\n",
    ".option(\"header\",\"True\") \\\n",
    ".option(\"inferSchema\",\"True\") \\\n",
    ".option(\"sep\",\",\") \\\n",
    ".csv(\"/home/taha/Downloads/adult.test\")"
   ]
  },
  {
   "cell_type": "markdown",
   "id": "9c60de41",
   "metadata": {},
   "source": [
    "# VERİ BİRLEŞTİRME"
   ]
  },
  {
   "cell_type": "code",
   "execution_count": 6,
   "id": "ffc74a01",
   "metadata": {},
   "outputs": [],
   "source": [
    "adult_whole_df = adult_train_df.union(adult_test_df)"
   ]
  },
  {
   "cell_type": "code",
   "execution_count": 7,
   "id": "383c3a19",
   "metadata": {},
   "outputs": [
    {
     "data": {
      "text/html": [
       "<div>\n",
       "<style scoped>\n",
       "    .dataframe tbody tr th:only-of-type {\n",
       "        vertical-align: middle;\n",
       "    }\n",
       "\n",
       "    .dataframe tbody tr th {\n",
       "        vertical-align: top;\n",
       "    }\n",
       "\n",
       "    .dataframe thead th {\n",
       "        text-align: right;\n",
       "    }\n",
       "</style>\n",
       "<table border=\"1\" class=\"dataframe\">\n",
       "  <thead>\n",
       "    <tr style=\"text-align: right;\">\n",
       "      <th></th>\n",
       "      <th>age</th>\n",
       "      <th>workclass</th>\n",
       "      <th>fnlwgt</th>\n",
       "      <th>education</th>\n",
       "      <th>education_num</th>\n",
       "      <th>marital_status</th>\n",
       "      <th>occupation</th>\n",
       "      <th>relationship</th>\n",
       "      <th>race</th>\n",
       "      <th>sex</th>\n",
       "      <th>capital_gain</th>\n",
       "      <th>capital_loss</th>\n",
       "      <th>hours_per_week</th>\n",
       "      <th>native_country</th>\n",
       "      <th>output</th>\n",
       "    </tr>\n",
       "  </thead>\n",
       "  <tbody>\n",
       "    <tr>\n",
       "      <th>0</th>\n",
       "      <td>39</td>\n",
       "      <td>State-gov</td>\n",
       "      <td>77516.0</td>\n",
       "      <td>Bachelors</td>\n",
       "      <td>13.0</td>\n",
       "      <td>Never-married</td>\n",
       "      <td>Adm-clerical</td>\n",
       "      <td>Not-in-family</td>\n",
       "      <td>White</td>\n",
       "      <td>Male</td>\n",
       "      <td>2174.0</td>\n",
       "      <td>0.0</td>\n",
       "      <td>40.0</td>\n",
       "      <td>United-States</td>\n",
       "      <td>&lt;=50K</td>\n",
       "    </tr>\n",
       "    <tr>\n",
       "      <th>1</th>\n",
       "      <td>50</td>\n",
       "      <td>Self-emp-not-inc</td>\n",
       "      <td>83311.0</td>\n",
       "      <td>Bachelors</td>\n",
       "      <td>13.0</td>\n",
       "      <td>Married-civ-spouse</td>\n",
       "      <td>Exec-managerial</td>\n",
       "      <td>Husband</td>\n",
       "      <td>White</td>\n",
       "      <td>Male</td>\n",
       "      <td>0.0</td>\n",
       "      <td>0.0</td>\n",
       "      <td>13.0</td>\n",
       "      <td>United-States</td>\n",
       "      <td>&lt;=50K</td>\n",
       "    </tr>\n",
       "    <tr>\n",
       "      <th>2</th>\n",
       "      <td>38</td>\n",
       "      <td>Private</td>\n",
       "      <td>215646.0</td>\n",
       "      <td>HS-grad</td>\n",
       "      <td>9.0</td>\n",
       "      <td>Divorced</td>\n",
       "      <td>Handlers-cleaners</td>\n",
       "      <td>Not-in-family</td>\n",
       "      <td>White</td>\n",
       "      <td>Male</td>\n",
       "      <td>0.0</td>\n",
       "      <td>0.0</td>\n",
       "      <td>40.0</td>\n",
       "      <td>United-States</td>\n",
       "      <td>&lt;=50K</td>\n",
       "    </tr>\n",
       "    <tr>\n",
       "      <th>3</th>\n",
       "      <td>53</td>\n",
       "      <td>Private</td>\n",
       "      <td>234721.0</td>\n",
       "      <td>11th</td>\n",
       "      <td>7.0</td>\n",
       "      <td>Married-civ-spouse</td>\n",
       "      <td>Handlers-cleaners</td>\n",
       "      <td>Husband</td>\n",
       "      <td>Black</td>\n",
       "      <td>Male</td>\n",
       "      <td>0.0</td>\n",
       "      <td>0.0</td>\n",
       "      <td>40.0</td>\n",
       "      <td>United-States</td>\n",
       "      <td>&lt;=50K</td>\n",
       "    </tr>\n",
       "    <tr>\n",
       "      <th>4</th>\n",
       "      <td>28</td>\n",
       "      <td>Private</td>\n",
       "      <td>338409.0</td>\n",
       "      <td>Bachelors</td>\n",
       "      <td>13.0</td>\n",
       "      <td>Married-civ-spouse</td>\n",
       "      <td>Prof-specialty</td>\n",
       "      <td>Wife</td>\n",
       "      <td>Black</td>\n",
       "      <td>Female</td>\n",
       "      <td>0.0</td>\n",
       "      <td>0.0</td>\n",
       "      <td>40.0</td>\n",
       "      <td>Cuba</td>\n",
       "      <td>&lt;=50K</td>\n",
       "    </tr>\n",
       "  </tbody>\n",
       "</table>\n",
       "</div>"
      ],
      "text/plain": [
       "   age          workclass    fnlwgt   education  education_num  \\\n",
       "0   39          State-gov   77516.0   Bachelors           13.0   \n",
       "1   50   Self-emp-not-inc   83311.0   Bachelors           13.0   \n",
       "2   38            Private  215646.0     HS-grad            9.0   \n",
       "3   53            Private  234721.0        11th            7.0   \n",
       "4   28            Private  338409.0   Bachelors           13.0   \n",
       "\n",
       "        marital_status          occupation    relationship    race      sex  \\\n",
       "0        Never-married        Adm-clerical   Not-in-family   White     Male   \n",
       "1   Married-civ-spouse     Exec-managerial         Husband   White     Male   \n",
       "2             Divorced   Handlers-cleaners   Not-in-family   White     Male   \n",
       "3   Married-civ-spouse   Handlers-cleaners         Husband   Black     Male   \n",
       "4   Married-civ-spouse      Prof-specialty            Wife   Black   Female   \n",
       "\n",
       "   capital_gain  capital_loss  hours_per_week  native_country  output  \n",
       "0        2174.0           0.0            40.0   United-States   <=50K  \n",
       "1           0.0           0.0            13.0   United-States   <=50K  \n",
       "2           0.0           0.0            40.0   United-States   <=50K  \n",
       "3           0.0           0.0            40.0   United-States   <=50K  \n",
       "4           0.0           0.0            40.0            Cuba   <=50K  "
      ]
     },
     "execution_count": 7,
     "metadata": {},
     "output_type": "execute_result"
    }
   ],
   "source": [
    "adult_whole_df.limit(5).toPandas().head()"
   ]
  },
  {
   "cell_type": "markdown",
   "id": "ddc8ebf9",
   "metadata": {},
   "source": [
    "# Veri Temizligi Basliyor"
   ]
  },
  {
   "cell_type": "markdown",
   "id": "bcbfea9e",
   "metadata": {},
   "source": [
    "###### 1-)Tüm stunlara bosluk kontrolu yapilacak"
   ]
  },
  {
   "cell_type": "code",
   "execution_count": 8,
   "id": "fbab6418",
   "metadata": {},
   "outputs": [],
   "source": [
    "from pyspark.sql.functions import *"
   ]
  },
  {
   "cell_type": "code",
   "execution_count": 9,
   "id": "d33c21e2",
   "metadata": {},
   "outputs": [],
   "source": [
    "adult_whole_df1=adult_whole_df \\\n",
    ".withColumn(\"workclass\",trim(col(\"workclass\"))) \\\n",
    ".withColumn(\"education\",trim(col(\"education\"))) \\\n",
    ".withColumn(\"marital_status\",trim(col(\"marital_status\"))) \\\n",
    ".withColumn(\"occupation\",trim(col(\"occupation\"))) \\\n",
    ".withColumn(\"relationship\",trim(col(\"relationship\"))) \\\n",
    ".withColumn(\"race\",trim(col(\"race\"))) \\\n",
    ".withColumn(\"sex\",trim(col(\"sex\"))) \\\n",
    ".withColumn(\"native_country\",trim(col(\"native_country\"))) \\\n",
    ".withColumn(\"output\",trim(col(\"output\"))) \n"
   ]
  },
  {
   "cell_type": "code",
   "execution_count": 10,
   "id": "52b2cda8",
   "metadata": {},
   "outputs": [
    {
     "data": {
      "text/plain": [
       "48842"
      ]
     },
     "execution_count": 10,
     "metadata": {},
     "output_type": "execute_result"
    }
   ],
   "source": [
    "adult_whole_df.count()"
   ]
  },
  {
   "cell_type": "code",
   "execution_count": 11,
   "id": "eb42a6d5",
   "metadata": {},
   "outputs": [
    {
     "data": {
      "text/plain": [
       "48842"
      ]
     },
     "execution_count": 11,
     "metadata": {},
     "output_type": "execute_result"
    }
   ],
   "source": [
    "adult_whole_df1.count()"
   ]
  },
  {
   "cell_type": "markdown",
   "id": "df5ceb1a",
   "metadata": {},
   "source": [
    "###### 2-) output icerisindeki '.' temizligi"
   ]
  },
  {
   "cell_type": "code",
   "execution_count": 12,
   "id": "84c67d0a",
   "metadata": {},
   "outputs": [],
   "source": [
    "adult_whole_df2 = adult_whole_df1 \\\n",
    ".withColumn(\"output\",regexp_replace(col(\"output\"),\"<=50K.\",\"<=50K\")) \\\n",
    ".withColumn(\"output\",regexp_replace(col(\"output\"),\">50K.\",\">50K\")) \\"
   ]
  },
  {
   "cell_type": "code",
   "execution_count": 13,
   "id": "8ad0120a",
   "metadata": {},
   "outputs": [
    {
     "data": {
      "text/html": [
       "<div>\n",
       "<style scoped>\n",
       "    .dataframe tbody tr th:only-of-type {\n",
       "        vertical-align: middle;\n",
       "    }\n",
       "\n",
       "    .dataframe tbody tr th {\n",
       "        vertical-align: top;\n",
       "    }\n",
       "\n",
       "    .dataframe thead th {\n",
       "        text-align: right;\n",
       "    }\n",
       "</style>\n",
       "<table border=\"1\" class=\"dataframe\">\n",
       "  <thead>\n",
       "    <tr style=\"text-align: right;\">\n",
       "      <th></th>\n",
       "      <th>output</th>\n",
       "      <th>count(1)</th>\n",
       "    </tr>\n",
       "  </thead>\n",
       "  <tbody>\n",
       "    <tr>\n",
       "      <th>0</th>\n",
       "      <td>&lt;=50K</td>\n",
       "      <td>37155</td>\n",
       "    </tr>\n",
       "    <tr>\n",
       "      <th>1</th>\n",
       "      <td>&gt;50K</td>\n",
       "      <td>11687</td>\n",
       "    </tr>\n",
       "  </tbody>\n",
       "</table>\n",
       "</div>"
      ],
      "text/plain": [
       "  output  count(1)\n",
       "0  <=50K     37155\n",
       "1   >50K     11687"
      ]
     },
     "execution_count": 13,
     "metadata": {},
     "output_type": "execute_result"
    }
   ],
   "source": [
    "adult_whole_df2.groupBy(col(\"output\")) \\\n",
    ".agg({\"*\":\"count\"}) \\\n",
    ".toPandas().head()"
   ]
  },
  {
   "cell_type": "markdown",
   "id": "72177868",
   "metadata": {},
   "source": [
    "###### 3-) null kontrolu"
   ]
  },
  {
   "cell_type": "code",
   "execution_count": 14,
   "id": "da355ec5",
   "metadata": {},
   "outputs": [
    {
     "name": "stdout",
     "output_type": "stream",
     "text": [
      "1 age\n",
      "2 workclass\n",
      "3 fnlwgt\n",
      "4 education\n",
      "5 education_num\n",
      "6 marital_status\n",
      "7 occupation\n",
      "8 relationship\n",
      "9 race\n",
      "10 sex\n",
      "11 capital_gain\n",
      "12 capital_loss\n",
      "13 hours_per_week\n",
      "14 native_country\n",
      "15 output\n"
     ]
    }
   ],
   "source": [
    "sayac_for_null = 1\n",
    "for sutun in adult_whole_df2.columns:\n",
    "    if(adult_whole_df2.filter(col(sutun).isNull()).count()>0):\n",
    "        print(sayac_for_null,\".\",sutun,\"icerisinde null var\")\n",
    "    else:\n",
    "        print(sayac_for_null, sutun)\n",
    "    sayac_for_null+=1   "
   ]
  },
  {
   "cell_type": "markdown",
   "id": "1fe03714",
   "metadata": {},
   "source": [
    "###### 4-) soru isareti kontrolleri"
   ]
  },
  {
   "cell_type": "code",
   "execution_count": 15,
   "id": "072f16c2",
   "metadata": {},
   "outputs": [
    {
     "name": "stdout",
     "output_type": "stream",
     "text": [
      "1 age\n",
      "2 . workclass icerisinde soru isareti var\n",
      "3 fnlwgt\n",
      "4 education\n",
      "5 education_num\n",
      "6 marital_status\n",
      "7 . occupation icerisinde soru isareti var\n",
      "8 relationship\n",
      "9 race\n",
      "10 sex\n",
      "11 capital_gain\n",
      "12 capital_loss\n",
      "13 hours_per_week\n",
      "14 . native_country icerisinde soru isareti var\n",
      "15 output\n"
     ]
    }
   ],
   "source": [
    "sayac_for_soru = 1\n",
    "for sutun in adult_whole_df2.columns:\n",
    "    if(adult_whole_df2.filter(col(sutun).contains(\"?\")).count()>0):\n",
    "        print(sayac_for_soru,\".\",sutun,\"icerisinde soru isareti var\")\n",
    "    else:\n",
    "        print(sayac_for_soru, sutun)\n",
    "    sayac_for_soru+=1   "
   ]
  },
  {
   "cell_type": "code",
   "execution_count": 16,
   "id": "bd7788f0",
   "metadata": {},
   "outputs": [
    {
     "data": {
      "text/html": [
       "<div>\n",
       "<style scoped>\n",
       "    .dataframe tbody tr th:only-of-type {\n",
       "        vertical-align: middle;\n",
       "    }\n",
       "\n",
       "    .dataframe tbody tr th {\n",
       "        vertical-align: top;\n",
       "    }\n",
       "\n",
       "    .dataframe thead th {\n",
       "        text-align: right;\n",
       "    }\n",
       "</style>\n",
       "<table border=\"1\" class=\"dataframe\">\n",
       "  <thead>\n",
       "    <tr style=\"text-align: right;\">\n",
       "      <th></th>\n",
       "      <th>workclass</th>\n",
       "      <th>occupation</th>\n",
       "      <th>native_country</th>\n",
       "      <th>output</th>\n",
       "      <th>count</th>\n",
       "    </tr>\n",
       "  </thead>\n",
       "  <tbody>\n",
       "    <tr>\n",
       "      <th>0</th>\n",
       "      <td>?</td>\n",
       "      <td>?</td>\n",
       "      <td>United-States</td>\n",
       "      <td>&lt;=50K</td>\n",
       "      <td>2284</td>\n",
       "    </tr>\n",
       "    <tr>\n",
       "      <th>1</th>\n",
       "      <td>?</td>\n",
       "      <td>?</td>\n",
       "      <td>United-States</td>\n",
       "      <td>&gt;50K</td>\n",
       "      <td>246</td>\n",
       "    </tr>\n",
       "    <tr>\n",
       "      <th>2</th>\n",
       "      <td>Private</td>\n",
       "      <td>Other-service</td>\n",
       "      <td>?</td>\n",
       "      <td>&lt;=50K</td>\n",
       "      <td>100</td>\n",
       "    </tr>\n",
       "    <tr>\n",
       "      <th>3</th>\n",
       "      <td>Private</td>\n",
       "      <td>Sales</td>\n",
       "      <td>?</td>\n",
       "      <td>&lt;=50K</td>\n",
       "      <td>55</td>\n",
       "    </tr>\n",
       "    <tr>\n",
       "      <th>4</th>\n",
       "      <td>Private</td>\n",
       "      <td>Prof-specialty</td>\n",
       "      <td>?</td>\n",
       "      <td>&lt;=50K</td>\n",
       "      <td>51</td>\n",
       "    </tr>\n",
       "  </tbody>\n",
       "</table>\n",
       "</div>"
      ],
      "text/plain": [
       "  workclass      occupation native_country output  count\n",
       "0         ?               ?  United-States  <=50K   2284\n",
       "1         ?               ?  United-States   >50K    246\n",
       "2   Private   Other-service              ?  <=50K    100\n",
       "3   Private           Sales              ?  <=50K     55\n",
       "4   Private  Prof-specialty              ?  <=50K     51"
      ]
     },
     "execution_count": 16,
     "metadata": {},
     "output_type": "execute_result"
    }
   ],
   "source": [
    "# ? bulunan stunların output ile iliskilerini gorelim\n",
    "adult_whole_df2.select(\"workclass\",\"occupation\",\"native_country\",\"output\") \\\n",
    ".filter(\n",
    "    col(\"workclass\").contains(\"?\") |\n",
    "    col(\"occupation\").contains(\"?\") |\n",
    "    col(\"native_country\").contains(\"?\") \n",
    "\n",
    ") \\\n",
    ".groupBy(\"workclass\",\"occupation\",\"native_country\",\"output\").count() \\\n",
    ".orderBy(col(\"count\").desc()) \\\n",
    ".toPandas().head()"
   ]
  },
  {
   "cell_type": "code",
   "execution_count": 17,
   "id": "df5679e7",
   "metadata": {},
   "outputs": [],
   "source": [
    "# soru isareti dagilimi ve hedef degiskene etkisi tesadüfi gorunuyor\n",
    "# bu yüzden silelim"
   ]
  },
  {
   "cell_type": "code",
   "execution_count": 18,
   "id": "56898a4a",
   "metadata": {},
   "outputs": [
    {
     "name": "stdout",
     "output_type": "stream",
     "text": [
      "48842\n",
      "45222\n"
     ]
    }
   ],
   "source": [
    "adult_whole_df3 = adult_whole_df2 \\\n",
    ".filter(~(\n",
    "\n",
    "    col(\"workclass\").contains(\"?\") |\n",
    "    col(\"occupation\").contains(\"?\") |\n",
    "    col(\"native_country\").contains(\"?\") )\n",
    "    \n",
    ")\n",
    "\n",
    "print(adult_whole_df2.count())\n",
    "print(adult_whole_df3.count())"
   ]
  },
  {
   "cell_type": "markdown",
   "id": "f7675132",
   "metadata": {},
   "source": [
    "###### 5-)Zayif sinifların kaldırılması"
   ]
  },
  {
   "cell_type": "code",
   "execution_count": 25,
   "id": "69be2a9b",
   "metadata": {},
   "outputs": [
    {
     "name": "stdout",
     "output_type": "stream",
     "text": [
      "45222\n",
      "45207\n"
     ]
    }
   ],
   "source": [
    "adult_whole_df4=adult_whole_df3 \\\n",
    ".filter(\n",
    "   ~(\n",
    "      col(\"workclass\").contains(\"never-worked\") |\n",
    "       col(\"workclass\").contains(\"without-pay\") |\n",
    "       col(\"occupation\").contains(\"Armed-Forces\") |\n",
    "       col(\"native_country\").contains(\"Holand-Netherlands\")\n",
    "   \n",
    "   )\n",
    "\n",
    ")\n",
    "\n",
    "print(adult_whole_df3.count())\n",
    "print(adult_whole_df4.count())"
   ]
  },
  {
   "cell_type": "markdown",
   "id": "e304b81b",
   "metadata": {},
   "source": [
    "###### 6-)egitim durumuyla ilgili katagorileri birlestirme "
   ]
  },
  {
   "cell_type": "code",
   "execution_count": 23,
   "id": "ebb1721f",
   "metadata": {},
   "outputs": [
    {
     "data": {
      "text/html": [
       "<div>\n",
       "<style scoped>\n",
       "    .dataframe tbody tr th:only-of-type {\n",
       "        vertical-align: middle;\n",
       "    }\n",
       "\n",
       "    .dataframe tbody tr th {\n",
       "        vertical-align: top;\n",
       "    }\n",
       "\n",
       "    .dataframe thead th {\n",
       "        text-align: right;\n",
       "    }\n",
       "</style>\n",
       "<table border=\"1\" class=\"dataframe\">\n",
       "  <thead>\n",
       "    <tr style=\"text-align: right;\">\n",
       "      <th></th>\n",
       "      <th>education</th>\n",
       "      <th>education_merged</th>\n",
       "    </tr>\n",
       "  </thead>\n",
       "  <tbody>\n",
       "    <tr>\n",
       "      <th>0</th>\n",
       "      <td>Bachelors</td>\n",
       "      <td>Undergraduate</td>\n",
       "    </tr>\n",
       "    <tr>\n",
       "      <th>1</th>\n",
       "      <td>Bachelors</td>\n",
       "      <td>Undergraduate</td>\n",
       "    </tr>\n",
       "    <tr>\n",
       "      <th>2</th>\n",
       "      <td>HS-grad</td>\n",
       "      <td>HS-grad</td>\n",
       "    </tr>\n",
       "    <tr>\n",
       "      <th>3</th>\n",
       "      <td>11th</td>\n",
       "      <td>High-Scholl</td>\n",
       "    </tr>\n",
       "    <tr>\n",
       "      <th>4</th>\n",
       "      <td>Bachelors</td>\n",
       "      <td>Undergraduate</td>\n",
       "    </tr>\n",
       "  </tbody>\n",
       "</table>\n",
       "</div>"
      ],
      "text/plain": [
       "   education education_merged\n",
       "0  Bachelors    Undergraduate\n",
       "1  Bachelors    Undergraduate\n",
       "2    HS-grad          HS-grad\n",
       "3       11th      High-Scholl\n",
       "4  Bachelors    Undergraduate"
      ]
     },
     "execution_count": 23,
     "metadata": {},
     "output_type": "execute_result"
    }
   ],
   "source": [
    "adult_whole_df5=adult_whole_df4.withColumn(\"education_merged\",\n",
    "when(col(\"education\").isin(\"1st-4th\",\"5th-6th\",\"7th-8th\"),\"Elementry-Scholl\")\n",
    ".when(col(\"education\").isin(\"9th\",\"10th\",\"11th\",\"12th\"),\"High-Scholl\")\n",
    ".when(col(\"education\").isin(\"Masters\",\"Doctorate\"),\"Postgraduate\")\n",
    " .when(col(\"education\").isin(\"Bachelors\",\"Some-College\"),\"Undergraduate\")                                          \n",
    ".otherwise(col(\"education\"))                                           \n",
    "                                                                           \n",
    ")\n",
    "adult_whole_df5.select(\"education\",\"education_merged\")\\\n",
    ".toPandas().head()"
   ]
  },
  {
   "cell_type": "code",
   "execution_count": 26,
   "id": "fdf9b082",
   "metadata": {},
   "outputs": [
    {
     "data": {
      "text/html": [
       "<div>\n",
       "<style scoped>\n",
       "    .dataframe tbody tr th:only-of-type {\n",
       "        vertical-align: middle;\n",
       "    }\n",
       "\n",
       "    .dataframe tbody tr th {\n",
       "        vertical-align: top;\n",
       "    }\n",
       "\n",
       "    .dataframe thead th {\n",
       "        text-align: right;\n",
       "    }\n",
       "</style>\n",
       "<table border=\"1\" class=\"dataframe\">\n",
       "  <thead>\n",
       "    <tr style=\"text-align: right;\">\n",
       "      <th></th>\n",
       "      <th>age</th>\n",
       "      <th>workclass</th>\n",
       "      <th>fnlwgt</th>\n",
       "      <th>education</th>\n",
       "      <th>education_num</th>\n",
       "      <th>marital_status</th>\n",
       "      <th>occupation</th>\n",
       "      <th>relationship</th>\n",
       "      <th>race</th>\n",
       "      <th>sex</th>\n",
       "      <th>capital_gain</th>\n",
       "      <th>capital_loss</th>\n",
       "      <th>hours_per_week</th>\n",
       "      <th>native_country</th>\n",
       "      <th>output</th>\n",
       "      <th>education_merged</th>\n",
       "    </tr>\n",
       "  </thead>\n",
       "  <tbody>\n",
       "    <tr>\n",
       "      <th>0</th>\n",
       "      <td>39</td>\n",
       "      <td>State-gov</td>\n",
       "      <td>77516.0</td>\n",
       "      <td>Bachelors</td>\n",
       "      <td>13.0</td>\n",
       "      <td>Never-married</td>\n",
       "      <td>Adm-clerical</td>\n",
       "      <td>Not-in-family</td>\n",
       "      <td>White</td>\n",
       "      <td>Male</td>\n",
       "      <td>2174.0</td>\n",
       "      <td>0.0</td>\n",
       "      <td>40.0</td>\n",
       "      <td>United-States</td>\n",
       "      <td>&lt;=50K</td>\n",
       "      <td>Undergraduate</td>\n",
       "    </tr>\n",
       "    <tr>\n",
       "      <th>1</th>\n",
       "      <td>50</td>\n",
       "      <td>Self-emp-not-inc</td>\n",
       "      <td>83311.0</td>\n",
       "      <td>Bachelors</td>\n",
       "      <td>13.0</td>\n",
       "      <td>Married-civ-spouse</td>\n",
       "      <td>Exec-managerial</td>\n",
       "      <td>Husband</td>\n",
       "      <td>White</td>\n",
       "      <td>Male</td>\n",
       "      <td>0.0</td>\n",
       "      <td>0.0</td>\n",
       "      <td>13.0</td>\n",
       "      <td>United-States</td>\n",
       "      <td>&lt;=50K</td>\n",
       "      <td>Undergraduate</td>\n",
       "    </tr>\n",
       "    <tr>\n",
       "      <th>2</th>\n",
       "      <td>38</td>\n",
       "      <td>Private</td>\n",
       "      <td>215646.0</td>\n",
       "      <td>HS-grad</td>\n",
       "      <td>9.0</td>\n",
       "      <td>Divorced</td>\n",
       "      <td>Handlers-cleaners</td>\n",
       "      <td>Not-in-family</td>\n",
       "      <td>White</td>\n",
       "      <td>Male</td>\n",
       "      <td>0.0</td>\n",
       "      <td>0.0</td>\n",
       "      <td>40.0</td>\n",
       "      <td>United-States</td>\n",
       "      <td>&lt;=50K</td>\n",
       "      <td>HS-grad</td>\n",
       "    </tr>\n",
       "    <tr>\n",
       "      <th>3</th>\n",
       "      <td>53</td>\n",
       "      <td>Private</td>\n",
       "      <td>234721.0</td>\n",
       "      <td>11th</td>\n",
       "      <td>7.0</td>\n",
       "      <td>Married-civ-spouse</td>\n",
       "      <td>Handlers-cleaners</td>\n",
       "      <td>Husband</td>\n",
       "      <td>Black</td>\n",
       "      <td>Male</td>\n",
       "      <td>0.0</td>\n",
       "      <td>0.0</td>\n",
       "      <td>40.0</td>\n",
       "      <td>United-States</td>\n",
       "      <td>&lt;=50K</td>\n",
       "      <td>High-Scholl</td>\n",
       "    </tr>\n",
       "    <tr>\n",
       "      <th>4</th>\n",
       "      <td>28</td>\n",
       "      <td>Private</td>\n",
       "      <td>338409.0</td>\n",
       "      <td>Bachelors</td>\n",
       "      <td>13.0</td>\n",
       "      <td>Married-civ-spouse</td>\n",
       "      <td>Prof-specialty</td>\n",
       "      <td>Wife</td>\n",
       "      <td>Black</td>\n",
       "      <td>Female</td>\n",
       "      <td>0.0</td>\n",
       "      <td>0.0</td>\n",
       "      <td>40.0</td>\n",
       "      <td>Cuba</td>\n",
       "      <td>&lt;=50K</td>\n",
       "      <td>Undergraduate</td>\n",
       "    </tr>\n",
       "  </tbody>\n",
       "</table>\n",
       "</div>"
      ],
      "text/plain": [
       "   age         workclass    fnlwgt  education  education_num  \\\n",
       "0   39         State-gov   77516.0  Bachelors           13.0   \n",
       "1   50  Self-emp-not-inc   83311.0  Bachelors           13.0   \n",
       "2   38           Private  215646.0    HS-grad            9.0   \n",
       "3   53           Private  234721.0       11th            7.0   \n",
       "4   28           Private  338409.0  Bachelors           13.0   \n",
       "\n",
       "       marital_status         occupation   relationship   race     sex  \\\n",
       "0       Never-married       Adm-clerical  Not-in-family  White    Male   \n",
       "1  Married-civ-spouse    Exec-managerial        Husband  White    Male   \n",
       "2            Divorced  Handlers-cleaners  Not-in-family  White    Male   \n",
       "3  Married-civ-spouse  Handlers-cleaners        Husband  Black    Male   \n",
       "4  Married-civ-spouse     Prof-specialty           Wife  Black  Female   \n",
       "\n",
       "   capital_gain  capital_loss  hours_per_week native_country output  \\\n",
       "0        2174.0           0.0            40.0  United-States  <=50K   \n",
       "1           0.0           0.0            13.0  United-States  <=50K   \n",
       "2           0.0           0.0            40.0  United-States  <=50K   \n",
       "3           0.0           0.0            40.0  United-States  <=50K   \n",
       "4           0.0           0.0            40.0           Cuba  <=50K   \n",
       "\n",
       "  education_merged  \n",
       "0    Undergraduate  \n",
       "1    Undergraduate  \n",
       "2          HS-grad  \n",
       "3      High-Scholl  \n",
       "4    Undergraduate  "
      ]
     },
     "execution_count": 26,
     "metadata": {},
     "output_type": "execute_result"
    }
   ],
   "source": [
    "adult_whole_df5.toPandas().head()"
   ]
  },
  {
   "cell_type": "code",
   "execution_count": 27,
   "id": "66f74645",
   "metadata": {},
   "outputs": [],
   "source": [
    "#diske yazalim\n",
    "adult_whole_df5 \\\n",
    ".coalesce(1) \\\n",
    ".write \\\n",
    ".mode(\"overwrite\") \\\n",
    ".option(\"sep\",\",\") \\\n",
    ".option(\"header\",\"True\") \\\n",
    ".csv(\"/home/taha/Downloads/adult_preprocessed_pyspark\")"
   ]
  },
  {
   "cell_type": "code",
   "execution_count": null,
   "id": "597e5d00",
   "metadata": {},
   "outputs": [],
   "source": []
  }
 ],
 "metadata": {
  "kernelspec": {
   "display_name": "Python 3",
   "language": "python",
   "name": "python3"
  },
  "language_info": {
   "codemirror_mode": {
    "name": "ipython",
    "version": 3
   },
   "file_extension": ".py",
   "mimetype": "text/x-python",
   "name": "python",
   "nbconvert_exporter": "python",
   "pygments_lexer": "ipython3",
   "version": "3.6.15"
  }
 },
 "nbformat": 4,
 "nbformat_minor": 5
}
