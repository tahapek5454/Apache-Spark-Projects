{
 "cells": [
  {
   "cell_type": "code",
   "execution_count": 2,
   "id": "9901d074",
   "metadata": {},
   "outputs": [],
   "source": [
    "import findspark\n",
    "findspark.init()"
   ]
  },
  {
   "cell_type": "code",
   "execution_count": 3,
   "id": "a1290982",
   "metadata": {},
   "outputs": [],
   "source": [
    "from pyspark.sql import SparkSession"
   ]
  },
  {
   "cell_type": "code",
   "execution_count": 4,
   "id": "9ed003c2",
   "metadata": {},
   "outputs": [],
   "source": [
    "spark = SparkSession.builder. \\\n",
    "master(\"local[4]\"). \\\n",
    "appName(\"Dataframe_giris\"). \\\n",
    "config(\"spark.driver.memory\",\"2g\"). \\\n",
    "config(\"spark.executor.memory\",\"4g\"). \\\n",
    "getOrCreate()"
   ]
  },
  {
   "cell_type": "code",
   "execution_count": 5,
   "id": "47109f4e",
   "metadata": {},
   "outputs": [],
   "source": [
    "sc = spark.sparkContext"
   ]
  },
  {
   "cell_type": "markdown",
   "id": "dfb97588",
   "metadata": {},
   "source": [
    "# Listede DF"
   ]
  },
  {
   "cell_type": "code",
   "execution_count": 6,
   "id": "d3955ab5",
   "metadata": {},
   "outputs": [],
   "source": [
    "from pyspark.sql import Row\n",
    "liste_RDD = sc.parallelize([1,2,3,4,5,6,5,4]). \\\n",
    "map(lambda x : Row(x))"
   ]
  },
  {
   "cell_type": "code",
   "execution_count": 7,
   "id": "7e4e1d3f",
   "metadata": {},
   "outputs": [],
   "source": [
    "# df oluşturma\n",
    "df_from_list = liste_RDD.toDF([\"rakamlar\"])"
   ]
  },
  {
   "cell_type": "code",
   "execution_count": 8,
   "id": "81547c4b",
   "metadata": {},
   "outputs": [
    {
     "name": "stdout",
     "output_type": "stream",
     "text": [
      "+--------+\n",
      "|rakamlar|\n",
      "+--------+\n",
      "|       1|\n",
      "|       2|\n",
      "|       3|\n",
      "|       4|\n",
      "|       5|\n",
      "|       6|\n",
      "|       5|\n",
      "|       4|\n",
      "+--------+\n",
      "\n"
     ]
    }
   ],
   "source": [
    "df_from_list.show()"
   ]
  },
  {
   "cell_type": "markdown",
   "id": "906a3d82",
   "metadata": {},
   "source": [
    "# range ile DF"
   ]
  },
  {
   "cell_type": "code",
   "execution_count": 9,
   "id": "ccf7d53a",
   "metadata": {},
   "outputs": [],
   "source": [
    "df_from_range = sc.parallelize(range(10,100,5)). \\\n",
    "map(lambda x :(x,)). \\\n",
    "toDF([\"range\"])"
   ]
  },
  {
   "cell_type": "code",
   "execution_count": 10,
   "id": "76275cc3",
   "metadata": {},
   "outputs": [
    {
     "name": "stdout",
     "output_type": "stream",
     "text": [
      "+-----+\n",
      "|range|\n",
      "+-----+\n",
      "|   10|\n",
      "|   15|\n",
      "|   20|\n",
      "+-----+\n",
      "only showing top 3 rows\n",
      "\n"
     ]
    }
   ],
   "source": [
    "df_from_range.show(3)"
   ]
  },
  {
   "cell_type": "markdown",
   "id": "28f9d382",
   "metadata": {},
   "source": [
    "# 2. yontem sparkSession uzerşnden direkt olusturma "
   ]
  },
  {
   "cell_type": "code",
   "execution_count": 11,
   "id": "852f8043",
   "metadata": {},
   "outputs": [],
   "source": [
    "from pyspark.sql.types import IntegerType\n",
    "df_from_Range2 = spark.createDataFrame(range(0,10,2) , IntegerType())"
   ]
  },
  {
   "cell_type": "code",
   "execution_count": 12,
   "id": "aec51627",
   "metadata": {},
   "outputs": [
    {
     "name": "stdout",
     "output_type": "stream",
     "text": [
      "+-----+\n",
      "|value|\n",
      "+-----+\n",
      "|    0|\n",
      "|    2|\n",
      "|    4|\n",
      "|    6|\n",
      "|    8|\n",
      "+-----+\n",
      "\n"
     ]
    }
   ],
   "source": [
    "df_from_Range2.show()"
   ]
  },
  {
   "cell_type": "markdown",
   "id": "356e632e",
   "metadata": {},
   "source": [
    "# Dosyadan DF"
   ]
  },
  {
   "cell_type": "code",
   "execution_count": 13,
   "id": "4565bafb",
   "metadata": {},
   "outputs": [],
   "source": [
    "df_from_file = spark.read.csv(\"/home/taha/Downloads/OnlineRetail.csv\")"
   ]
  },
  {
   "cell_type": "code",
   "execution_count": 14,
   "id": "225855c1",
   "metadata": {},
   "outputs": [
    {
     "name": "stdout",
     "output_type": "stream",
     "text": [
      "+--------------------+\n",
      "|                 _c0|\n",
      "+--------------------+\n",
      "|InvoiceNo;StockCo...|\n",
      "|536365;85123A;WHI...|\n",
      "|536365;71053;WHIT...|\n",
      "|536365;84406B;CRE...|\n",
      "|536365;84029G;KNI...|\n",
      "|536365;84029E;RED...|\n",
      "|536365;22752;SET ...|\n",
      "|536365;21730;GLAS...|\n",
      "|536366;22633;HAND...|\n",
      "|536366;22632;HAND...|\n",
      "|536367;84879;ASSO...|\n",
      "|536367;22745;POPP...|\n",
      "|536367;22748;POPP...|\n",
      "|536367;22749;FELT...|\n",
      "|536367;22310;IVOR...|\n",
      "|536367;84969;BOX ...|\n",
      "|536367;22623;BOX ...|\n",
      "|536367;22622;BOX ...|\n",
      "|536367;21754;HOME...|\n",
      "|536367;21755;LOVE...|\n",
      "+--------------------+\n",
      "only showing top 20 rows\n",
      "\n"
     ]
    }
   ],
   "source": [
    "df_from_file.show()"
   ]
  },
  {
   "cell_type": "code",
   "execution_count": 15,
   "id": "a3e59347",
   "metadata": {},
   "outputs": [],
   "source": [
    "# ust kisimda dum duz satır satır ayırdı biz biraz duzenleme yapalım\n",
    "\n",
    "df_from_file = spark.read \\\n",
    ".option(\"sep\",\";\") \\\n",
    ".option(\"inferSchema\",\"True\") \\\n",
    ".option(\"header\",\"True\") \\\n",
    ".csv(\"/home/taha/Downloads/OnlineRetail.csv\")\n"
   ]
  },
  {
   "cell_type": "code",
   "execution_count": 16,
   "id": "d6651c64",
   "metadata": {},
   "outputs": [],
   "source": [
    "# option sep kısmı stunları ; e gore ayiriyior\n",
    "# option ınferschema alttaki turleri dogru ayirmasini saglar\n",
    "# option header kismi baslik var diiyor"
   ]
  },
  {
   "cell_type": "code",
   "execution_count": 17,
   "id": "369f834d",
   "metadata": {},
   "outputs": [
    {
     "name": "stdout",
     "output_type": "stream",
     "text": [
      "+---------+---------+--------------------+--------+---------------+---------+----------+--------------+\n",
      "|InvoiceNo|StockCode|         Description|Quantity|    InvoiceDate|UnitPrice|CustomerID|       Country|\n",
      "+---------+---------+--------------------+--------+---------------+---------+----------+--------------+\n",
      "|   536365|   85123A|WHITE HANGING HEA...|       6|1.12.2010 08:26|     2,55|     17850|United Kingdom|\n",
      "|   536365|    71053| WHITE METAL LANTERN|       6|1.12.2010 08:26|     3,39|     17850|United Kingdom|\n",
      "|   536365|   84406B|CREAM CUPID HEART...|       8|1.12.2010 08:26|     2,75|     17850|United Kingdom|\n",
      "+---------+---------+--------------------+--------+---------------+---------+----------+--------------+\n",
      "only showing top 3 rows\n",
      "\n"
     ]
    }
   ],
   "source": [
    "df_from_file.show(3)"
   ]
  },
  {
   "cell_type": "code",
   "execution_count": 18,
   "id": "9354ad91",
   "metadata": {},
   "outputs": [
    {
     "name": "stdout",
     "output_type": "stream",
     "text": [
      "root\n",
      " |-- InvoiceNo: string (nullable = true)\n",
      " |-- StockCode: string (nullable = true)\n",
      " |-- Description: string (nullable = true)\n",
      " |-- Quantity: integer (nullable = true)\n",
      " |-- InvoiceDate: string (nullable = true)\n",
      " |-- UnitPrice: string (nullable = true)\n",
      " |-- CustomerID: integer (nullable = true)\n",
      " |-- Country: string (nullable = true)\n",
      "\n"
     ]
    }
   ],
   "source": [
    "df_from_file.printSchema()"
   ]
  },
  {
   "cell_type": "code",
   "execution_count": 19,
   "id": "3f4d25fb",
   "metadata": {},
   "outputs": [],
   "source": [
    "# ustte şemayı kendine gore olusturup veri turlerini yazmıs"
   ]
  },
  {
   "cell_type": "code",
   "execution_count": 20,
   "id": "7f8e5b8f",
   "metadata": {},
   "outputs": [
    {
     "data": {
      "text/plain": [
       "541909"
      ]
     },
     "execution_count": 20,
     "metadata": {},
     "output_type": "execute_result"
    }
   ],
   "source": [
    "df_from_file.count()"
   ]
  },
  {
   "cell_type": "code",
   "execution_count": 21,
   "id": "756aa1fd",
   "metadata": {},
   "outputs": [
    {
     "name": "stdout",
     "output_type": "stream",
     "text": [
      "+---------+---------+\n",
      "|InvoiceNo|StockCode|\n",
      "+---------+---------+\n",
      "|   536365|   85123A|\n",
      "|   536365|    71053|\n",
      "+---------+---------+\n",
      "only showing top 2 rows\n",
      "\n"
     ]
    }
   ],
   "source": [
    "df_from_file.select(\"InvoiceNo\",\"StockCode\").show(2)"
   ]
  },
  {
   "cell_type": "code",
   "execution_count": 22,
   "id": "bae58917",
   "metadata": {},
   "outputs": [
    {
     "name": "stdout",
     "output_type": "stream",
     "text": [
      "+---------+---------+--------------------+--------+---------------+---------+----------+--------------+\n",
      "|InvoiceNo|StockCode|         Description|Quantity|    InvoiceDate|UnitPrice|CustomerID|       Country|\n",
      "+---------+---------+--------------------+--------+---------------+---------+----------+--------------+\n",
      "|   536365|    71053| WHITE METAL LANTERN|       6|1.12.2010 08:26|     3,39|     17850|United Kingdom|\n",
      "|   536365|   85123A|WHITE HANGING HEA...|       6|1.12.2010 08:26|     2,55|     17850|United Kingdom|\n",
      "+---------+---------+--------------------+--------+---------------+---------+----------+--------------+\n",
      "only showing top 2 rows\n",
      "\n"
     ]
    }
   ],
   "source": [
    "df_from_file.sort(\"InvoiceNo\").show(2)"
   ]
  },
  {
   "cell_type": "code",
   "execution_count": null,
   "id": "3ab6e9f9",
   "metadata": {},
   "outputs": [],
   "source": []
  }
 ],
 "metadata": {
  "kernelspec": {
   "display_name": "Python 3",
   "language": "python",
   "name": "python3"
  },
  "language_info": {
   "codemirror_mode": {
    "name": "ipython",
    "version": 3
   },
   "file_extension": ".py",
   "mimetype": "text/x-python",
   "name": "python",
   "nbconvert_exporter": "python",
   "pygments_lexer": "ipython3",
   "version": "3.6.15"
  }
 },
 "nbformat": 4,
 "nbformat_minor": 5
}
