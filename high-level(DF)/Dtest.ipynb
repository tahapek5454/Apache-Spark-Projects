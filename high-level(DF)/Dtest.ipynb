{
 "cells": [
  {
   "cell_type": "code",
   "execution_count": 1,
   "id": "a76944ef",
   "metadata": {},
   "outputs": [],
   "source": [
    "import findspark\n",
    "findspark.init()"
   ]
  },
  {
   "cell_type": "code",
   "execution_count": 2,
   "id": "117e0b19",
   "metadata": {},
   "outputs": [],
   "source": [
    "from pyspark.sql import SparkSession\n",
    "from pyspark import SparkContext"
   ]
  },
  {
   "cell_type": "code",
   "execution_count": 38,
   "id": "e1da2bf6",
   "metadata": {},
   "outputs": [],
   "source": [
    "pyspark=SparkSession.builder \\\n",
    ".master(\"local[2]\") \\\n",
    ".appName(\"Test\") \\\n",
    ".config(\"spark.executor.memory\",\"3g\") \\\n",
    ".config(\"spark.driver.memory\",\"2g\") \\\n",
    ".getOrCreate() \n"
   ]
  },
  {
   "cell_type": "code",
   "execution_count": 39,
   "id": "714731a9",
   "metadata": {},
   "outputs": [],
   "source": [
    "sc = pyspark.sparkContext"
   ]
  },
  {
   "cell_type": "code",
   "execution_count": 40,
   "id": "06a26738",
   "metadata": {},
   "outputs": [],
   "source": [
    "Test=['Merhaba Spark']"
   ]
  },
  {
   "cell_type": "code",
   "execution_count": 41,
   "id": "1c71f5c4",
   "metadata": {},
   "outputs": [],
   "source": [
    "rdd1 = sc.parallelize(Test)"
   ]
  },
  {
   "cell_type": "code",
   "execution_count": 42,
   "id": "1d861440",
   "metadata": {},
   "outputs": [
    {
     "data": {
      "text/plain": [
       "['Merhaba Spark']"
      ]
     },
     "execution_count": 42,
     "metadata": {},
     "output_type": "execute_result"
    }
   ],
   "source": [
    "rdd1.take(20)"
   ]
  },
  {
   "cell_type": "code",
   "execution_count": 43,
   "id": "bd7c85ff",
   "metadata": {},
   "outputs": [
    {
     "data": {
      "text/plain": [
       "['Merhaba Spark']"
      ]
     },
     "execution_count": 43,
     "metadata": {},
     "output_type": "execute_result"
    }
   ],
   "source": [
    "rdd1.collect()"
   ]
  },
  {
   "cell_type": "code",
   "execution_count": 44,
   "id": "1b065530",
   "metadata": {},
   "outputs": [],
   "source": [
    "rdd2=sc.parallelize([3,7,13,15,22,36,7,11,3,25])"
   ]
  },
  {
   "cell_type": "code",
   "execution_count": 45,
   "id": "8f7b124f",
   "metadata": {},
   "outputs": [],
   "source": [
    "rdd3 = sc.parallelize([\"Spark'ı öğrenmek çok heyecan verici\"])"
   ]
  },
  {
   "cell_type": "code",
   "execution_count": 46,
   "id": "9a6036ff",
   "metadata": {},
   "outputs": [
    {
     "data": {
      "text/plain": [
       "[\"SPARK'I ÖĞRENMEK ÇOK HEYECAN VERICI\"]"
      ]
     },
     "execution_count": 46,
     "metadata": {},
     "output_type": "execute_result"
    }
   ],
   "source": [
    "rdd3.map(lambda x: x.upper()).take(10)"
   ]
  },
  {
   "cell_type": "code",
   "execution_count": 54,
   "id": "532b783d",
   "metadata": {},
   "outputs": [],
   "source": [
    "dosya_yolu='/home/taha/Downloads/ubuntu_spark.txt'"
   ]
  },
  {
   "cell_type": "code",
   "execution_count": 55,
   "id": "97720ece",
   "metadata": {},
   "outputs": [],
   "source": [
    "rdd4=sc.textFile(dosya_yolu)"
   ]
  },
  {
   "cell_type": "code",
   "execution_count": 56,
   "id": "799463b8",
   "metadata": {},
   "outputs": [
    {
     "data": {
      "text/plain": [
       "76"
      ]
     },
     "execution_count": 56,
     "metadata": {},
     "output_type": "execute_result"
    }
   ],
   "source": [
    "rdd4.count()"
   ]
  },
  {
   "cell_type": "code",
   "execution_count": 57,
   "id": "b4491ab1",
   "metadata": {},
   "outputs": [
    {
     "data": {
      "text/plain": [
       "237"
      ]
     },
     "execution_count": 57,
     "metadata": {},
     "output_type": "execute_result"
    }
   ],
   "source": [
    "rdd4.flatMap(lambda x : x.split(' ')).count()"
   ]
  },
  {
   "cell_type": "code",
   "execution_count": 49,
   "id": "c819a696",
   "metadata": {},
   "outputs": [],
   "source": [
    "rdd5=sc.parallelize([1,2,3,4,5,6,7,8,9,10])"
   ]
  },
  {
   "cell_type": "code",
   "execution_count": 50,
   "id": "fa6b4c42",
   "metadata": {},
   "outputs": [
    {
     "data": {
      "text/plain": [
       "[3, 7]"
      ]
     },
     "execution_count": 50,
     "metadata": {},
     "output_type": "execute_result"
    }
   ],
   "source": [
    "rdd2.intersection(rdd5).take(10)"
   ]
  },
  {
   "cell_type": "code",
   "execution_count": 51,
   "id": "5bea0f14",
   "metadata": {},
   "outputs": [
    {
     "data": {
      "text/plain": [
       "[22, 36, 3, 7, 13, 15, 11, 25]"
      ]
     },
     "execution_count": 51,
     "metadata": {},
     "output_type": "execute_result"
    }
   ],
   "source": [
    "rdd2.distinct().take(10)"
   ]
  },
  {
   "cell_type": "code",
   "execution_count": 52,
   "id": "243c7c8e",
   "metadata": {},
   "outputs": [
    {
     "data": {
      "text/plain": [
       "[3, 7, 11, 13, 15, 22, 25, 36]"
      ]
     },
     "execution_count": 52,
     "metadata": {},
     "output_type": "execute_result"
    }
   ],
   "source": [
    "rdd2.distinct().takeOrdered(10)"
   ]
  },
  {
   "cell_type": "code",
   "execution_count": 53,
   "id": "4caf83c0",
   "metadata": {},
   "outputs": [
    {
     "data": {
      "text/plain": [
       "defaultdict(int, {3: 2, 7: 2, 13: 1, 15: 1, 22: 1, 36: 1, 11: 1, 25: 1})"
      ]
     },
     "execution_count": 53,
     "metadata": {},
     "output_type": "execute_result"
    }
   ],
   "source": [
    "rdd2.countByValue()"
   ]
  },
  {
   "cell_type": "code",
   "execution_count": 58,
   "id": "b83c0c4d",
   "metadata": {},
   "outputs": [
    {
     "data": {
      "text/plain": [
       "[(22, 1), (36, 1), (3, 2), (7, 2), (13, 1), (15, 1), (11, 1), (25, 1)]"
      ]
     },
     "execution_count": 58,
     "metadata": {},
     "output_type": "execute_result"
    }
   ],
   "source": [
    "rdd2.map(lambda x : (x,1)).reduceByKey(lambda x,y : x+y).collect()"
   ]
  },
  {
   "cell_type": "code",
   "execution_count": null,
   "id": "355271bb",
   "metadata": {},
   "outputs": [],
   "source": []
  }
 ],
 "metadata": {
  "kernelspec": {
   "display_name": "Python 3",
   "language": "python",
   "name": "python3"
  },
  "language_info": {
   "codemirror_mode": {
    "name": "ipython",
    "version": 3
   },
   "file_extension": ".py",
   "mimetype": "text/x-python",
   "name": "python",
   "nbconvert_exporter": "python",
   "pygments_lexer": "ipython3",
   "version": "3.6.15"
  }
 },
 "nbformat": 4,
 "nbformat_minor": 5
}
