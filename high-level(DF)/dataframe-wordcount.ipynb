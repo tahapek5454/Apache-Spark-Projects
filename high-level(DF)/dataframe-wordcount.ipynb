{
 "cells": [
  {
   "cell_type": "code",
   "execution_count": 1,
   "id": "bbc3dd15",
   "metadata": {},
   "outputs": [],
   "source": [
    "import findspark\n",
    "findspark.init()"
   ]
  },
  {
   "cell_type": "code",
   "execution_count": 2,
   "id": "c4da50d8",
   "metadata": {},
   "outputs": [],
   "source": [
    "from pyspark.sql import SparkSession"
   ]
  },
  {
   "cell_type": "code",
   "execution_count": 3,
   "id": "c523981f",
   "metadata": {},
   "outputs": [],
   "source": [
    "spark = SparkSession.builder \\\n",
    ".master(\"local[4]\") \\\n",
    ".appName(\"Data\") \\\n",
    ".config(\"spark.executor.memory\",\"4g\") \\\n",
    ".config(\"spark.driver.memory\",\"2g\") \\\n",
    ".getOrCreate()"
   ]
  },
  {
   "cell_type": "code",
   "execution_count": 4,
   "id": "85684668",
   "metadata": {},
   "outputs": [],
   "source": [
    "sc = spark.sparkContext"
   ]
  },
  {
   "cell_type": "code",
   "execution_count": 5,
   "id": "cee4f114",
   "metadata": {},
   "outputs": [],
   "source": [
    "hikaye_df = spark.read.text(\"/home/taha/Downloads/omer_seyfettin_forsa_hikaye.txt\")"
   ]
  },
  {
   "cell_type": "code",
   "execution_count": 6,
   "id": "a03ba581",
   "metadata": {},
   "outputs": [
    {
     "name": "stdout",
     "output_type": "stream",
     "text": [
      "+--------------------+\n",
      "|               value|\n",
      "+--------------------+\n",
      "|Ömer Seyfettin - ...|\n",
      "|                    |\n",
      "|Akdeniz’in, kahra...|\n",
      "|                    |\n",
      "|– Hayırdır inşall...|\n",
      "|                    |\n",
      "|Duvarın dibindeki...|\n",
      "|                    |\n",
      "|Bu, her gece uyku...|\n",
      "|                    |\n",
      "|                    |\n",
      "|                    |\n",
      "|Elli yaşına gelin...|\n",
      "|                    |\n",
      "|                    |\n",
      "|                    |\n",
      "|Gemisi altın, güm...|\n",
      "|                    |\n",
      "|                    |\n",
      "|                    |\n",
      "+--------------------+\n",
      "only showing top 20 rows\n",
      "\n"
     ]
    }
   ],
   "source": [
    "hikaye_df.show()"
   ]
  },
  {
   "cell_type": "raw",
   "id": "f96275bc",
   "metadata": {},
   "source": [
    "from pyspark.sql.functions import explode ,split ,col"
   ]
  },
  {
   "cell_type": "code",
   "execution_count": 13,
   "id": "0989c327",
   "metadata": {},
   "outputs": [],
   "source": [
    "kelimeler = hikaye_df.select(explode(split(col(\"value\"),\" \")).alias(\"value\"))"
   ]
  },
  {
   "cell_type": "code",
   "execution_count": 14,
   "id": "3db449e2",
   "metadata": {},
   "outputs": [
    {
     "name": "stdout",
     "output_type": "stream",
     "text": [
      "+---------+\n",
      "|    value|\n",
      "+---------+\n",
      "|     Ömer|\n",
      "|Seyfettin|\n",
      "|        -|\n",
      "+---------+\n",
      "only showing top 3 rows\n",
      "\n"
     ]
    }
   ],
   "source": [
    "kelimeler.show(3)"
   ]
  },
  {
   "cell_type": "code",
   "execution_count": 16,
   "id": "c11bbba2",
   "metadata": {},
   "outputs": [
    {
     "name": "stdout",
     "output_type": "stream",
     "text": [
      "+------------+-----+\n",
      "|       value|count|\n",
      "+------------+-----+\n",
      "|    gibiydi.|    3|\n",
      "|        kırk|    2|\n",
      "|     iniyor,|    1|\n",
      "|  Sevinçten,|    1|\n",
      "|   bilmeyen,|    1|\n",
      "|  çıkacağım.|    1|\n",
      "|    minimini|    1|\n",
      "|        yılı|    2|\n",
      "|      dikkat|    1|\n",
      "|yaşındayken,|    1|\n",
      "+------------+-----+\n",
      "only showing top 10 rows\n",
      "\n"
     ]
    }
   ],
   "source": [
    "kelimeler.groupBy(\"value\").count().show(10)"
   ]
  },
  {
   "cell_type": "code",
   "execution_count": 19,
   "id": "ad00d84f",
   "metadata": {},
   "outputs": [
    {
     "name": "stdout",
     "output_type": "stream",
     "text": [
      "+-----+-----+\n",
      "|value|count|\n",
      "+-----+-----+\n",
      "|     |   59|\n",
      "|  bir|   33|\n",
      "|    –|   31|\n",
      "|  yıl|    8|\n",
      "| diye|    6|\n",
      "| Kırk|    5|\n",
      "| onun|    5|\n",
      "| Türk|    5|\n",
      "|dedi.|    5|\n",
      "|doğru|    5|\n",
      "+-----+-----+\n",
      "only showing top 10 rows\n",
      "\n"
     ]
    }
   ],
   "source": [
    "from pyspark.sql.functions import desc\n",
    "kelimeler.groupBy(\"value\").count().orderBy(desc(\"count\")).show(10)"
   ]
  },
  {
   "cell_type": "code",
   "execution_count": null,
   "id": "b0369ca2",
   "metadata": {},
   "outputs": [],
   "source": []
  }
 ],
 "metadata": {
  "kernelspec": {
   "display_name": "Python 3",
   "language": "python",
   "name": "python3"
  },
  "language_info": {
   "codemirror_mode": {
    "name": "ipython",
    "version": 3
   },
   "file_extension": ".py",
   "mimetype": "text/x-python",
   "name": "python",
   "nbconvert_exporter": "python",
   "pygments_lexer": "ipython3",
   "version": "3.6.15"
  }
 },
 "nbformat": 4,
 "nbformat_minor": 5
}
