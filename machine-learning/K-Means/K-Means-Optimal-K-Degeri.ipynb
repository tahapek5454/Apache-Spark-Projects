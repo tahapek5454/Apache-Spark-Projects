{
 "cells": [
  {
   "cell_type": "code",
   "execution_count": 1,
   "id": "675c5fec",
   "metadata": {},
   "outputs": [],
   "source": [
    "import findspark\n",
    "findspark.init()"
   ]
  },
  {
   "cell_type": "code",
   "execution_count": 2,
   "id": "c1b2f732",
   "metadata": {},
   "outputs": [],
   "source": [
    "from pyspark.ml import Pipeline\n",
    "from pyspark.ml.clustering import KMeans\n",
    "from pyspark.ml.feature import StandardScaler , VectorAssembler\n",
    "from pyspark.ml.evaluation import ClusteringEvaluator\n",
    "from pyspark.sql import SparkSession\n",
    "import warnings\n",
    "warnings.filterwarnings(\"ignore\")"
   ]
  },
  {
   "cell_type": "code",
   "execution_count": 3,
   "id": "38a8d32c",
   "metadata": {},
   "outputs": [],
   "source": [
    "spark = SparkSession.builder \\\n",
    ".appName(\"KMeans\") \\\n",
    ".master(\"local[4]\") \\\n",
    ".getOrCreate()"
   ]
  },
  {
   "cell_type": "code",
   "execution_count": 4,
   "id": "f8913fd1",
   "metadata": {},
   "outputs": [],
   "source": [
    "df = spark.read.format(\"csv\") \\\n",
    ".option(\"header\",True) \\\n",
    ".option(\"sep\",\",\") \\\n",
    ".option(\"inferSchema\",True) \\\n",
    ".load(\"/home/taha/Downloads/Mall_Customers.csv\")"
   ]
  },
  {
   "cell_type": "code",
   "execution_count": 5,
   "id": "3e995435",
   "metadata": {},
   "outputs": [
    {
     "data": {
      "text/html": [
       "<div>\n",
       "<style scoped>\n",
       "    .dataframe tbody tr th:only-of-type {\n",
       "        vertical-align: middle;\n",
       "    }\n",
       "\n",
       "    .dataframe tbody tr th {\n",
       "        vertical-align: top;\n",
       "    }\n",
       "\n",
       "    .dataframe thead th {\n",
       "        text-align: right;\n",
       "    }\n",
       "</style>\n",
       "<table border=\"1\" class=\"dataframe\">\n",
       "  <thead>\n",
       "    <tr style=\"text-align: right;\">\n",
       "      <th></th>\n",
       "      <th>CustomerID</th>\n",
       "      <th>Gender</th>\n",
       "      <th>Age</th>\n",
       "      <th>Annual Income (k$)</th>\n",
       "      <th>Spending Score (1-100)</th>\n",
       "    </tr>\n",
       "  </thead>\n",
       "  <tbody>\n",
       "    <tr>\n",
       "      <th>0</th>\n",
       "      <td>1</td>\n",
       "      <td>Male</td>\n",
       "      <td>19</td>\n",
       "      <td>15</td>\n",
       "      <td>39</td>\n",
       "    </tr>\n",
       "    <tr>\n",
       "      <th>1</th>\n",
       "      <td>2</td>\n",
       "      <td>Male</td>\n",
       "      <td>21</td>\n",
       "      <td>15</td>\n",
       "      <td>81</td>\n",
       "    </tr>\n",
       "    <tr>\n",
       "      <th>2</th>\n",
       "      <td>3</td>\n",
       "      <td>Female</td>\n",
       "      <td>20</td>\n",
       "      <td>16</td>\n",
       "      <td>6</td>\n",
       "    </tr>\n",
       "    <tr>\n",
       "      <th>3</th>\n",
       "      <td>4</td>\n",
       "      <td>Female</td>\n",
       "      <td>23</td>\n",
       "      <td>16</td>\n",
       "      <td>77</td>\n",
       "    </tr>\n",
       "    <tr>\n",
       "      <th>4</th>\n",
       "      <td>5</td>\n",
       "      <td>Female</td>\n",
       "      <td>31</td>\n",
       "      <td>17</td>\n",
       "      <td>40</td>\n",
       "    </tr>\n",
       "  </tbody>\n",
       "</table>\n",
       "</div>"
      ],
      "text/plain": [
       "   CustomerID  Gender  Age  Annual Income (k$)  Spending Score (1-100)\n",
       "0           1    Male   19                  15                      39\n",
       "1           2    Male   21                  15                      81\n",
       "2           3  Female   20                  16                       6\n",
       "3           4  Female   23                  16                      77\n",
       "4           5  Female   31                  17                      40"
      ]
     },
     "execution_count": 5,
     "metadata": {},
     "output_type": "execute_result"
    }
   ],
   "source": [
    "df.toPandas().head()"
   ]
  },
  {
   "cell_type": "code",
   "execution_count": 6,
   "id": "7ea2222a",
   "metadata": {},
   "outputs": [
    {
     "name": "stdout",
     "output_type": "stream",
     "text": [
      "root\n",
      " |-- CustomerID: integer (nullable = true)\n",
      " |-- Gender: string (nullable = true)\n",
      " |-- Age: integer (nullable = true)\n",
      " |-- Annual Income (k$): integer (nullable = true)\n",
      " |-- Spending Score (1-100): integer (nullable = true)\n",
      "\n"
     ]
    }
   ],
   "source": [
    "df.printSchema()"
   ]
  },
  {
   "cell_type": "code",
   "execution_count": 7,
   "id": "2ccd45e8",
   "metadata": {},
   "outputs": [
    {
     "data": {
      "text/html": [
       "<div>\n",
       "<style scoped>\n",
       "    .dataframe tbody tr th:only-of-type {\n",
       "        vertical-align: middle;\n",
       "    }\n",
       "\n",
       "    .dataframe tbody tr th {\n",
       "        vertical-align: top;\n",
       "    }\n",
       "\n",
       "    .dataframe thead th {\n",
       "        text-align: right;\n",
       "    }\n",
       "</style>\n",
       "<table border=\"1\" class=\"dataframe\">\n",
       "  <thead>\n",
       "    <tr style=\"text-align: right;\">\n",
       "      <th></th>\n",
       "      <th>summary</th>\n",
       "      <th>CustomerID</th>\n",
       "      <th>Gender</th>\n",
       "      <th>Age</th>\n",
       "      <th>Annual Income (k$)</th>\n",
       "      <th>Spending Score (1-100)</th>\n",
       "    </tr>\n",
       "  </thead>\n",
       "  <tbody>\n",
       "    <tr>\n",
       "      <th>0</th>\n",
       "      <td>count</td>\n",
       "      <td>200</td>\n",
       "      <td>200</td>\n",
       "      <td>200</td>\n",
       "      <td>200</td>\n",
       "      <td>200</td>\n",
       "    </tr>\n",
       "    <tr>\n",
       "      <th>1</th>\n",
       "      <td>mean</td>\n",
       "      <td>100.5</td>\n",
       "      <td>None</td>\n",
       "      <td>38.85</td>\n",
       "      <td>60.56</td>\n",
       "      <td>50.2</td>\n",
       "    </tr>\n",
       "    <tr>\n",
       "      <th>2</th>\n",
       "      <td>stddev</td>\n",
       "      <td>57.879184513951124</td>\n",
       "      <td>None</td>\n",
       "      <td>13.96900733155888</td>\n",
       "      <td>26.26472116527124</td>\n",
       "      <td>25.823521668370173</td>\n",
       "    </tr>\n",
       "    <tr>\n",
       "      <th>3</th>\n",
       "      <td>min</td>\n",
       "      <td>1</td>\n",
       "      <td>Female</td>\n",
       "      <td>18</td>\n",
       "      <td>15</td>\n",
       "      <td>1</td>\n",
       "    </tr>\n",
       "    <tr>\n",
       "      <th>4</th>\n",
       "      <td>max</td>\n",
       "      <td>200</td>\n",
       "      <td>Male</td>\n",
       "      <td>70</td>\n",
       "      <td>137</td>\n",
       "      <td>99</td>\n",
       "    </tr>\n",
       "  </tbody>\n",
       "</table>\n",
       "</div>"
      ],
      "text/plain": [
       "  summary          CustomerID  Gender                Age Annual Income (k$)  \\\n",
       "0   count                 200     200                200                200   \n",
       "1    mean               100.5    None              38.85              60.56   \n",
       "2  stddev  57.879184513951124    None  13.96900733155888  26.26472116527124   \n",
       "3     min                   1  Female                 18                 15   \n",
       "4     max                 200    Male                 70                137   \n",
       "\n",
       "  Spending Score (1-100)  \n",
       "0                    200  \n",
       "1                   50.2  \n",
       "2     25.823521668370173  \n",
       "3                      1  \n",
       "4                     99  "
      ]
     },
     "execution_count": 7,
     "metadata": {},
     "output_type": "execute_result"
    }
   ],
   "source": [
    "df.describe().toPandas().head()"
   ]
  },
  {
   "cell_type": "code",
   "execution_count": 8,
   "id": "5bfc46ad",
   "metadata": {},
   "outputs": [],
   "source": [
    "title = [\"CustomerID\",\"Gender\",\"Age\",\"AnnualIncome\",\"SpendingScore\"]"
   ]
  },
  {
   "cell_type": "code",
   "execution_count": 9,
   "id": "e9f823b5",
   "metadata": {},
   "outputs": [],
   "source": [
    "df2 = df.toDF(*title)"
   ]
  },
  {
   "cell_type": "code",
   "execution_count": 10,
   "id": "e590f65d",
   "metadata": {},
   "outputs": [
    {
     "data": {
      "text/html": [
       "<div>\n",
       "<style scoped>\n",
       "    .dataframe tbody tr th:only-of-type {\n",
       "        vertical-align: middle;\n",
       "    }\n",
       "\n",
       "    .dataframe tbody tr th {\n",
       "        vertical-align: top;\n",
       "    }\n",
       "\n",
       "    .dataframe thead th {\n",
       "        text-align: right;\n",
       "    }\n",
       "</style>\n",
       "<table border=\"1\" class=\"dataframe\">\n",
       "  <thead>\n",
       "    <tr style=\"text-align: right;\">\n",
       "      <th></th>\n",
       "      <th>CustomerID</th>\n",
       "      <th>Gender</th>\n",
       "      <th>Age</th>\n",
       "      <th>AnnualIncome</th>\n",
       "      <th>SpendingScore</th>\n",
       "    </tr>\n",
       "  </thead>\n",
       "  <tbody>\n",
       "    <tr>\n",
       "      <th>0</th>\n",
       "      <td>1</td>\n",
       "      <td>Male</td>\n",
       "      <td>19</td>\n",
       "      <td>15</td>\n",
       "      <td>39</td>\n",
       "    </tr>\n",
       "    <tr>\n",
       "      <th>1</th>\n",
       "      <td>2</td>\n",
       "      <td>Male</td>\n",
       "      <td>21</td>\n",
       "      <td>15</td>\n",
       "      <td>81</td>\n",
       "    </tr>\n",
       "    <tr>\n",
       "      <th>2</th>\n",
       "      <td>3</td>\n",
       "      <td>Female</td>\n",
       "      <td>20</td>\n",
       "      <td>16</td>\n",
       "      <td>6</td>\n",
       "    </tr>\n",
       "    <tr>\n",
       "      <th>3</th>\n",
       "      <td>4</td>\n",
       "      <td>Female</td>\n",
       "      <td>23</td>\n",
       "      <td>16</td>\n",
       "      <td>77</td>\n",
       "    </tr>\n",
       "    <tr>\n",
       "      <th>4</th>\n",
       "      <td>5</td>\n",
       "      <td>Female</td>\n",
       "      <td>31</td>\n",
       "      <td>17</td>\n",
       "      <td>40</td>\n",
       "    </tr>\n",
       "  </tbody>\n",
       "</table>\n",
       "</div>"
      ],
      "text/plain": [
       "   CustomerID  Gender  Age  AnnualIncome  SpendingScore\n",
       "0           1    Male   19            15             39\n",
       "1           2    Male   21            15             81\n",
       "2           3  Female   20            16              6\n",
       "3           4  Female   23            16             77\n",
       "4           5  Female   31            17             40"
      ]
     },
     "execution_count": 10,
     "metadata": {},
     "output_type": "execute_result"
    }
   ],
   "source": [
    "df2.toPandas().head()"
   ]
  },
  {
   "cell_type": "code",
   "execution_count": 11,
   "id": "277d9fb3",
   "metadata": {},
   "outputs": [],
   "source": [
    "vector_assembler = VectorAssembler() \\\n",
    ".setInputCols([\"AnnualIncome\",\"SpendingScore\"]) \\\n",
    ".setOutputCol(\"features\")"
   ]
  },
  {
   "cell_type": "code",
   "execution_count": 12,
   "id": "22a87c65",
   "metadata": {},
   "outputs": [],
   "source": [
    "standard_scaler = StandardScaler() \\\n",
    ".setInputCol(\"features\") \\\n",
    ".setOutputCol(\"scaled_features\")"
   ]
  },
  {
   "cell_type": "markdown",
   "id": "d7d69e67",
   "metadata": {},
   "source": [
    "##### Gecenki Projede k degerini kendimiz 5 vermistik burda yapacagimiz islem k degerini bir algoritmaya gore en uygun halini bulmak Silhouette Skoru ile"
   ]
  },
  {
   "cell_type": "code",
   "execution_count": 18,
   "id": "e0f9e1c2",
   "metadata": {},
   "outputs": [],
   "source": [
    "def runKMeans(df2,k):\n",
    "    kmeans_obj = KMeans() \\\n",
    "    .setK(k) \\\n",
    "    .setSeed(142) \\\n",
    "    .setFeaturesCol(\"scaled_features\") \\\n",
    "    .setPredictionCol(\"cluster\")\n",
    "    \n",
    "    pipeline_obj = Pipeline() \\\n",
    "    .setStages([vector_assembler,standard_scaler,kmeans_obj])\n",
    "    \n",
    "    pipeline_model = pipeline_obj.fit(df2)\n",
    "    \n",
    "    return pipeline_model"
   ]
  },
  {
   "cell_type": "code",
   "execution_count": 16,
   "id": "9410e4c6",
   "metadata": {},
   "outputs": [],
   "source": [
    "# simdi belli sayidaki k degerlerinden hangisi iyi onu bulalim"
   ]
  },
  {
   "cell_type": "code",
   "execution_count": 20,
   "id": "065eecba",
   "metadata": {},
   "outputs": [
    {
     "name": "stdout",
     "output_type": "stream",
     "text": [
      "2 0.5389608053072632\n",
      "3 0.6288672765684974\n",
      "4 0.657293825903269\n",
      "5 0.7389823353524685\n",
      "6 0.7348177297879248\n",
      "7 0.7273693883434802\n",
      "8 0.7075606835679795\n",
      "9 0.673148267261042\n",
      "10 0.6567557661228416\n"
     ]
    }
   ],
   "source": [
    "for k in range(2,11):\n",
    "    pipeline_model=runKMeans(df2,k)\n",
    "    transformed_df = pipeline_model.transform(df2)\n",
    "    \n",
    "    evaluator = ClusteringEvaluator() \\\n",
    "    .setFeaturesCol(\"scaled_features\") \\\n",
    "    .setPredictionCol(\"cluster\") \\\n",
    "    .setMetricName(\"silhouette\") \n",
    "    \n",
    "    score = evaluator.evaluate(transformed_df)\n",
    "    \n",
    "    print(k,score)"
   ]
  },
  {
   "cell_type": "markdown",
   "id": "4a521a78",
   "metadata": {},
   "source": [
    "#### Burda 1 en yakin olan k degeri 5 cikti yani bize en dogru degeri k = 5 oldugunda vericektir bir onceki uygulamada dogru bir islem yapmisiz"
   ]
  },
  {
   "cell_type": "markdown",
   "id": "0e61c7f5",
   "metadata": {},
   "source": [
    "# Tekrardan 5 e ayarlayalim"
   ]
  },
  {
   "cell_type": "code",
   "execution_count": 24,
   "id": "e74aa67f",
   "metadata": {},
   "outputs": [],
   "source": [
    "kmeans_obj = KMeans() \\\n",
    ".setK(5) \\\n",
    ".setSeed(142) \\\n",
    ".setFeaturesCol(\"scaled_features\") \\\n",
    ".setPredictionCol(\"cluster\")\n",
    "    \n",
    "pipeline_obj = Pipeline() \\\n",
    ".setStages([vector_assembler,standard_scaler,kmeans_obj])\n",
    "    \n",
    "pipeline_model = pipeline_obj.fit(df2)\n",
    "transformed_df = pipeline_model.transform(df2)"
   ]
  },
  {
   "cell_type": "code",
   "execution_count": 25,
   "id": "db8336fc",
   "metadata": {},
   "outputs": [
    {
     "data": {
      "text/html": [
       "<div>\n",
       "<style scoped>\n",
       "    .dataframe tbody tr th:only-of-type {\n",
       "        vertical-align: middle;\n",
       "    }\n",
       "\n",
       "    .dataframe tbody tr th {\n",
       "        vertical-align: top;\n",
       "    }\n",
       "\n",
       "    .dataframe thead th {\n",
       "        text-align: right;\n",
       "    }\n",
       "</style>\n",
       "<table border=\"1\" class=\"dataframe\">\n",
       "  <thead>\n",
       "    <tr style=\"text-align: right;\">\n",
       "      <th></th>\n",
       "      <th>CustomerID</th>\n",
       "      <th>Gender</th>\n",
       "      <th>Age</th>\n",
       "      <th>AnnualIncome</th>\n",
       "      <th>SpendingScore</th>\n",
       "      <th>features</th>\n",
       "      <th>scaled_features</th>\n",
       "      <th>cluster</th>\n",
       "    </tr>\n",
       "  </thead>\n",
       "  <tbody>\n",
       "    <tr>\n",
       "      <th>0</th>\n",
       "      <td>1</td>\n",
       "      <td>Male</td>\n",
       "      <td>19</td>\n",
       "      <td>15</td>\n",
       "      <td>39</td>\n",
       "      <td>[15.0, 39.0]</td>\n",
       "      <td>[0.5711082903036444, 1.510251022337088]</td>\n",
       "      <td>1</td>\n",
       "    </tr>\n",
       "    <tr>\n",
       "      <th>1</th>\n",
       "      <td>2</td>\n",
       "      <td>Male</td>\n",
       "      <td>21</td>\n",
       "      <td>15</td>\n",
       "      <td>81</td>\n",
       "      <td>[15.0, 81.0]</td>\n",
       "      <td>[0.5711082903036444, 3.1366752002385674]</td>\n",
       "      <td>2</td>\n",
       "    </tr>\n",
       "    <tr>\n",
       "      <th>2</th>\n",
       "      <td>3</td>\n",
       "      <td>Female</td>\n",
       "      <td>20</td>\n",
       "      <td>16</td>\n",
       "      <td>6</td>\n",
       "      <td>[16.0, 6.0]</td>\n",
       "      <td>[0.6091821763238874, 0.2323463111287828]</td>\n",
       "      <td>1</td>\n",
       "    </tr>\n",
       "    <tr>\n",
       "      <th>3</th>\n",
       "      <td>4</td>\n",
       "      <td>Female</td>\n",
       "      <td>23</td>\n",
       "      <td>16</td>\n",
       "      <td>77</td>\n",
       "      <td>[16.0, 77.0]</td>\n",
       "      <td>[0.6091821763238874, 2.9817776594860455]</td>\n",
       "      <td>2</td>\n",
       "    </tr>\n",
       "    <tr>\n",
       "      <th>4</th>\n",
       "      <td>5</td>\n",
       "      <td>Female</td>\n",
       "      <td>31</td>\n",
       "      <td>17</td>\n",
       "      <td>40</td>\n",
       "      <td>[17.0, 40.0]</td>\n",
       "      <td>[0.6472560623441304, 1.5489754075252185]</td>\n",
       "      <td>1</td>\n",
       "    </tr>\n",
       "  </tbody>\n",
       "</table>\n",
       "</div>"
      ],
      "text/plain": [
       "   CustomerID  Gender  Age  AnnualIncome  SpendingScore      features  \\\n",
       "0           1    Male   19            15             39  [15.0, 39.0]   \n",
       "1           2    Male   21            15             81  [15.0, 81.0]   \n",
       "2           3  Female   20            16              6   [16.0, 6.0]   \n",
       "3           4  Female   23            16             77  [16.0, 77.0]   \n",
       "4           5  Female   31            17             40  [17.0, 40.0]   \n",
       "\n",
       "                            scaled_features  cluster  \n",
       "0   [0.5711082903036444, 1.510251022337088]        1  \n",
       "1  [0.5711082903036444, 3.1366752002385674]        2  \n",
       "2  [0.6091821763238874, 0.2323463111287828]        1  \n",
       "3  [0.6091821763238874, 2.9817776594860455]        2  \n",
       "4  [0.6472560623441304, 1.5489754075252185]        1  "
      ]
     },
     "execution_count": 25,
     "metadata": {},
     "output_type": "execute_result"
    }
   ],
   "source": [
    "transformed_df.limit(5).toPandas().head()"
   ]
  },
  {
   "cell_type": "code",
   "execution_count": 26,
   "id": "5b211d14",
   "metadata": {},
   "outputs": [
    {
     "name": "stdout",
     "output_type": "stream",
     "text": [
      "+-------+-----+\n",
      "|cluster|count|\n",
      "+-------+-----+\n",
      "|      1|   23|\n",
      "|      3|   39|\n",
      "|      4|   36|\n",
      "|      2|   22|\n",
      "|      0|   80|\n",
      "+-------+-----+\n",
      "\n"
     ]
    }
   ],
   "source": [
    "transformed_df.groupBy(\"cluster\").count().show()"
   ]
  },
  {
   "cell_type": "code",
   "execution_count": null,
   "id": "d497d1c3",
   "metadata": {},
   "outputs": [],
   "source": []
  }
 ],
 "metadata": {
  "kernelspec": {
   "display_name": "Python 3",
   "language": "python",
   "name": "python3"
  },
  "language_info": {
   "codemirror_mode": {
    "name": "ipython",
    "version": 3
   },
   "file_extension": ".py",
   "mimetype": "text/x-python",
   "name": "python",
   "nbconvert_exporter": "python",
   "pygments_lexer": "ipython3",
   "version": "3.6.15"
  }
 },
 "nbformat": 4,
 "nbformat_minor": 5
}
