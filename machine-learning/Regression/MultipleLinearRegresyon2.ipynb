{
 "cells": [
  {
   "cell_type": "code",
   "execution_count": 1,
   "id": "23865028",
   "metadata": {},
   "outputs": [],
   "source": [
    "\n",
    "\n",
    "import findspark\n",
    "findspark.init()\n",
    "\n"
   ]
  },
  {
   "cell_type": "code",
   "execution_count": 2,
   "id": "585d8d1f",
   "metadata": {},
   "outputs": [],
   "source": [
    "from pyspark.sql import SparkSession\n",
    "spark = SparkSession.builder \\\n",
    ".appName(\"MultipleLinearRegresyon2\") \\\n",
    ".master(\"local[4]\") \\\n",
    ".config(\"spark.driver.memory\",\"2g\") \\\n",
    ".config(\"spark.executor.memory\",\"4g\") \\\n",
    ".getOrCreate()"
   ]
  },
  {
   "cell_type": "markdown",
   "id": "21e60d0d",
   "metadata": {},
   "source": [
    "# Veri Okuma"
   ]
  },
  {
   "cell_type": "code",
   "execution_count": 3,
   "id": "966dc5db",
   "metadata": {},
   "outputs": [],
   "source": [
    "df = spark.read.format(\"csv\") \\\n",
    ".option(\"header\",True) \\\n",
    ".option(\"inferSchema\",True) \\\n",
    ".option(\"sep\",\",\") \\\n",
    ".load(\"/home/taha/Downloads/Life Expectancy Data.csv\")"
   ]
  },
  {
   "cell_type": "code",
   "execution_count": 4,
   "id": "59fb7151",
   "metadata": {},
   "outputs": [
    {
     "data": {
      "text/html": [
       "<div>\n",
       "<style scoped>\n",
       "    .dataframe tbody tr th:only-of-type {\n",
       "        vertical-align: middle;\n",
       "    }\n",
       "\n",
       "    .dataframe tbody tr th {\n",
       "        vertical-align: top;\n",
       "    }\n",
       "\n",
       "    .dataframe thead th {\n",
       "        text-align: right;\n",
       "    }\n",
       "</style>\n",
       "<table border=\"1\" class=\"dataframe\">\n",
       "  <thead>\n",
       "    <tr style=\"text-align: right;\">\n",
       "      <th></th>\n",
       "      <th>Country</th>\n",
       "      <th>Year</th>\n",
       "      <th>Status</th>\n",
       "      <th>Life expectancy</th>\n",
       "      <th>Adult Mortality</th>\n",
       "      <th>infant deaths</th>\n",
       "      <th>Alcohol</th>\n",
       "      <th>percentage expenditure</th>\n",
       "      <th>Hepatitis B</th>\n",
       "      <th>Measles</th>\n",
       "      <th>...</th>\n",
       "      <th>Polio</th>\n",
       "      <th>Total expenditure</th>\n",
       "      <th>Diphtheria</th>\n",
       "      <th>HIV/AIDS</th>\n",
       "      <th>GDP</th>\n",
       "      <th>Population</th>\n",
       "      <th>thinness  1-19 years</th>\n",
       "      <th>thinness 5-9 years</th>\n",
       "      <th>Income composition of resources</th>\n",
       "      <th>Schooling</th>\n",
       "    </tr>\n",
       "  </thead>\n",
       "  <tbody>\n",
       "    <tr>\n",
       "      <th>0</th>\n",
       "      <td>Afghanistan</td>\n",
       "      <td>2015</td>\n",
       "      <td>Developing</td>\n",
       "      <td>65.0</td>\n",
       "      <td>263.0</td>\n",
       "      <td>62</td>\n",
       "      <td>0.01</td>\n",
       "      <td>71.279624</td>\n",
       "      <td>65.0</td>\n",
       "      <td>1154</td>\n",
       "      <td>...</td>\n",
       "      <td>6.0</td>\n",
       "      <td>8.16</td>\n",
       "      <td>65.0</td>\n",
       "      <td>0.1</td>\n",
       "      <td>584.259210</td>\n",
       "      <td>33736494.0</td>\n",
       "      <td>17.2</td>\n",
       "      <td>17.3</td>\n",
       "      <td>0.479</td>\n",
       "      <td>10.1</td>\n",
       "    </tr>\n",
       "    <tr>\n",
       "      <th>1</th>\n",
       "      <td>Afghanistan</td>\n",
       "      <td>2014</td>\n",
       "      <td>Developing</td>\n",
       "      <td>59.9</td>\n",
       "      <td>271.0</td>\n",
       "      <td>64</td>\n",
       "      <td>0.01</td>\n",
       "      <td>73.523582</td>\n",
       "      <td>62.0</td>\n",
       "      <td>492</td>\n",
       "      <td>...</td>\n",
       "      <td>58.0</td>\n",
       "      <td>8.18</td>\n",
       "      <td>62.0</td>\n",
       "      <td>0.1</td>\n",
       "      <td>612.696514</td>\n",
       "      <td>327582.0</td>\n",
       "      <td>17.5</td>\n",
       "      <td>17.5</td>\n",
       "      <td>0.476</td>\n",
       "      <td>10.0</td>\n",
       "    </tr>\n",
       "    <tr>\n",
       "      <th>2</th>\n",
       "      <td>Afghanistan</td>\n",
       "      <td>2013</td>\n",
       "      <td>Developing</td>\n",
       "      <td>59.9</td>\n",
       "      <td>268.0</td>\n",
       "      <td>66</td>\n",
       "      <td>0.01</td>\n",
       "      <td>73.219243</td>\n",
       "      <td>64.0</td>\n",
       "      <td>430</td>\n",
       "      <td>...</td>\n",
       "      <td>62.0</td>\n",
       "      <td>8.13</td>\n",
       "      <td>64.0</td>\n",
       "      <td>0.1</td>\n",
       "      <td>631.744976</td>\n",
       "      <td>31731688.0</td>\n",
       "      <td>17.7</td>\n",
       "      <td>17.7</td>\n",
       "      <td>0.470</td>\n",
       "      <td>9.9</td>\n",
       "    </tr>\n",
       "    <tr>\n",
       "      <th>3</th>\n",
       "      <td>Afghanistan</td>\n",
       "      <td>2012</td>\n",
       "      <td>Developing</td>\n",
       "      <td>59.5</td>\n",
       "      <td>272.0</td>\n",
       "      <td>69</td>\n",
       "      <td>0.01</td>\n",
       "      <td>78.184215</td>\n",
       "      <td>67.0</td>\n",
       "      <td>2787</td>\n",
       "      <td>...</td>\n",
       "      <td>67.0</td>\n",
       "      <td>8.52</td>\n",
       "      <td>67.0</td>\n",
       "      <td>0.1</td>\n",
       "      <td>669.959000</td>\n",
       "      <td>3696958.0</td>\n",
       "      <td>17.9</td>\n",
       "      <td>18.0</td>\n",
       "      <td>0.463</td>\n",
       "      <td>9.8</td>\n",
       "    </tr>\n",
       "    <tr>\n",
       "      <th>4</th>\n",
       "      <td>Afghanistan</td>\n",
       "      <td>2011</td>\n",
       "      <td>Developing</td>\n",
       "      <td>59.2</td>\n",
       "      <td>275.0</td>\n",
       "      <td>71</td>\n",
       "      <td>0.01</td>\n",
       "      <td>7.097109</td>\n",
       "      <td>68.0</td>\n",
       "      <td>3013</td>\n",
       "      <td>...</td>\n",
       "      <td>68.0</td>\n",
       "      <td>7.87</td>\n",
       "      <td>68.0</td>\n",
       "      <td>0.1</td>\n",
       "      <td>63.537231</td>\n",
       "      <td>2978599.0</td>\n",
       "      <td>18.2</td>\n",
       "      <td>18.2</td>\n",
       "      <td>0.454</td>\n",
       "      <td>9.5</td>\n",
       "    </tr>\n",
       "  </tbody>\n",
       "</table>\n",
       "<p>5 rows × 22 columns</p>\n",
       "</div>"
      ],
      "text/plain": [
       "       Country  Year      Status  Life expectancy   Adult Mortality  \\\n",
       "0  Afghanistan  2015  Developing              65.0            263.0   \n",
       "1  Afghanistan  2014  Developing              59.9            271.0   \n",
       "2  Afghanistan  2013  Developing              59.9            268.0   \n",
       "3  Afghanistan  2012  Developing              59.5            272.0   \n",
       "4  Afghanistan  2011  Developing              59.2            275.0   \n",
       "\n",
       "   infant deaths  Alcohol  percentage expenditure  Hepatitis B  Measles   ...  \\\n",
       "0             62     0.01               71.279624         65.0      1154  ...   \n",
       "1             64     0.01               73.523582         62.0       492  ...   \n",
       "2             66     0.01               73.219243         64.0       430  ...   \n",
       "3             69     0.01               78.184215         67.0      2787  ...   \n",
       "4             71     0.01                7.097109         68.0      3013  ...   \n",
       "\n",
       "   Polio  Total expenditure  Diphtheria    HIV/AIDS         GDP  Population  \\\n",
       "0    6.0               8.16         65.0        0.1  584.259210  33736494.0   \n",
       "1   58.0               8.18         62.0        0.1  612.696514    327582.0   \n",
       "2   62.0               8.13         64.0        0.1  631.744976  31731688.0   \n",
       "3   67.0               8.52         67.0        0.1  669.959000   3696958.0   \n",
       "4   68.0               7.87         68.0        0.1   63.537231   2978599.0   \n",
       "\n",
       "    thinness  1-19 years   thinness 5-9 years  \\\n",
       "0                   17.2                 17.3   \n",
       "1                   17.5                 17.5   \n",
       "2                   17.7                 17.7   \n",
       "3                   17.9                 18.0   \n",
       "4                   18.2                 18.2   \n",
       "\n",
       "   Income composition of resources  Schooling  \n",
       "0                            0.479       10.1  \n",
       "1                            0.476       10.0  \n",
       "2                            0.470        9.9  \n",
       "3                            0.463        9.8  \n",
       "4                            0.454        9.5  \n",
       "\n",
       "[5 rows x 22 columns]"
      ]
     },
     "execution_count": 4,
     "metadata": {},
     "output_type": "execute_result"
    }
   ],
   "source": [
    "df.toPandas().head()"
   ]
  },
  {
   "cell_type": "markdown",
   "id": "64d89746",
   "metadata": {},
   "source": [
    "# Nitelik İSimlerini Degistirelim"
   ]
  },
  {
   "cell_type": "code",
   "execution_count": 5,
   "id": "44a4c3e7",
   "metadata": {},
   "outputs": [],
   "source": [
    "new_cols = [\"Country\", \"Year\", \"Status\", \"label\", \"AdultMortality\",\n",
    "      \"InfantDeaths\", \"Alcohol\", \"PercentageExpenditure\", \"HepatitisB\", \"Measles\", \"BMI\", \"UnderFiveDeaths\",\n",
    "      \"Polio\", \"TotalExpenditure\", \"Diphtheria\", \"HIV_AIDS\", \"GDP\", \"Population\", \"Thinness119\", \"Thinness59\",\n",
    "      \"IncomeCompositionOfResources\", \"Schooling\"]\n"
   ]
  },
  {
   "cell_type": "code",
   "execution_count": 6,
   "id": "5de2fd05",
   "metadata": {},
   "outputs": [],
   "source": [
    "df2 = df.toDF(*new_cols)"
   ]
  },
  {
   "cell_type": "code",
   "execution_count": 7,
   "id": "793730ca",
   "metadata": {},
   "outputs": [
    {
     "data": {
      "text/html": [
       "<div>\n",
       "<style scoped>\n",
       "    .dataframe tbody tr th:only-of-type {\n",
       "        vertical-align: middle;\n",
       "    }\n",
       "\n",
       "    .dataframe tbody tr th {\n",
       "        vertical-align: top;\n",
       "    }\n",
       "\n",
       "    .dataframe thead th {\n",
       "        text-align: right;\n",
       "    }\n",
       "</style>\n",
       "<table border=\"1\" class=\"dataframe\">\n",
       "  <thead>\n",
       "    <tr style=\"text-align: right;\">\n",
       "      <th></th>\n",
       "      <th>Country</th>\n",
       "      <th>Year</th>\n",
       "      <th>Status</th>\n",
       "      <th>label</th>\n",
       "      <th>AdultMortality</th>\n",
       "      <th>InfantDeaths</th>\n",
       "      <th>Alcohol</th>\n",
       "      <th>PercentageExpenditure</th>\n",
       "      <th>HepatitisB</th>\n",
       "      <th>Measles</th>\n",
       "      <th>...</th>\n",
       "      <th>Polio</th>\n",
       "      <th>TotalExpenditure</th>\n",
       "      <th>Diphtheria</th>\n",
       "      <th>HIV_AIDS</th>\n",
       "      <th>GDP</th>\n",
       "      <th>Population</th>\n",
       "      <th>Thinness119</th>\n",
       "      <th>Thinness59</th>\n",
       "      <th>IncomeCompositionOfResources</th>\n",
       "      <th>Schooling</th>\n",
       "    </tr>\n",
       "  </thead>\n",
       "  <tbody>\n",
       "    <tr>\n",
       "      <th>0</th>\n",
       "      <td>Afghanistan</td>\n",
       "      <td>2015</td>\n",
       "      <td>Developing</td>\n",
       "      <td>65.0</td>\n",
       "      <td>263.0</td>\n",
       "      <td>62</td>\n",
       "      <td>0.01</td>\n",
       "      <td>71.279624</td>\n",
       "      <td>65.0</td>\n",
       "      <td>1154</td>\n",
       "      <td>...</td>\n",
       "      <td>6.0</td>\n",
       "      <td>8.16</td>\n",
       "      <td>65.0</td>\n",
       "      <td>0.1</td>\n",
       "      <td>584.259210</td>\n",
       "      <td>33736494.0</td>\n",
       "      <td>17.2</td>\n",
       "      <td>17.3</td>\n",
       "      <td>0.479</td>\n",
       "      <td>10.1</td>\n",
       "    </tr>\n",
       "    <tr>\n",
       "      <th>1</th>\n",
       "      <td>Afghanistan</td>\n",
       "      <td>2014</td>\n",
       "      <td>Developing</td>\n",
       "      <td>59.9</td>\n",
       "      <td>271.0</td>\n",
       "      <td>64</td>\n",
       "      <td>0.01</td>\n",
       "      <td>73.523582</td>\n",
       "      <td>62.0</td>\n",
       "      <td>492</td>\n",
       "      <td>...</td>\n",
       "      <td>58.0</td>\n",
       "      <td>8.18</td>\n",
       "      <td>62.0</td>\n",
       "      <td>0.1</td>\n",
       "      <td>612.696514</td>\n",
       "      <td>327582.0</td>\n",
       "      <td>17.5</td>\n",
       "      <td>17.5</td>\n",
       "      <td>0.476</td>\n",
       "      <td>10.0</td>\n",
       "    </tr>\n",
       "    <tr>\n",
       "      <th>2</th>\n",
       "      <td>Afghanistan</td>\n",
       "      <td>2013</td>\n",
       "      <td>Developing</td>\n",
       "      <td>59.9</td>\n",
       "      <td>268.0</td>\n",
       "      <td>66</td>\n",
       "      <td>0.01</td>\n",
       "      <td>73.219243</td>\n",
       "      <td>64.0</td>\n",
       "      <td>430</td>\n",
       "      <td>...</td>\n",
       "      <td>62.0</td>\n",
       "      <td>8.13</td>\n",
       "      <td>64.0</td>\n",
       "      <td>0.1</td>\n",
       "      <td>631.744976</td>\n",
       "      <td>31731688.0</td>\n",
       "      <td>17.7</td>\n",
       "      <td>17.7</td>\n",
       "      <td>0.470</td>\n",
       "      <td>9.9</td>\n",
       "    </tr>\n",
       "    <tr>\n",
       "      <th>3</th>\n",
       "      <td>Afghanistan</td>\n",
       "      <td>2012</td>\n",
       "      <td>Developing</td>\n",
       "      <td>59.5</td>\n",
       "      <td>272.0</td>\n",
       "      <td>69</td>\n",
       "      <td>0.01</td>\n",
       "      <td>78.184215</td>\n",
       "      <td>67.0</td>\n",
       "      <td>2787</td>\n",
       "      <td>...</td>\n",
       "      <td>67.0</td>\n",
       "      <td>8.52</td>\n",
       "      <td>67.0</td>\n",
       "      <td>0.1</td>\n",
       "      <td>669.959000</td>\n",
       "      <td>3696958.0</td>\n",
       "      <td>17.9</td>\n",
       "      <td>18.0</td>\n",
       "      <td>0.463</td>\n",
       "      <td>9.8</td>\n",
       "    </tr>\n",
       "    <tr>\n",
       "      <th>4</th>\n",
       "      <td>Afghanistan</td>\n",
       "      <td>2011</td>\n",
       "      <td>Developing</td>\n",
       "      <td>59.2</td>\n",
       "      <td>275.0</td>\n",
       "      <td>71</td>\n",
       "      <td>0.01</td>\n",
       "      <td>7.097109</td>\n",
       "      <td>68.0</td>\n",
       "      <td>3013</td>\n",
       "      <td>...</td>\n",
       "      <td>68.0</td>\n",
       "      <td>7.87</td>\n",
       "      <td>68.0</td>\n",
       "      <td>0.1</td>\n",
       "      <td>63.537231</td>\n",
       "      <td>2978599.0</td>\n",
       "      <td>18.2</td>\n",
       "      <td>18.2</td>\n",
       "      <td>0.454</td>\n",
       "      <td>9.5</td>\n",
       "    </tr>\n",
       "  </tbody>\n",
       "</table>\n",
       "<p>5 rows × 22 columns</p>\n",
       "</div>"
      ],
      "text/plain": [
       "       Country  Year      Status  label  AdultMortality  InfantDeaths  \\\n",
       "0  Afghanistan  2015  Developing   65.0           263.0            62   \n",
       "1  Afghanistan  2014  Developing   59.9           271.0            64   \n",
       "2  Afghanistan  2013  Developing   59.9           268.0            66   \n",
       "3  Afghanistan  2012  Developing   59.5           272.0            69   \n",
       "4  Afghanistan  2011  Developing   59.2           275.0            71   \n",
       "\n",
       "   Alcohol  PercentageExpenditure  HepatitisB  Measles  ...  Polio  \\\n",
       "0     0.01              71.279624        65.0     1154  ...    6.0   \n",
       "1     0.01              73.523582        62.0      492  ...   58.0   \n",
       "2     0.01              73.219243        64.0      430  ...   62.0   \n",
       "3     0.01              78.184215        67.0     2787  ...   67.0   \n",
       "4     0.01               7.097109        68.0     3013  ...   68.0   \n",
       "\n",
       "   TotalExpenditure  Diphtheria  HIV_AIDS         GDP  Population  \\\n",
       "0              8.16        65.0       0.1  584.259210  33736494.0   \n",
       "1              8.18        62.0       0.1  612.696514    327582.0   \n",
       "2              8.13        64.0       0.1  631.744976  31731688.0   \n",
       "3              8.52        67.0       0.1  669.959000   3696958.0   \n",
       "4              7.87        68.0       0.1   63.537231   2978599.0   \n",
       "\n",
       "   Thinness119  Thinness59  IncomeCompositionOfResources  Schooling  \n",
       "0         17.2        17.3                         0.479       10.1  \n",
       "1         17.5        17.5                         0.476       10.0  \n",
       "2         17.7        17.7                         0.470        9.9  \n",
       "3         17.9        18.0                         0.463        9.8  \n",
       "4         18.2        18.2                         0.454        9.5  \n",
       "\n",
       "[5 rows x 22 columns]"
      ]
     },
     "execution_count": 7,
     "metadata": {},
     "output_type": "execute_result"
    }
   ],
   "source": [
    "df2.toPandas().head()"
   ]
  },
  {
   "cell_type": "markdown",
   "id": "4c1aad54",
   "metadata": {},
   "source": [
    "# Kategorileri Ayiralim"
   ]
  },
  {
   "cell_type": "code",
   "execution_count": 226,
   "id": "b25a2740",
   "metadata": {},
   "outputs": [],
   "source": [
    "\"\"\"\n",
    "numerical_cols = [ \"Year\", \"AdultMortality\",\n",
    "      \"InfantDeaths\", \"Alcohol\", \"PercentageExpenditure\", \"HepatitisB\", \"Measles\", \"BMI\", \"UnderFiveDeaths\",\n",
    "      \"Polio\", \"TotalExpenditure\", \"Diphtheria\", \"HIV_AIDS\", \"GDP\", \"Population\", \"Thinness119\", \"Thinness59\",\n",
    "      \"IncomeCompositionOfResources\", \"Schooling\"]\n",
    "\"\"\"\n",
    "\n",
    "numerical_cols = [ \"Year\", \"AdultMortality\",\n",
    "      \"InfantDeaths\", \"Alcohol\",   \"BMI\", \"UnderFiveDeaths\",\n",
    "       \"TotalExpenditure\", \"Diphtheria\", \"HIV_AIDS\", \"GDP\",\n",
    "      \"IncomeCompositionOfResources\", \"Schooling\"]\n",
    "\n",
    "\n",
    "\n",
    "categorical_cols = [\"Country\",\"Status\"]\n",
    "\n",
    "label = [\"label\"]"
   ]
  },
  {
   "cell_type": "markdown",
   "id": "360f169f",
   "metadata": {},
   "source": [
    "### Bunlari bu sekilde ayirmamizin sebebi regresyon modelinde\n",
    "### cikarma yaparken islemleri kolaylastirmamiz"
   ]
  },
  {
   "cell_type": "markdown",
   "id": "c23693a9",
   "metadata": {},
   "source": [
    "# Veri Temizligi"
   ]
  },
  {
   "cell_type": "code",
   "execution_count": 227,
   "id": "1fd10930",
   "metadata": {},
   "outputs": [
    {
     "data": {
      "text/html": [
       "<div>\n",
       "<style scoped>\n",
       "    .dataframe tbody tr th:only-of-type {\n",
       "        vertical-align: middle;\n",
       "    }\n",
       "\n",
       "    .dataframe tbody tr th {\n",
       "        vertical-align: top;\n",
       "    }\n",
       "\n",
       "    .dataframe thead th {\n",
       "        text-align: right;\n",
       "    }\n",
       "</style>\n",
       "<table border=\"1\" class=\"dataframe\">\n",
       "  <thead>\n",
       "    <tr style=\"text-align: right;\">\n",
       "      <th></th>\n",
       "      <th>summary</th>\n",
       "      <th>Country</th>\n",
       "      <th>Year</th>\n",
       "      <th>Status</th>\n",
       "      <th>label</th>\n",
       "      <th>AdultMortality</th>\n",
       "      <th>InfantDeaths</th>\n",
       "      <th>Alcohol</th>\n",
       "      <th>PercentageExpenditure</th>\n",
       "      <th>HepatitisB</th>\n",
       "      <th>...</th>\n",
       "      <th>Polio</th>\n",
       "      <th>TotalExpenditure</th>\n",
       "      <th>Diphtheria</th>\n",
       "      <th>HIV_AIDS</th>\n",
       "      <th>GDP</th>\n",
       "      <th>Population</th>\n",
       "      <th>Thinness119</th>\n",
       "      <th>Thinness59</th>\n",
       "      <th>IncomeCompositionOfResources</th>\n",
       "      <th>Schooling</th>\n",
       "    </tr>\n",
       "  </thead>\n",
       "  <tbody>\n",
       "    <tr>\n",
       "      <th>0</th>\n",
       "      <td>count</td>\n",
       "      <td>2938</td>\n",
       "      <td>2938</td>\n",
       "      <td>2938</td>\n",
       "      <td>2928</td>\n",
       "      <td>2928</td>\n",
       "      <td>2938</td>\n",
       "      <td>2744</td>\n",
       "      <td>2938</td>\n",
       "      <td>2385</td>\n",
       "      <td>...</td>\n",
       "      <td>2919</td>\n",
       "      <td>2712</td>\n",
       "      <td>2919</td>\n",
       "      <td>2938</td>\n",
       "      <td>2490</td>\n",
       "      <td>2286</td>\n",
       "      <td>2904</td>\n",
       "      <td>2904</td>\n",
       "      <td>2771</td>\n",
       "      <td>2775</td>\n",
       "    </tr>\n",
       "    <tr>\n",
       "      <th>1</th>\n",
       "      <td>mean</td>\n",
       "      <td>None</td>\n",
       "      <td>2007.5187202178352</td>\n",
       "      <td>None</td>\n",
       "      <td>69.22493169398912</td>\n",
       "      <td>164.79644808743168</td>\n",
       "      <td>30.303948264125257</td>\n",
       "      <td>4.6028607871720375</td>\n",
       "      <td>738.2512954533823</td>\n",
       "      <td>80.94046121593291</td>\n",
       "      <td>...</td>\n",
       "      <td>82.55018842069202</td>\n",
       "      <td>5.9381895280235915</td>\n",
       "      <td>82.32408359027065</td>\n",
       "      <td>1.7421034717494939</td>\n",
       "      <td>7483.158469138481</td>\n",
       "      <td>1.2753375120052498E7</td>\n",
       "      <td>4.8397038567493205</td>\n",
       "      <td>4.870316804407711</td>\n",
       "      <td>0.6275510645976166</td>\n",
       "      <td>11.992792792792786</td>\n",
       "    </tr>\n",
       "    <tr>\n",
       "      <th>2</th>\n",
       "      <td>stddev</td>\n",
       "      <td>None</td>\n",
       "      <td>4.613840940258099</td>\n",
       "      <td>None</td>\n",
       "      <td>9.523867487824305</td>\n",
       "      <td>124.2920790034219</td>\n",
       "      <td>117.92650131339906</td>\n",
       "      <td>4.052412658755658</td>\n",
       "      <td>1987.914858016194</td>\n",
       "      <td>25.070015593018063</td>\n",
       "      <td>...</td>\n",
       "      <td>23.428045949468476</td>\n",
       "      <td>2.498319672155633</td>\n",
       "      <td>23.7169120685726</td>\n",
       "      <td>5.077784531086547</td>\n",
       "      <td>14270.169341515959</td>\n",
       "      <td>6.101209650842794E7</td>\n",
       "      <td>4.420194947144322</td>\n",
       "      <td>4.508882086983007</td>\n",
       "      <td>0.2109035551515931</td>\n",
       "      <td>3.3589197211023554</td>\n",
       "    </tr>\n",
       "    <tr>\n",
       "      <th>3</th>\n",
       "      <td>min</td>\n",
       "      <td>Afghanistan</td>\n",
       "      <td>2000</td>\n",
       "      <td>Developed</td>\n",
       "      <td>36.3</td>\n",
       "      <td>1</td>\n",
       "      <td>0</td>\n",
       "      <td>0.01</td>\n",
       "      <td>0.0</td>\n",
       "      <td>1</td>\n",
       "      <td>...</td>\n",
       "      <td>3</td>\n",
       "      <td>0.37</td>\n",
       "      <td>2</td>\n",
       "      <td>0.1</td>\n",
       "      <td>1.68135</td>\n",
       "      <td>34.0</td>\n",
       "      <td>0.1</td>\n",
       "      <td>0.1</td>\n",
       "      <td>0.0</td>\n",
       "      <td>0.0</td>\n",
       "    </tr>\n",
       "    <tr>\n",
       "      <th>4</th>\n",
       "      <td>max</td>\n",
       "      <td>Zimbabwe</td>\n",
       "      <td>2015</td>\n",
       "      <td>Developing</td>\n",
       "      <td>89.0</td>\n",
       "      <td>723</td>\n",
       "      <td>1800</td>\n",
       "      <td>17.87</td>\n",
       "      <td>19479.91161</td>\n",
       "      <td>99</td>\n",
       "      <td>...</td>\n",
       "      <td>99</td>\n",
       "      <td>17.6</td>\n",
       "      <td>99</td>\n",
       "      <td>50.6</td>\n",
       "      <td>119172.7418</td>\n",
       "      <td>1.293859294E9</td>\n",
       "      <td>27.7</td>\n",
       "      <td>28.6</td>\n",
       "      <td>0.948</td>\n",
       "      <td>20.7</td>\n",
       "    </tr>\n",
       "  </tbody>\n",
       "</table>\n",
       "<p>5 rows × 23 columns</p>\n",
       "</div>"
      ],
      "text/plain": [
       "  summary      Country                Year      Status              label  \\\n",
       "0   count         2938                2938        2938               2928   \n",
       "1    mean         None  2007.5187202178352        None  69.22493169398912   \n",
       "2  stddev         None   4.613840940258099        None  9.523867487824305   \n",
       "3     min  Afghanistan                2000   Developed               36.3   \n",
       "4     max     Zimbabwe                2015  Developing               89.0   \n",
       "\n",
       "       AdultMortality        InfantDeaths             Alcohol  \\\n",
       "0                2928                2938                2744   \n",
       "1  164.79644808743168  30.303948264125257  4.6028607871720375   \n",
       "2   124.2920790034219  117.92650131339906   4.052412658755658   \n",
       "3                   1                   0                0.01   \n",
       "4                 723                1800               17.87   \n",
       "\n",
       "  PercentageExpenditure          HepatitisB  ...               Polio  \\\n",
       "0                  2938                2385  ...                2919   \n",
       "1     738.2512954533823   80.94046121593291  ...   82.55018842069202   \n",
       "2     1987.914858016194  25.070015593018063  ...  23.428045949468476   \n",
       "3                   0.0                   1  ...                   3   \n",
       "4           19479.91161                  99  ...                  99   \n",
       "\n",
       "     TotalExpenditure         Diphtheria            HIV_AIDS  \\\n",
       "0                2712               2919                2938   \n",
       "1  5.9381895280235915  82.32408359027065  1.7421034717494939   \n",
       "2   2.498319672155633   23.7169120685726   5.077784531086547   \n",
       "3                0.37                  2                 0.1   \n",
       "4                17.6                 99                50.6   \n",
       "\n",
       "                  GDP            Population         Thinness119  \\\n",
       "0                2490                  2286                2904   \n",
       "1   7483.158469138481  1.2753375120052498E7  4.8397038567493205   \n",
       "2  14270.169341515959   6.101209650842794E7   4.420194947144322   \n",
       "3             1.68135                  34.0                 0.1   \n",
       "4         119172.7418         1.293859294E9                27.7   \n",
       "\n",
       "          Thinness59 IncomeCompositionOfResources           Schooling  \n",
       "0               2904                         2771                2775  \n",
       "1  4.870316804407711           0.6275510645976166  11.992792792792786  \n",
       "2  4.508882086983007           0.2109035551515931  3.3589197211023554  \n",
       "3                0.1                          0.0                 0.0  \n",
       "4               28.6                        0.948                20.7  \n",
       "\n",
       "[5 rows x 23 columns]"
      ]
     },
     "execution_count": 227,
     "metadata": {},
     "output_type": "execute_result"
    }
   ],
   "source": [
    "df2.describe().toPandas().head()"
   ]
  },
  {
   "cell_type": "code",
   "execution_count": 228,
   "id": "b368b403",
   "metadata": {},
   "outputs": [],
   "source": [
    "df3 = df2.na.drop()"
   ]
  },
  {
   "cell_type": "code",
   "execution_count": 229,
   "id": "c4826113",
   "metadata": {},
   "outputs": [
    {
     "data": {
      "text/html": [
       "<div>\n",
       "<style scoped>\n",
       "    .dataframe tbody tr th:only-of-type {\n",
       "        vertical-align: middle;\n",
       "    }\n",
       "\n",
       "    .dataframe tbody tr th {\n",
       "        vertical-align: top;\n",
       "    }\n",
       "\n",
       "    .dataframe thead th {\n",
       "        text-align: right;\n",
       "    }\n",
       "</style>\n",
       "<table border=\"1\" class=\"dataframe\">\n",
       "  <thead>\n",
       "    <tr style=\"text-align: right;\">\n",
       "      <th></th>\n",
       "      <th>summary</th>\n",
       "      <th>Country</th>\n",
       "      <th>Year</th>\n",
       "      <th>Status</th>\n",
       "      <th>label</th>\n",
       "      <th>AdultMortality</th>\n",
       "      <th>InfantDeaths</th>\n",
       "      <th>Alcohol</th>\n",
       "      <th>PercentageExpenditure</th>\n",
       "      <th>HepatitisB</th>\n",
       "      <th>...</th>\n",
       "      <th>Polio</th>\n",
       "      <th>TotalExpenditure</th>\n",
       "      <th>Diphtheria</th>\n",
       "      <th>HIV_AIDS</th>\n",
       "      <th>GDP</th>\n",
       "      <th>Population</th>\n",
       "      <th>Thinness119</th>\n",
       "      <th>Thinness59</th>\n",
       "      <th>IncomeCompositionOfResources</th>\n",
       "      <th>Schooling</th>\n",
       "    </tr>\n",
       "  </thead>\n",
       "  <tbody>\n",
       "    <tr>\n",
       "      <th>0</th>\n",
       "      <td>count</td>\n",
       "      <td>1649</td>\n",
       "      <td>1649</td>\n",
       "      <td>1649</td>\n",
       "      <td>1649</td>\n",
       "      <td>1649</td>\n",
       "      <td>1649</td>\n",
       "      <td>1649</td>\n",
       "      <td>1649</td>\n",
       "      <td>1649</td>\n",
       "      <td>...</td>\n",
       "      <td>1649</td>\n",
       "      <td>1649</td>\n",
       "      <td>1649</td>\n",
       "      <td>1649</td>\n",
       "      <td>1649</td>\n",
       "      <td>1649</td>\n",
       "      <td>1649</td>\n",
       "      <td>1649</td>\n",
       "      <td>1649</td>\n",
       "      <td>1649</td>\n",
       "    </tr>\n",
       "    <tr>\n",
       "      <th>1</th>\n",
       "      <td>mean</td>\n",
       "      <td>None</td>\n",
       "      <td>2007.8405093996362</td>\n",
       "      <td>None</td>\n",
       "      <td>69.30230442692543</td>\n",
       "      <td>168.2152819890843</td>\n",
       "      <td>32.55306246209824</td>\n",
       "      <td>4.533195876288676</td>\n",
       "      <td>698.973558049698</td>\n",
       "      <td>79.21770770163735</td>\n",
       "      <td>...</td>\n",
       "      <td>83.56458459672528</td>\n",
       "      <td>5.955924802910845</td>\n",
       "      <td>84.155245603396</td>\n",
       "      <td>1.9838690115221154</td>\n",
       "      <td>5566.031886817592</td>\n",
       "      <td>1.4653625889484541E7</td>\n",
       "      <td>4.850636749545183</td>\n",
       "      <td>4.907762280169795</td>\n",
       "      <td>0.6315512431776829</td>\n",
       "      <td>12.119890842935117</td>\n",
       "    </tr>\n",
       "    <tr>\n",
       "      <th>2</th>\n",
       "      <td>stddev</td>\n",
       "      <td>None</td>\n",
       "      <td>4.087710534059055</td>\n",
       "      <td>None</td>\n",
       "      <td>8.796834135238601</td>\n",
       "      <td>125.31041693156172</td>\n",
       "      <td>120.84719049638885</td>\n",
       "      <td>4.029188999208425</td>\n",
       "      <td>1759.2293363477393</td>\n",
       "      <td>25.60466388103202</td>\n",
       "      <td>...</td>\n",
       "      <td>22.450557485191844</td>\n",
       "      <td>2.2993854200363937</td>\n",
       "      <td>21.57919284379662</td>\n",
       "      <td>6.032359689186714</td>\n",
       "      <td>11475.900117274561</td>\n",
       "      <td>7.04603934030564E7</td>\n",
       "      <td>4.599228369708468</td>\n",
       "      <td>4.653756745508691</td>\n",
       "      <td>0.18308872643487184</td>\n",
       "      <td>2.795387538952672</td>\n",
       "    </tr>\n",
       "    <tr>\n",
       "      <th>3</th>\n",
       "      <td>min</td>\n",
       "      <td>Afghanistan</td>\n",
       "      <td>2000</td>\n",
       "      <td>Developed</td>\n",
       "      <td>44.0</td>\n",
       "      <td>1</td>\n",
       "      <td>0</td>\n",
       "      <td>0.01</td>\n",
       "      <td>0.0</td>\n",
       "      <td>2</td>\n",
       "      <td>...</td>\n",
       "      <td>3</td>\n",
       "      <td>0.74</td>\n",
       "      <td>2</td>\n",
       "      <td>0.1</td>\n",
       "      <td>1.68135</td>\n",
       "      <td>34.0</td>\n",
       "      <td>0.1</td>\n",
       "      <td>0.1</td>\n",
       "      <td>0.0</td>\n",
       "      <td>4.2</td>\n",
       "    </tr>\n",
       "    <tr>\n",
       "      <th>4</th>\n",
       "      <td>max</td>\n",
       "      <td>Zimbabwe</td>\n",
       "      <td>2015</td>\n",
       "      <td>Developing</td>\n",
       "      <td>89.0</td>\n",
       "      <td>723</td>\n",
       "      <td>1600</td>\n",
       "      <td>17.87</td>\n",
       "      <td>18961.3486</td>\n",
       "      <td>99</td>\n",
       "      <td>...</td>\n",
       "      <td>99</td>\n",
       "      <td>14.39</td>\n",
       "      <td>99</td>\n",
       "      <td>50.6</td>\n",
       "      <td>119172.7418</td>\n",
       "      <td>1.293859294E9</td>\n",
       "      <td>27.2</td>\n",
       "      <td>28.2</td>\n",
       "      <td>0.936</td>\n",
       "      <td>20.7</td>\n",
       "    </tr>\n",
       "  </tbody>\n",
       "</table>\n",
       "<p>5 rows × 23 columns</p>\n",
       "</div>"
      ],
      "text/plain": [
       "  summary      Country                Year      Status              label  \\\n",
       "0   count         1649                1649        1649               1649   \n",
       "1    mean         None  2007.8405093996362        None  69.30230442692543   \n",
       "2  stddev         None   4.087710534059055        None  8.796834135238601   \n",
       "3     min  Afghanistan                2000   Developed               44.0   \n",
       "4     max     Zimbabwe                2015  Developing               89.0   \n",
       "\n",
       "       AdultMortality        InfantDeaths            Alcohol  \\\n",
       "0                1649                1649               1649   \n",
       "1   168.2152819890843   32.55306246209824  4.533195876288676   \n",
       "2  125.31041693156172  120.84719049638885  4.029188999208425   \n",
       "3                   1                   0               0.01   \n",
       "4                 723                1600              17.87   \n",
       "\n",
       "  PercentageExpenditure         HepatitisB  ...               Polio  \\\n",
       "0                  1649               1649  ...                1649   \n",
       "1      698.973558049698  79.21770770163735  ...   83.56458459672528   \n",
       "2    1759.2293363477393  25.60466388103202  ...  22.450557485191844   \n",
       "3                   0.0                  2  ...                   3   \n",
       "4            18961.3486                 99  ...                  99   \n",
       "\n",
       "     TotalExpenditure         Diphtheria            HIV_AIDS  \\\n",
       "0                1649               1649                1649   \n",
       "1   5.955924802910845    84.155245603396  1.9838690115221154   \n",
       "2  2.2993854200363937  21.57919284379662   6.032359689186714   \n",
       "3                0.74                  2                 0.1   \n",
       "4               14.39                 99                50.6   \n",
       "\n",
       "                  GDP            Population        Thinness119  \\\n",
       "0                1649                  1649               1649   \n",
       "1   5566.031886817592  1.4653625889484541E7  4.850636749545183   \n",
       "2  11475.900117274561    7.04603934030564E7  4.599228369708468   \n",
       "3             1.68135                  34.0                0.1   \n",
       "4         119172.7418         1.293859294E9               27.2   \n",
       "\n",
       "          Thinness59 IncomeCompositionOfResources           Schooling  \n",
       "0               1649                         1649                1649  \n",
       "1  4.907762280169795           0.6315512431776829  12.119890842935117  \n",
       "2  4.653756745508691          0.18308872643487184   2.795387538952672  \n",
       "3                0.1                          0.0                 4.2  \n",
       "4               28.2                        0.936                20.7  \n",
       "\n",
       "[5 rows x 23 columns]"
      ]
     },
     "execution_count": 229,
     "metadata": {},
     "output_type": "execute_result"
    }
   ],
   "source": [
    "df3.describe().toPandas().head()"
   ]
  },
  {
   "cell_type": "markdown",
   "id": "fc3ad0c5",
   "metadata": {},
   "source": [
    "# Veri On Haziriligi"
   ]
  },
  {
   "cell_type": "code",
   "execution_count": 230,
   "id": "e8fd62b9",
   "metadata": {},
   "outputs": [],
   "source": [
    "from pyspark.ml.feature import StringIndexer, OneHotEncoderEstimator, VectorAssembler\n",
    "from pyspark.ml import Pipeline, PipelineModel\n",
    "from pyspark.ml.regression import LinearRegression, LinearRegressionModel\n",
    "\n"
   ]
  },
  {
   "cell_type": "markdown",
   "id": "0f3a125a",
   "metadata": {},
   "source": [
    "# StringIndexer"
   ]
  },
  {
   "cell_type": "code",
   "execution_count": 231,
   "id": "981f348e",
   "metadata": {},
   "outputs": [],
   "source": [
    "status_string_indexer = StringIndexer() \\\n",
    ".setInputCol(\"Status\").setOutputCol(\"StatusIndexed\")"
   ]
  },
  {
   "cell_type": "markdown",
   "id": "c6f4e5ea",
   "metadata": {},
   "source": [
    "# OneHotEncoder"
   ]
  },
  {
   "cell_type": "code",
   "execution_count": 232,
   "id": "f92aa083",
   "metadata": {},
   "outputs": [],
   "source": [
    "encoder = OneHotEncoderEstimator() \\\n",
    ".setInputCols([\"StatusIndexed\"]).setOutputCols([\"StatusEncoded\"])"
   ]
  },
  {
   "cell_type": "markdown",
   "id": "cae4ebb1",
   "metadata": {},
   "source": [
    "# VectorAssembler "
   ]
  },
  {
   "cell_type": "code",
   "execution_count": 233,
   "id": "4385dcc4",
   "metadata": {},
   "outputs": [],
   "source": [
    "vector_assembler = VectorAssembler() \\\n",
    ".setInputCols(numerical_cols + encoder.getOutputCols()) \\\n",
    ".setOutputCol(\"features\")"
   ]
  },
  {
   "cell_type": "code",
   "execution_count": 234,
   "id": "3dea0e09",
   "metadata": {},
   "outputs": [
    {
     "data": {
      "text/plain": [
       "['Year',\n",
       " 'AdultMortality',\n",
       " 'InfantDeaths',\n",
       " 'Alcohol',\n",
       " 'BMI',\n",
       " 'UnderFiveDeaths',\n",
       " 'TotalExpenditure',\n",
       " 'Diphtheria',\n",
       " 'HIV_AIDS',\n",
       " 'GDP',\n",
       " 'IncomeCompositionOfResources',\n",
       " 'Schooling',\n",
       " 'StatusEncoded']"
      ]
     },
     "execution_count": 234,
     "metadata": {},
     "output_type": "execute_result"
    }
   ],
   "source": [
    "numerical_cols + encoder.getOutputCols()"
   ]
  },
  {
   "cell_type": "markdown",
   "id": "ae1d0f4b",
   "metadata": {},
   "source": [
    "# Linear Regression"
   ]
  },
  {
   "cell_type": "code",
   "execution_count": 235,
   "id": "60a5cc0c",
   "metadata": {},
   "outputs": [],
   "source": [
    "linear_regression_object = LinearRegression() \\\n",
    ".setFeaturesCol(\"features\").setLabelCol(\"label\")"
   ]
  },
  {
   "cell_type": "markdown",
   "id": "d39f07f4",
   "metadata": {},
   "source": [
    "# Pipeline"
   ]
  },
  {
   "cell_type": "code",
   "execution_count": 236,
   "id": "72e5af0b",
   "metadata": {},
   "outputs": [],
   "source": [
    "pipeline_object = Pipeline().setStages([status_string_indexer, encoder, vector_assembler, linear_regression_object])"
   ]
  },
  {
   "cell_type": "markdown",
   "id": "53724837",
   "metadata": {},
   "source": [
    "###  buradaki sira onemli listedeki siraya gore islemler gerceklesiyor"
   ]
  },
  {
   "cell_type": "markdown",
   "id": "3054d7c5",
   "metadata": {},
   "source": [
    "# Veri Setini Ayirma"
   ]
  },
  {
   "cell_type": "code",
   "execution_count": 237,
   "id": "d4875168",
   "metadata": {},
   "outputs": [],
   "source": [
    "train_df, test_df = df3.randomSplit([0.8, 0.2], seed=142)"
   ]
  },
  {
   "cell_type": "markdown",
   "id": "9efd184e",
   "metadata": {},
   "source": [
    "# Model Egitimi"
   ]
  },
  {
   "cell_type": "code",
   "execution_count": 238,
   "id": "b3eac7b3",
   "metadata": {},
   "outputs": [
    {
     "data": {
      "text/plain": [
       "DataFrame[Country: string, Year: int, Status: string, label: double, AdultMortality: int, InfantDeaths: int, Alcohol: double, PercentageExpenditure: double, HepatitisB: int, Measles: int, BMI: double, UnderFiveDeaths: int, Polio: int, TotalExpenditure: double, Diphtheria: int, HIV_AIDS: double, GDP: double, Population: double, Thinness119: double, Thinness59: double, IncomeCompositionOfResources: double, Schooling: double]"
      ]
     },
     "execution_count": 238,
     "metadata": {},
     "output_type": "execute_result"
    }
   ],
   "source": [
    "train_df.cache()\n",
    "test_df.cache()"
   ]
  },
  {
   "cell_type": "code",
   "execution_count": 239,
   "id": "3fbe115c",
   "metadata": {},
   "outputs": [],
   "source": [
    "pipline_model = pipeline_object.fit(train_df)"
   ]
  },
  {
   "cell_type": "code",
   "execution_count": 240,
   "id": "038edcf6",
   "metadata": {},
   "outputs": [
    {
     "data": {
      "text/html": [
       "<div>\n",
       "<style scoped>\n",
       "    .dataframe tbody tr th:only-of-type {\n",
       "        vertical-align: middle;\n",
       "    }\n",
       "\n",
       "    .dataframe tbody tr th {\n",
       "        vertical-align: top;\n",
       "    }\n",
       "\n",
       "    .dataframe thead th {\n",
       "        text-align: right;\n",
       "    }\n",
       "</style>\n",
       "<table border=\"1\" class=\"dataframe\">\n",
       "  <thead>\n",
       "    <tr style=\"text-align: right;\">\n",
       "      <th></th>\n",
       "      <th>label</th>\n",
       "      <th>prediction</th>\n",
       "    </tr>\n",
       "  </thead>\n",
       "  <tbody>\n",
       "    <tr>\n",
       "      <th>0</th>\n",
       "      <td>56.2</td>\n",
       "      <td>63.595831</td>\n",
       "    </tr>\n",
       "    <tr>\n",
       "      <th>1</th>\n",
       "      <td>57.3</td>\n",
       "      <td>60.953196</td>\n",
       "    </tr>\n",
       "    <tr>\n",
       "      <th>2</th>\n",
       "      <td>58.1</td>\n",
       "      <td>61.949129</td>\n",
       "    </tr>\n",
       "    <tr>\n",
       "      <th>3</th>\n",
       "      <td>58.6</td>\n",
       "      <td>62.238897</td>\n",
       "    </tr>\n",
       "    <tr>\n",
       "      <th>4</th>\n",
       "      <td>72.6</td>\n",
       "      <td>72.930192</td>\n",
       "    </tr>\n",
       "  </tbody>\n",
       "</table>\n",
       "</div>"
      ],
      "text/plain": [
       "   label  prediction\n",
       "0   56.2   63.595831\n",
       "1   57.3   60.953196\n",
       "2   58.1   61.949129\n",
       "3   58.6   62.238897\n",
       "4   72.6   72.930192"
      ]
     },
     "execution_count": 240,
     "metadata": {},
     "output_type": "execute_result"
    }
   ],
   "source": [
    "pipline_model.transform(test_df).select(\"label\",\"prediction\").toPandas().head()"
   ]
  },
  {
   "cell_type": "markdown",
   "id": "52a2f56b",
   "metadata": {},
   "source": [
    "# Linear Modeli Pipeline Model İçersinden Alma"
   ]
  },
  {
   "cell_type": "code",
   "execution_count": 241,
   "id": "a00fb6e9",
   "metadata": {},
   "outputs": [],
   "source": [
    "lr_model = pipline_model.stages[-1]"
   ]
  },
  {
   "cell_type": "code",
   "execution_count": 242,
   "id": "17df6b13",
   "metadata": {},
   "outputs": [
    {
     "data": {
      "text/plain": [
       "DenseVector([-0.1306, -0.0167, 0.0884, -0.0933, 0.0335, -0.0673, 0.1014, 0.0144, -0.4472, 0.0001, 9.6162, 0.9347, -0.7855])"
      ]
     },
     "execution_count": 242,
     "metadata": {},
     "output_type": "execute_result"
    }
   ],
   "source": [
    "lr_model.coefficients"
   ]
  },
  {
   "cell_type": "code",
   "execution_count": 243,
   "id": "91788bf0",
   "metadata": {},
   "outputs": [
    {
     "data": {
      "text/plain": [
       "315.44452546889534"
      ]
     },
     "execution_count": 243,
     "metadata": {},
     "output_type": "execute_result"
    }
   ],
   "source": [
    "lr_model.intercept"
   ]
  },
  {
   "cell_type": "code",
   "execution_count": 244,
   "id": "f748d2d4",
   "metadata": {},
   "outputs": [
    {
     "data": {
      "text/plain": [
       "0.8393963848802052"
      ]
     },
     "execution_count": 244,
     "metadata": {},
     "output_type": "execute_result"
    }
   ],
   "source": [
    "lr_model.summary.r2"
   ]
  },
  {
   "cell_type": "code",
   "execution_count": 245,
   "id": "b835a0eb",
   "metadata": {},
   "outputs": [],
   "source": [
    "# 0.84 basarisi var"
   ]
  },
  {
   "cell_type": "code",
   "execution_count": 246,
   "id": "0c7c3175",
   "metadata": {},
   "outputs": [
    {
     "data": {
      "text/plain": [
       "3.534708903926837"
      ]
     },
     "execution_count": 246,
     "metadata": {},
     "output_type": "execute_result"
    }
   ],
   "source": [
    "lr_model.summary.rootMeanSquaredError"
   ]
  },
  {
   "cell_type": "code",
   "execution_count": 247,
   "id": "f5fc3e09",
   "metadata": {},
   "outputs": [
    {
     "data": {
      "text/plain": [
       "[3.7210678383026163e-07,\n",
       " 0.0,\n",
       " 1.554312234475219e-14,\n",
       " 0.011812369488869878,\n",
       " 6.888301440355349e-08,\n",
       " 4.218847493575595e-15,\n",
       " 0.02289647691655916,\n",
       " 0.0037352078727632687,\n",
       " 0.0,\n",
       " 7.28083149326153e-10,\n",
       " 0.0,\n",
       " 0.0,\n",
       " 0.036279656005715255,\n",
       " 9.313896320861659e-10]"
      ]
     },
     "execution_count": 247,
     "metadata": {},
     "output_type": "execute_result"
    }
   ],
   "source": [
    "lr_model.summary.pValues"
   ]
  },
  {
   "cell_type": "markdown",
   "id": "152f7ca8",
   "metadata": {},
   "source": [
    "# Niteliklerle PVALUES leri birlestirme"
   ]
  },
  {
   "cell_type": "code",
   "execution_count": 248,
   "id": "04ad9f59",
   "metadata": {},
   "outputs": [],
   "source": [
    "zipped = zip(lr_model.summary.pValues,numerical_cols+[\"Status\",\"Sabit\"])"
   ]
  },
  {
   "cell_type": "code",
   "execution_count": 249,
   "id": "490ba8fa",
   "metadata": {},
   "outputs": [],
   "source": [
    "sorted_zipped = sorted(zipped)"
   ]
  },
  {
   "cell_type": "code",
   "execution_count": 250,
   "id": "25fecbb1",
   "metadata": {},
   "outputs": [
    {
     "name": "stdout",
     "output_type": "stream",
     "text": [
      "(0.0, 'AdultMortality')\n",
      "(0.0, 'HIV_AIDS')\n",
      "(0.0, 'IncomeCompositionOfResources')\n",
      "(0.0, 'Schooling')\n",
      "(4.218847493575595e-15, 'UnderFiveDeaths')\n",
      "(1.554312234475219e-14, 'InfantDeaths')\n",
      "(7.28083149326153e-10, 'GDP')\n",
      "(9.313896320861659e-10, 'Sabit')\n",
      "(6.888301440355349e-08, 'BMI')\n",
      "(3.7210678383026163e-07, 'Year')\n",
      "(0.0037352078727632687, 'Diphtheria')\n",
      "(0.011812369488869878, 'Alcohol')\n",
      "(0.02289647691655916, 'TotalExpenditure')\n",
      "(0.036279656005715255, 'Status')\n"
     ]
    }
   ],
   "source": [
    "for i in sorted_zipped:\n",
    "    print(i)"
   ]
  },
  {
   "cell_type": "code",
   "execution_count": 251,
   "id": "a6263bbd",
   "metadata": {},
   "outputs": [
    {
     "data": {
      "text/plain": [
       "\"\\nr2 = 0.8402372243436562\\n(0.0, 'AdultMortality')\\n(0.0, 'HIV_AIDS')\\n(0.0, 'IncomeCompositionOfResources')\\n(0.0, 'Schooling')\\n(1.021405182655144e-14, 'UnderFiveDeaths')\\n(9.037215420448774e-14, 'InfantDeaths')\\n(8.194222855806288e-09, 'Sabit')\\n(2.214080842888322e-06, 'Year')\\n(9.277282233099982e-06, 'BMI')\\n(0.0069944469886213945, 'Alcohol')\\n(0.03194558950457549, 'Diphtheria')\\n(0.033259070668361534, 'Status')\\n(0.041134342157394865, 'TotalExpenditure')\\n6.tur(0.14696628529633227, 'Polio')\\n7. tur(0.20657371462857865, 'Thinness59')\\n(0.2415689423147689, 'GDP')\\n5. tur(0.3280541792373892, 'HepatitisB')\\n4. tur(0.4246739503761421, 'PercentageExpenditure')\\n3. tur(0.46316882090430034, 'Measles')\\n2.tur (0.6154505536890638, 'Thinness119')\\n1. tur (0.9774634776466289, 'Population')\\n\""
      ]
     },
     "execution_count": 251,
     "metadata": {},
     "output_type": "execute_result"
    }
   ],
   "source": [
    "\"\"\"\n",
    "r2 = 0.8402372243436562\n",
    "(0.0, 'AdultMortality')\n",
    "(0.0, 'HIV_AIDS')\n",
    "(0.0, 'IncomeCompositionOfResources')\n",
    "(0.0, 'Schooling')\n",
    "(1.021405182655144e-14, 'UnderFiveDeaths')\n",
    "(9.037215420448774e-14, 'InfantDeaths')\n",
    "(8.194222855806288e-09, 'Sabit')\n",
    "(2.214080842888322e-06, 'Year')\n",
    "(9.277282233099982e-06, 'BMI')\n",
    "(0.0069944469886213945, 'Alcohol')\n",
    "(0.03194558950457549, 'Diphtheria')\n",
    "(0.033259070668361534, 'Status')\n",
    "(0.041134342157394865, 'TotalExpenditure')\n",
    "6.tur(0.14696628529633227, 'Polio')\n",
    "7. tur(0.20657371462857865, 'Thinness59')\n",
    "(0.2415689423147689, 'GDP')\n",
    "5. tur(0.3280541792373892, 'HepatitisB')\n",
    "4. tur(0.4246739503761421, 'PercentageExpenditure')\n",
    "3. tur(0.46316882090430034, 'Measles')\n",
    "2.tur (0.6154505536890638, 'Thinness119')\n",
    "1. tur (0.9774634776466289, 'Population')\n",
    "\"\"\""
   ]
  },
  {
   "cell_type": "code",
   "execution_count": null,
   "id": "156ad977",
   "metadata": {},
   "outputs": [],
   "source": []
  },
  {
   "cell_type": "code",
   "execution_count": null,
   "id": "756bd4fa",
   "metadata": {},
   "outputs": [],
   "source": []
  },
  {
   "cell_type": "code",
   "execution_count": null,
   "id": "695bb87b",
   "metadata": {},
   "outputs": [],
   "source": []
  }
 ],
 "metadata": {
  "kernelspec": {
   "display_name": "Python 3",
   "language": "python",
   "name": "python3"
  },
  "language_info": {
   "codemirror_mode": {
    "name": "ipython",
    "version": 3
   },
   "file_extension": ".py",
   "mimetype": "text/x-python",
   "name": "python",
   "nbconvert_exporter": "python",
   "pygments_lexer": "ipython3",
   "version": "3.6.15"
  }
 },
 "nbformat": 4,
 "nbformat_minor": 5
}
