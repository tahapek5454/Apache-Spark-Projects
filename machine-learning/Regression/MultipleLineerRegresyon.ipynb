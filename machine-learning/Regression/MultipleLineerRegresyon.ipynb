{
 "cells": [
  {
   "cell_type": "code",
   "execution_count": 1,
   "id": "0d500f1f",
   "metadata": {},
   "outputs": [],
   "source": [
    "import findspark\n",
    "findspark.init()"
   ]
  },
  {
   "cell_type": "code",
   "execution_count": 2,
   "id": "57605a50",
   "metadata": {},
   "outputs": [],
   "source": [
    "from pyspark.sql import SparkSession\n",
    "\n",
    "spark = SparkSession.builder \\\n",
    ".appName(\"MultipleLineerRegresyon\") \\\n",
    ".master(\"local[4]\") \\\n",
    ".config(\"spark.driver.memory\",\"2g\") \\\n",
    ".config(\"spark.executor.memory\",\"4g\") \\\n",
    ".getOrCreate()"
   ]
  },
  {
   "cell_type": "markdown",
   "id": "d173dcda",
   "metadata": {},
   "source": [
    "# Veri Seti OKuma"
   ]
  },
  {
   "cell_type": "code",
   "execution_count": 3,
   "id": "d1919c91",
   "metadata": {},
   "outputs": [],
   "source": [
    "df = spark.read.format(\"csv\") \\\n",
    ".option(\"header\",True) \\\n",
    ".option(\"sep\",\",\") \\\n",
    ".option(\"inferSchema\",True) \\\n",
    ".load(\"/home/taha/Downloads/Advertising.csv\")"
   ]
  },
  {
   "cell_type": "code",
   "execution_count": 4,
   "id": "513289c4",
   "metadata": {},
   "outputs": [
    {
     "data": {
      "text/html": [
       "<div>\n",
       "<style scoped>\n",
       "    .dataframe tbody tr th:only-of-type {\n",
       "        vertical-align: middle;\n",
       "    }\n",
       "\n",
       "    .dataframe tbody tr th {\n",
       "        vertical-align: top;\n",
       "    }\n",
       "\n",
       "    .dataframe thead th {\n",
       "        text-align: right;\n",
       "    }\n",
       "</style>\n",
       "<table border=\"1\" class=\"dataframe\">\n",
       "  <thead>\n",
       "    <tr style=\"text-align: right;\">\n",
       "      <th></th>\n",
       "      <th>_c0</th>\n",
       "      <th>TV</th>\n",
       "      <th>Radio</th>\n",
       "      <th>Newspaper</th>\n",
       "      <th>Sales</th>\n",
       "    </tr>\n",
       "  </thead>\n",
       "  <tbody>\n",
       "    <tr>\n",
       "      <th>0</th>\n",
       "      <td>1</td>\n",
       "      <td>230.1</td>\n",
       "      <td>37.8</td>\n",
       "      <td>69.2</td>\n",
       "      <td>22.1</td>\n",
       "    </tr>\n",
       "    <tr>\n",
       "      <th>1</th>\n",
       "      <td>2</td>\n",
       "      <td>44.5</td>\n",
       "      <td>39.3</td>\n",
       "      <td>45.1</td>\n",
       "      <td>10.4</td>\n",
       "    </tr>\n",
       "    <tr>\n",
       "      <th>2</th>\n",
       "      <td>3</td>\n",
       "      <td>17.2</td>\n",
       "      <td>45.9</td>\n",
       "      <td>69.3</td>\n",
       "      <td>9.3</td>\n",
       "    </tr>\n",
       "    <tr>\n",
       "      <th>3</th>\n",
       "      <td>4</td>\n",
       "      <td>151.5</td>\n",
       "      <td>41.3</td>\n",
       "      <td>58.5</td>\n",
       "      <td>18.5</td>\n",
       "    </tr>\n",
       "    <tr>\n",
       "      <th>4</th>\n",
       "      <td>5</td>\n",
       "      <td>180.8</td>\n",
       "      <td>10.8</td>\n",
       "      <td>58.4</td>\n",
       "      <td>12.9</td>\n",
       "    </tr>\n",
       "  </tbody>\n",
       "</table>\n",
       "</div>"
      ],
      "text/plain": [
       "   _c0     TV  Radio  Newspaper  Sales\n",
       "0    1  230.1   37.8       69.2   22.1\n",
       "1    2   44.5   39.3       45.1   10.4\n",
       "2    3   17.2   45.9       69.3    9.3\n",
       "3    4  151.5   41.3       58.5   18.5\n",
       "4    5  180.8   10.8       58.4   12.9"
      ]
     },
     "execution_count": 4,
     "metadata": {},
     "output_type": "execute_result"
    }
   ],
   "source": [
    "df.toPandas().head()"
   ]
  },
  {
   "cell_type": "markdown",
   "id": "88dd7d53",
   "metadata": {},
   "source": [
    "# Stun Isımlerini Degistirelim"
   ]
  },
  {
   "cell_type": "code",
   "execution_count": 5,
   "id": "511d1a9f",
   "metadata": {},
   "outputs": [],
   "source": [
    "yeni_nitelikler = [\"id\",\"TV\",\"Radio\",\"Newspaper\",\"label\"]"
   ]
  },
  {
   "cell_type": "code",
   "execution_count": 6,
   "id": "b78b51b4",
   "metadata": {},
   "outputs": [],
   "source": [
    "df2 = df.selectExpr(\"_c0 as id\",\"TV\",\"Radio\",\"Newspaper\",\"Sales as label\")"
   ]
  },
  {
   "cell_type": "code",
   "execution_count": 7,
   "id": "7d44ed21",
   "metadata": {},
   "outputs": [
    {
     "data": {
      "text/html": [
       "<div>\n",
       "<style scoped>\n",
       "    .dataframe tbody tr th:only-of-type {\n",
       "        vertical-align: middle;\n",
       "    }\n",
       "\n",
       "    .dataframe tbody tr th {\n",
       "        vertical-align: top;\n",
       "    }\n",
       "\n",
       "    .dataframe thead th {\n",
       "        text-align: right;\n",
       "    }\n",
       "</style>\n",
       "<table border=\"1\" class=\"dataframe\">\n",
       "  <thead>\n",
       "    <tr style=\"text-align: right;\">\n",
       "      <th></th>\n",
       "      <th>id</th>\n",
       "      <th>TV</th>\n",
       "      <th>Radio</th>\n",
       "      <th>Newspaper</th>\n",
       "      <th>label</th>\n",
       "    </tr>\n",
       "  </thead>\n",
       "  <tbody>\n",
       "    <tr>\n",
       "      <th>0</th>\n",
       "      <td>1</td>\n",
       "      <td>230.1</td>\n",
       "      <td>37.8</td>\n",
       "      <td>69.2</td>\n",
       "      <td>22.1</td>\n",
       "    </tr>\n",
       "    <tr>\n",
       "      <th>1</th>\n",
       "      <td>2</td>\n",
       "      <td>44.5</td>\n",
       "      <td>39.3</td>\n",
       "      <td>45.1</td>\n",
       "      <td>10.4</td>\n",
       "    </tr>\n",
       "    <tr>\n",
       "      <th>2</th>\n",
       "      <td>3</td>\n",
       "      <td>17.2</td>\n",
       "      <td>45.9</td>\n",
       "      <td>69.3</td>\n",
       "      <td>9.3</td>\n",
       "    </tr>\n",
       "    <tr>\n",
       "      <th>3</th>\n",
       "      <td>4</td>\n",
       "      <td>151.5</td>\n",
       "      <td>41.3</td>\n",
       "      <td>58.5</td>\n",
       "      <td>18.5</td>\n",
       "    </tr>\n",
       "    <tr>\n",
       "      <th>4</th>\n",
       "      <td>5</td>\n",
       "      <td>180.8</td>\n",
       "      <td>10.8</td>\n",
       "      <td>58.4</td>\n",
       "      <td>12.9</td>\n",
       "    </tr>\n",
       "  </tbody>\n",
       "</table>\n",
       "</div>"
      ],
      "text/plain": [
       "   id     TV  Radio  Newspaper  label\n",
       "0   1  230.1   37.8       69.2   22.1\n",
       "1   2   44.5   39.3       45.1   10.4\n",
       "2   3   17.2   45.9       69.3    9.3\n",
       "3   4  151.5   41.3       58.5   18.5\n",
       "4   5  180.8   10.8       58.4   12.9"
      ]
     },
     "execution_count": 7,
     "metadata": {},
     "output_type": "execute_result"
    }
   ],
   "source": [
    "df2.toPandas().head()"
   ]
  },
  {
   "cell_type": "code",
   "execution_count": 8,
   "id": "b0799fc2",
   "metadata": {},
   "outputs": [],
   "source": [
    "numerik_nitelikler = [\"TV\",\"Radio\"]\n",
    "label = [\"label\"]\n",
    "# kontrollerden sonra gazeteyi çıkardık basta varı"
   ]
  },
  {
   "cell_type": "code",
   "execution_count": 9,
   "id": "e8aef23d",
   "metadata": {},
   "outputs": [
    {
     "data": {
      "text/html": [
       "<div>\n",
       "<style scoped>\n",
       "    .dataframe tbody tr th:only-of-type {\n",
       "        vertical-align: middle;\n",
       "    }\n",
       "\n",
       "    .dataframe tbody tr th {\n",
       "        vertical-align: top;\n",
       "    }\n",
       "\n",
       "    .dataframe thead th {\n",
       "        text-align: right;\n",
       "    }\n",
       "</style>\n",
       "<table border=\"1\" class=\"dataframe\">\n",
       "  <thead>\n",
       "    <tr style=\"text-align: right;\">\n",
       "      <th></th>\n",
       "      <th>summary</th>\n",
       "      <th>id</th>\n",
       "      <th>TV</th>\n",
       "      <th>Radio</th>\n",
       "      <th>Newspaper</th>\n",
       "      <th>label</th>\n",
       "    </tr>\n",
       "  </thead>\n",
       "  <tbody>\n",
       "    <tr>\n",
       "      <th>0</th>\n",
       "      <td>count</td>\n",
       "      <td>200</td>\n",
       "      <td>200</td>\n",
       "      <td>200</td>\n",
       "      <td>200</td>\n",
       "      <td>200</td>\n",
       "    </tr>\n",
       "    <tr>\n",
       "      <th>1</th>\n",
       "      <td>mean</td>\n",
       "      <td>100.5</td>\n",
       "      <td>147.0425</td>\n",
       "      <td>23.264000000000024</td>\n",
       "      <td>30.553999999999995</td>\n",
       "      <td>14.022500000000003</td>\n",
       "    </tr>\n",
       "    <tr>\n",
       "      <th>2</th>\n",
       "      <td>stddev</td>\n",
       "      <td>57.879184513951124</td>\n",
       "      <td>85.85423631490805</td>\n",
       "      <td>14.846809176168728</td>\n",
       "      <td>21.77862083852283</td>\n",
       "      <td>5.217456565710477</td>\n",
       "    </tr>\n",
       "    <tr>\n",
       "      <th>3</th>\n",
       "      <td>min</td>\n",
       "      <td>1</td>\n",
       "      <td>0.7</td>\n",
       "      <td>0.0</td>\n",
       "      <td>0.3</td>\n",
       "      <td>1.6</td>\n",
       "    </tr>\n",
       "    <tr>\n",
       "      <th>4</th>\n",
       "      <td>max</td>\n",
       "      <td>200</td>\n",
       "      <td>296.4</td>\n",
       "      <td>49.6</td>\n",
       "      <td>114.0</td>\n",
       "      <td>27.0</td>\n",
       "    </tr>\n",
       "  </tbody>\n",
       "</table>\n",
       "</div>"
      ],
      "text/plain": [
       "  summary                  id                 TV               Radio  \\\n",
       "0   count                 200                200                 200   \n",
       "1    mean               100.5           147.0425  23.264000000000024   \n",
       "2  stddev  57.879184513951124  85.85423631490805  14.846809176168728   \n",
       "3     min                   1                0.7                 0.0   \n",
       "4     max                 200              296.4                49.6   \n",
       "\n",
       "            Newspaper               label  \n",
       "0                 200                 200  \n",
       "1  30.553999999999995  14.022500000000003  \n",
       "2   21.77862083852283   5.217456565710477  \n",
       "3                 0.3                 1.6  \n",
       "4               114.0                27.0  "
      ]
     },
     "execution_count": 9,
     "metadata": {},
     "output_type": "execute_result"
    }
   ],
   "source": [
    "df2.describe().toPandas().head()"
   ]
  },
  {
   "cell_type": "markdown",
   "id": "683093d7",
   "metadata": {},
   "source": [
    "# Veri Hazırlıgı"
   ]
  },
  {
   "cell_type": "code",
   "execution_count": 10,
   "id": "4074e8bb",
   "metadata": {},
   "outputs": [],
   "source": [
    "from pyspark.ml.feature import VectorAssembler"
   ]
  },
  {
   "cell_type": "code",
   "execution_count": 11,
   "id": "f270a9eb",
   "metadata": {},
   "outputs": [],
   "source": [
    "vector_assembler = VectorAssembler() \\\n",
    ".setInputCols(numerik_nitelikler) \\\n",
    ".setOutputCol(\"features\")"
   ]
  },
  {
   "cell_type": "markdown",
   "id": "de3b42bb",
   "metadata": {},
   "source": [
    "# Regresyon Modeli"
   ]
  },
  {
   "cell_type": "code",
   "execution_count": 12,
   "id": "7a92050d",
   "metadata": {},
   "outputs": [],
   "source": [
    "from pyspark.ml.regression import LinearRegression"
   ]
  },
  {
   "cell_type": "code",
   "execution_count": 13,
   "id": "6a2e3ff4",
   "metadata": {},
   "outputs": [],
   "source": [
    "lr_obj = LinearRegression() \\\n",
    ".setFeaturesCol(\"features\") \\\n",
    ".setLabelCol(\"label\")"
   ]
  },
  {
   "cell_type": "markdown",
   "id": "af0de937",
   "metadata": {},
   "source": [
    "# Pipeline Model"
   ]
  },
  {
   "cell_type": "code",
   "execution_count": 14,
   "id": "c99cf244",
   "metadata": {},
   "outputs": [],
   "source": [
    "from pyspark.ml import Pipeline"
   ]
  },
  {
   "cell_type": "code",
   "execution_count": 15,
   "id": "7c32f0a3",
   "metadata": {},
   "outputs": [],
   "source": [
    "pipeline_obj = Pipeline() \\\n",
    ".setStages([vector_assembler,lr_obj])\n"
   ]
  },
  {
   "cell_type": "markdown",
   "id": "520ca0bd",
   "metadata": {},
   "source": [
    "# Veri Setini Ayırma"
   ]
  },
  {
   "cell_type": "code",
   "execution_count": 16,
   "id": "883ab585",
   "metadata": {},
   "outputs": [],
   "source": [
    "train_df , test_df = df2.randomSplit([0.8,0.2], seed =142)"
   ]
  },
  {
   "cell_type": "markdown",
   "id": "52f3f06f",
   "metadata": {},
   "source": [
    "# Model Eğitmi"
   ]
  },
  {
   "cell_type": "code",
   "execution_count": 17,
   "id": "d20c1747",
   "metadata": {},
   "outputs": [],
   "source": [
    "pipeline_model = pipeline_obj.fit(train_df)"
   ]
  },
  {
   "cell_type": "markdown",
   "id": "8940780a",
   "metadata": {},
   "source": [
    "# Model Test"
   ]
  },
  {
   "cell_type": "code",
   "execution_count": 18,
   "id": "05f648b6",
   "metadata": {},
   "outputs": [],
   "source": [
    "result_df = pipeline_model.transform(test_df)"
   ]
  },
  {
   "cell_type": "code",
   "execution_count": 19,
   "id": "94036c28",
   "metadata": {},
   "outputs": [
    {
     "data": {
      "text/html": [
       "<div>\n",
       "<style scoped>\n",
       "    .dataframe tbody tr th:only-of-type {\n",
       "        vertical-align: middle;\n",
       "    }\n",
       "\n",
       "    .dataframe tbody tr th {\n",
       "        vertical-align: top;\n",
       "    }\n",
       "\n",
       "    .dataframe thead th {\n",
       "        text-align: right;\n",
       "    }\n",
       "</style>\n",
       "<table border=\"1\" class=\"dataframe\">\n",
       "  <thead>\n",
       "    <tr style=\"text-align: right;\">\n",
       "      <th></th>\n",
       "      <th>id</th>\n",
       "      <th>TV</th>\n",
       "      <th>Radio</th>\n",
       "      <th>Newspaper</th>\n",
       "      <th>label</th>\n",
       "      <th>features</th>\n",
       "      <th>prediction</th>\n",
       "    </tr>\n",
       "  </thead>\n",
       "  <tbody>\n",
       "    <tr>\n",
       "      <th>0</th>\n",
       "      <td>3</td>\n",
       "      <td>17.2</td>\n",
       "      <td>45.9</td>\n",
       "      <td>69.3</td>\n",
       "      <td>9.3</td>\n",
       "      <td>[17.2, 45.9]</td>\n",
       "      <td>12.773880</td>\n",
       "    </tr>\n",
       "    <tr>\n",
       "      <th>1</th>\n",
       "      <td>6</td>\n",
       "      <td>8.7</td>\n",
       "      <td>48.9</td>\n",
       "      <td>75.0</td>\n",
       "      <td>7.2</td>\n",
       "      <td>[8.7, 48.9]</td>\n",
       "      <td>12.991416</td>\n",
       "    </tr>\n",
       "    <tr>\n",
       "      <th>2</th>\n",
       "      <td>9</td>\n",
       "      <td>8.6</td>\n",
       "      <td>2.1</td>\n",
       "      <td>1.0</td>\n",
       "      <td>4.8</td>\n",
       "      <td>[8.6, 2.1]</td>\n",
       "      <td>3.731130</td>\n",
       "    </tr>\n",
       "    <tr>\n",
       "      <th>3</th>\n",
       "      <td>10</td>\n",
       "      <td>199.8</td>\n",
       "      <td>2.6</td>\n",
       "      <td>21.2</td>\n",
       "      <td>10.6</td>\n",
       "      <td>[199.8, 2.6]</td>\n",
       "      <td>12.283048</td>\n",
       "    </tr>\n",
       "    <tr>\n",
       "      <th>4</th>\n",
       "      <td>17</td>\n",
       "      <td>67.8</td>\n",
       "      <td>36.6</td>\n",
       "      <td>114.0</td>\n",
       "      <td>12.5</td>\n",
       "      <td>[67.8, 36.6]</td>\n",
       "      <td>13.171620</td>\n",
       "    </tr>\n",
       "  </tbody>\n",
       "</table>\n",
       "</div>"
      ],
      "text/plain": [
       "   id     TV  Radio  Newspaper  label      features  prediction\n",
       "0   3   17.2   45.9       69.3    9.3  [17.2, 45.9]   12.773880\n",
       "1   6    8.7   48.9       75.0    7.2   [8.7, 48.9]   12.991416\n",
       "2   9    8.6    2.1        1.0    4.8    [8.6, 2.1]    3.731130\n",
       "3  10  199.8    2.6       21.2   10.6  [199.8, 2.6]   12.283048\n",
       "4  17   67.8   36.6      114.0   12.5  [67.8, 36.6]   13.171620"
      ]
     },
     "execution_count": 19,
     "metadata": {},
     "output_type": "execute_result"
    }
   ],
   "source": [
    "result_df.toPandas().head()"
   ]
  },
  {
   "cell_type": "markdown",
   "id": "e9e4fc67",
   "metadata": {},
   "source": [
    "# Pipeline Model Icinden Lineer Modeli Almak"
   ]
  },
  {
   "cell_type": "code",
   "execution_count": 20,
   "id": "f0ccfcab",
   "metadata": {},
   "outputs": [],
   "source": [
    "lr_model = pipeline_model.stages[1]"
   ]
  },
  {
   "cell_type": "code",
   "execution_count": 21,
   "id": "4e85b36b",
   "metadata": {},
   "outputs": [
    {
     "data": {
      "text/plain": [
       "DenseVector([0.0442, 0.1978])"
      ]
     },
     "execution_count": 21,
     "metadata": {},
     "output_type": "execute_result"
    }
   ],
   "source": [
    "lr_model.coefficients"
   ]
  },
  {
   "cell_type": "code",
   "execution_count": 22,
   "id": "5b4f78e0",
   "metadata": {},
   "outputs": [
    {
     "data": {
      "text/plain": [
       "2.935593134859488"
      ]
     },
     "execution_count": 22,
     "metadata": {},
     "output_type": "execute_result"
    }
   ],
   "source": [
    "lr_model.intercept"
   ]
  },
  {
   "cell_type": "code",
   "execution_count": 23,
   "id": "9098801b",
   "metadata": {},
   "outputs": [
    {
     "data": {
      "text/plain": [
       "0.8928931248714045"
      ]
     },
     "execution_count": 23,
     "metadata": {},
     "output_type": "execute_result"
    }
   ],
   "source": [
    "lr_model.summary.r2"
   ]
  },
  {
   "cell_type": "code",
   "execution_count": 24,
   "id": "5d0f71f9",
   "metadata": {},
   "outputs": [
    {
     "data": {
      "text/plain": [
       "1.6578475603790448"
      ]
     },
     "execution_count": 24,
     "metadata": {},
     "output_type": "execute_result"
    }
   ],
   "source": [
    "lr_model.summary.rootMeanSquaredError"
   ]
  },
  {
   "cell_type": "code",
   "execution_count": 25,
   "id": "ab7ffcfa",
   "metadata": {},
   "outputs": [
    {
     "data": {
      "text/plain": [
       "[0.0, 0.0, 3.774758283725532e-15]"
      ]
     },
     "execution_count": 25,
     "metadata": {},
     "output_type": "execute_result"
    }
   ],
   "source": [
    "lr_model.summary.pValues\n",
    "# tv - radio - gazete - sabit\n",
    "# tv - radio - sabit"
   ]
  },
  {
   "cell_type": "code",
   "execution_count": 26,
   "id": "325aa96d",
   "metadata": {},
   "outputs": [
    {
     "data": {
      "text/plain": [
       "[27.918094216203865, 21.216582516976807, 8.740412243937218]"
      ]
     },
     "execution_count": 26,
     "metadata": {},
     "output_type": "execute_result"
    }
   ],
   "source": [
    "lr_model.summary.tValues"
   ]
  },
  {
   "cell_type": "markdown",
   "id": "ea81b075",
   "metadata": {},
   "source": [
    "# Model Secimi"
   ]
  },
  {
   "cell_type": "code",
   "execution_count": 27,
   "id": "630caf6b",
   "metadata": {},
   "outputs": [],
   "source": [
    "# geriye doğru eleme yontemi\n",
    "# modeli tum değişkenleri dahil et\n",
    "# p degelerine bak esik degerin uzerinde kalan en buyuk degeri çıkar\n",
    "# durumları tekrar et\n",
    "# p genelde 0.05"
   ]
  },
  {
   "cell_type": "code",
   "execution_count": 28,
   "id": "ce48fc27",
   "metadata": {},
   "outputs": [],
   "source": [
    "# gorulcegi gibi gazete baya baya gecmis \n",
    "# nitelikler listesinden gazeteyi cikarip\n",
    "# islemleri tekrarlıyorum"
   ]
  },
  {
   "cell_type": "code",
   "execution_count": 29,
   "id": "2044646f",
   "metadata": {},
   "outputs": [],
   "source": [
    "# bu islemlerden sonra anlamlı deger elde ettik\n",
    "# r2  degerimiz hemen hemen hic degismedi\n",
    "# yapilan islem dogru"
   ]
  },
  {
   "cell_type": "code",
   "execution_count": 30,
   "id": "001db1c6",
   "metadata": {},
   "outputs": [],
   "source": [
    "# makinemiz\n",
    "# y = 2.935593134859488 + (0.0442*TV) + (0.1978*Radio)"
   ]
  },
  {
   "cell_type": "markdown",
   "id": "1667931c",
   "metadata": {},
   "source": [
    "# Prediction"
   ]
  },
  {
   "cell_type": "code",
   "execution_count": 31,
   "id": "e7d00dda",
   "metadata": {},
   "outputs": [],
   "source": [
    "# 100 bin tv , 10 bin radio icin butce ayirsak"
   ]
  },
  {
   "cell_type": "code",
   "execution_count": 32,
   "id": "81c8257c",
   "metadata": {},
   "outputs": [],
   "source": [
    "import pandas as pd"
   ]
  },
  {
   "cell_type": "code",
   "execution_count": 33,
   "id": "97ce67b0",
   "metadata": {},
   "outputs": [
    {
     "data": {
      "text/html": [
       "<div>\n",
       "<style scoped>\n",
       "    .dataframe tbody tr th:only-of-type {\n",
       "        vertical-align: middle;\n",
       "    }\n",
       "\n",
       "    .dataframe tbody tr th {\n",
       "        vertical-align: top;\n",
       "    }\n",
       "\n",
       "    .dataframe thead th {\n",
       "        text-align: right;\n",
       "    }\n",
       "</style>\n",
       "<table border=\"1\" class=\"dataframe\">\n",
       "  <thead>\n",
       "    <tr style=\"text-align: right;\">\n",
       "      <th></th>\n",
       "      <th>TV</th>\n",
       "      <th>Radio</th>\n",
       "    </tr>\n",
       "  </thead>\n",
       "  <tbody>\n",
       "    <tr>\n",
       "      <th>0</th>\n",
       "      <td>100.0</td>\n",
       "      <td>10.0</td>\n",
       "    </tr>\n",
       "  </tbody>\n",
       "</table>\n",
       "</div>"
      ],
      "text/plain": [
       "      TV  Radio\n",
       "0  100.0   10.0"
      ]
     },
     "execution_count": 33,
     "metadata": {},
     "output_type": "execute_result"
    }
   ],
   "source": [
    "d = {\"TV\":[100.0],\"Radio\":[10.0]}\n",
    "pd_df = pd.DataFrame(data=d)\n",
    "pd_df.head()"
   ]
  },
  {
   "cell_type": "code",
   "execution_count": 34,
   "id": "e2e7d37f",
   "metadata": {},
   "outputs": [
    {
     "name": "stdout",
     "output_type": "stream",
     "text": [
      "+-----+-----+\n",
      "|   TV|Radio|\n",
      "+-----+-----+\n",
      "|100.0| 10.0|\n",
      "+-----+-----+\n",
      "\n"
     ]
    }
   ],
   "source": [
    "predict_df = spark.createDataFrame(pd_df)\n",
    "predict_df.show()"
   ]
  },
  {
   "cell_type": "code",
   "execution_count": 35,
   "id": "1e2ff5ad",
   "metadata": {},
   "outputs": [
    {
     "data": {
      "text/html": [
       "<div>\n",
       "<style scoped>\n",
       "    .dataframe tbody tr th:only-of-type {\n",
       "        vertical-align: middle;\n",
       "    }\n",
       "\n",
       "    .dataframe tbody tr th {\n",
       "        vertical-align: top;\n",
       "    }\n",
       "\n",
       "    .dataframe thead th {\n",
       "        text-align: right;\n",
       "    }\n",
       "</style>\n",
       "<table border=\"1\" class=\"dataframe\">\n",
       "  <thead>\n",
       "    <tr style=\"text-align: right;\">\n",
       "      <th></th>\n",
       "      <th>TV</th>\n",
       "      <th>Radio</th>\n",
       "    </tr>\n",
       "  </thead>\n",
       "  <tbody>\n",
       "    <tr>\n",
       "      <th>0</th>\n",
       "      <td>100.0</td>\n",
       "      <td>10.0</td>\n",
       "    </tr>\n",
       "  </tbody>\n",
       "</table>\n",
       "</div>"
      ],
      "text/plain": [
       "      TV  Radio\n",
       "0  100.0   10.0"
      ]
     },
     "execution_count": 35,
     "metadata": {},
     "output_type": "execute_result"
    }
   ],
   "source": [
    "predict_df.toPandas().head()"
   ]
  },
  {
   "cell_type": "code",
   "execution_count": 36,
   "id": "cdb35b85",
   "metadata": {},
   "outputs": [],
   "source": [
    "predict_df_vec = vector_assembler.transform(predict_df)"
   ]
  },
  {
   "cell_type": "code",
   "execution_count": 37,
   "id": "1401fe72",
   "metadata": {},
   "outputs": [
    {
     "name": "stdout",
     "output_type": "stream",
     "text": [
      "+-----+-----+------------+-----------------+\n",
      "|   TV|Radio|    features|       prediction|\n",
      "+-----+-----+------------+-----------------+\n",
      "|100.0| 10.0|[100.0,10.0]|9.334383277881834|\n",
      "+-----+-----+------------+-----------------+\n",
      "\n"
     ]
    }
   ],
   "source": [
    "lr_model.transform(predict_df_vec).show()"
   ]
  },
  {
   "cell_type": "code",
   "execution_count": null,
   "id": "b052133d",
   "metadata": {},
   "outputs": [],
   "source": []
  }
 ],
 "metadata": {
  "kernelspec": {
   "display_name": "Python 3",
   "language": "python",
   "name": "python3"
  },
  "language_info": {
   "codemirror_mode": {
    "name": "ipython",
    "version": 3
   },
   "file_extension": ".py",
   "mimetype": "text/x-python",
   "name": "python",
   "nbconvert_exporter": "python",
   "pygments_lexer": "ipython3",
   "version": "3.6.15"
  }
 },
 "nbformat": 4,
 "nbformat_minor": 5
}
