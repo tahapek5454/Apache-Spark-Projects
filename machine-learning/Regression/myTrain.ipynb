{
 "cells": [
  {
   "cell_type": "code",
   "execution_count": 2,
   "id": "2f959dd8",
   "metadata": {},
   "outputs": [],
   "source": [
    "import findspark\n",
    "findspark.init()"
   ]
  },
  {
   "cell_type": "code",
   "execution_count": 3,
   "id": "ed41d92b",
   "metadata": {},
   "outputs": [],
   "source": [
    "from pyspark.sql import SparkSession\n",
    "\n",
    "spark = SparkSession.builder \\\n",
    ".appName(\"myTrain\") \\\n",
    ".master(\"local[4]\") \\\n",
    ".config(\"spark.driver.memory\",\"2g\") \\\n",
    ".config(\"spark.executor.memory\",\"4g\") \\\n",
    ".getOrCreate()"
   ]
  },
  {
   "cell_type": "markdown",
   "id": "03890850",
   "metadata": {},
   "source": [
    "# Veri Setini okuma"
   ]
  },
  {
   "cell_type": "code",
   "execution_count": 4,
   "id": "8ad3ea1c",
   "metadata": {},
   "outputs": [],
   "source": [
    "df = spark.read.format(\"csv\") \\\n",
    ".option(\"header\",True) \\\n",
    ".option(\"inferScHEMA\",True) \\\n",
    ".option(\"sep\",\",\") \\\n",
    ".load(\"/home/taha/Downloads/Advertising.csv\")"
   ]
  },
  {
   "cell_type": "code",
   "execution_count": 7,
   "id": "f74cf38e",
   "metadata": {
    "scrolled": true
   },
   "outputs": [
    {
     "data": {
      "text/html": [
       "<div>\n",
       "<style scoped>\n",
       "    .dataframe tbody tr th:only-of-type {\n",
       "        vertical-align: middle;\n",
       "    }\n",
       "\n",
       "    .dataframe tbody tr th {\n",
       "        vertical-align: top;\n",
       "    }\n",
       "\n",
       "    .dataframe thead th {\n",
       "        text-align: right;\n",
       "    }\n",
       "</style>\n",
       "<table border=\"1\" class=\"dataframe\">\n",
       "  <thead>\n",
       "    <tr style=\"text-align: right;\">\n",
       "      <th></th>\n",
       "      <th>_c0</th>\n",
       "      <th>TV</th>\n",
       "      <th>Radio</th>\n",
       "      <th>Newspaper</th>\n",
       "      <th>Sales</th>\n",
       "    </tr>\n",
       "  </thead>\n",
       "  <tbody>\n",
       "    <tr>\n",
       "      <th>0</th>\n",
       "      <td>1</td>\n",
       "      <td>230.1</td>\n",
       "      <td>37.8</td>\n",
       "      <td>69.2</td>\n",
       "      <td>22.1</td>\n",
       "    </tr>\n",
       "    <tr>\n",
       "      <th>1</th>\n",
       "      <td>2</td>\n",
       "      <td>44.5</td>\n",
       "      <td>39.3</td>\n",
       "      <td>45.1</td>\n",
       "      <td>10.4</td>\n",
       "    </tr>\n",
       "    <tr>\n",
       "      <th>2</th>\n",
       "      <td>3</td>\n",
       "      <td>17.2</td>\n",
       "      <td>45.9</td>\n",
       "      <td>69.3</td>\n",
       "      <td>9.3</td>\n",
       "    </tr>\n",
       "    <tr>\n",
       "      <th>3</th>\n",
       "      <td>4</td>\n",
       "      <td>151.5</td>\n",
       "      <td>41.3</td>\n",
       "      <td>58.5</td>\n",
       "      <td>18.5</td>\n",
       "    </tr>\n",
       "    <tr>\n",
       "      <th>4</th>\n",
       "      <td>5</td>\n",
       "      <td>180.8</td>\n",
       "      <td>10.8</td>\n",
       "      <td>58.4</td>\n",
       "      <td>12.9</td>\n",
       "    </tr>\n",
       "  </tbody>\n",
       "</table>\n",
       "</div>"
      ],
      "text/plain": [
       "   _c0     TV  Radio  Newspaper  Sales\n",
       "0    1  230.1   37.8       69.2   22.1\n",
       "1    2   44.5   39.3       45.1   10.4\n",
       "2    3   17.2   45.9       69.3    9.3\n",
       "3    4  151.5   41.3       58.5   18.5\n",
       "4    5  180.8   10.8       58.4   12.9"
      ]
     },
     "execution_count": 7,
     "metadata": {},
     "output_type": "execute_result"
    }
   ],
   "source": [
    "df.toPandas().head()"
   ]
  },
  {
   "cell_type": "markdown",
   "id": "b9a4f08a",
   "metadata": {},
   "source": [
    "# Stun Isımlerini  Degistirme"
   ]
  },
  {
   "cell_type": "code",
   "execution_count": 8,
   "id": "25b25742",
   "metadata": {},
   "outputs": [],
   "source": [
    "yeni_nitelikler = [\"id\",\"TV\",\"Radio\",\"Newspaper\",\"label\"]"
   ]
  },
  {
   "cell_type": "code",
   "execution_count": 16,
   "id": "78114efd",
   "metadata": {},
   "outputs": [
    {
     "data": {
      "text/html": [
       "<div>\n",
       "<style scoped>\n",
       "    .dataframe tbody tr th:only-of-type {\n",
       "        vertical-align: middle;\n",
       "    }\n",
       "\n",
       "    .dataframe tbody tr th {\n",
       "        vertical-align: top;\n",
       "    }\n",
       "\n",
       "    .dataframe thead th {\n",
       "        text-align: right;\n",
       "    }\n",
       "</style>\n",
       "<table border=\"1\" class=\"dataframe\">\n",
       "  <thead>\n",
       "    <tr style=\"text-align: right;\">\n",
       "      <th></th>\n",
       "      <th>id</th>\n",
       "      <th>TV</th>\n",
       "      <th>Radio</th>\n",
       "      <th>Newspaper</th>\n",
       "      <th>label</th>\n",
       "    </tr>\n",
       "  </thead>\n",
       "  <tbody>\n",
       "    <tr>\n",
       "      <th>0</th>\n",
       "      <td>1</td>\n",
       "      <td>230.1</td>\n",
       "      <td>37.8</td>\n",
       "      <td>69.2</td>\n",
       "      <td>22.1</td>\n",
       "    </tr>\n",
       "    <tr>\n",
       "      <th>1</th>\n",
       "      <td>2</td>\n",
       "      <td>44.5</td>\n",
       "      <td>39.3</td>\n",
       "      <td>45.1</td>\n",
       "      <td>10.4</td>\n",
       "    </tr>\n",
       "    <tr>\n",
       "      <th>2</th>\n",
       "      <td>3</td>\n",
       "      <td>17.2</td>\n",
       "      <td>45.9</td>\n",
       "      <td>69.3</td>\n",
       "      <td>9.3</td>\n",
       "    </tr>\n",
       "    <tr>\n",
       "      <th>3</th>\n",
       "      <td>4</td>\n",
       "      <td>151.5</td>\n",
       "      <td>41.3</td>\n",
       "      <td>58.5</td>\n",
       "      <td>18.5</td>\n",
       "    </tr>\n",
       "    <tr>\n",
       "      <th>4</th>\n",
       "      <td>5</td>\n",
       "      <td>180.8</td>\n",
       "      <td>10.8</td>\n",
       "      <td>58.4</td>\n",
       "      <td>12.9</td>\n",
       "    </tr>\n",
       "  </tbody>\n",
       "</table>\n",
       "</div>"
      ],
      "text/plain": [
       "   id     TV  Radio  Newspaper  label\n",
       "0   1  230.1   37.8       69.2   22.1\n",
       "1   2   44.5   39.3       45.1   10.4\n",
       "2   3   17.2   45.9       69.3    9.3\n",
       "3   4  151.5   41.3       58.5   18.5\n",
       "4   5  180.8   10.8       58.4   12.9"
      ]
     },
     "execution_count": 16,
     "metadata": {},
     "output_type": "execute_result"
    }
   ],
   "source": [
    "df2 = df.selectExpr(\"_c0 as id\",\"TV\",\"Radio\",\"Newspaper\",\"Sales as label\")\n",
    "df2.toPandas().head()"
   ]
  },
  {
   "cell_type": "markdown",
   "id": "8bd58d12",
   "metadata": {},
   "source": [
    "# Nitelikleri Siniflandirma"
   ]
  },
  {
   "cell_type": "code",
   "execution_count": 39,
   "id": "325de361",
   "metadata": {},
   "outputs": [],
   "source": [
    "numerik_nitelikler = [\"TV\",\"Radio\"]\n",
    "# newspapaer cikariliyor\n",
    "label=[\"label\"]"
   ]
  },
  {
   "cell_type": "code",
   "execution_count": 40,
   "id": "dbc42e56",
   "metadata": {},
   "outputs": [
    {
     "data": {
      "text/html": [
       "<div>\n",
       "<style scoped>\n",
       "    .dataframe tbody tr th:only-of-type {\n",
       "        vertical-align: middle;\n",
       "    }\n",
       "\n",
       "    .dataframe tbody tr th {\n",
       "        vertical-align: top;\n",
       "    }\n",
       "\n",
       "    .dataframe thead th {\n",
       "        text-align: right;\n",
       "    }\n",
       "</style>\n",
       "<table border=\"1\" class=\"dataframe\">\n",
       "  <thead>\n",
       "    <tr style=\"text-align: right;\">\n",
       "      <th></th>\n",
       "      <th>summary</th>\n",
       "      <th>id</th>\n",
       "      <th>TV</th>\n",
       "      <th>Radio</th>\n",
       "      <th>Newspaper</th>\n",
       "      <th>label</th>\n",
       "    </tr>\n",
       "  </thead>\n",
       "  <tbody>\n",
       "    <tr>\n",
       "      <th>0</th>\n",
       "      <td>count</td>\n",
       "      <td>200</td>\n",
       "      <td>200</td>\n",
       "      <td>200</td>\n",
       "      <td>200</td>\n",
       "      <td>200</td>\n",
       "    </tr>\n",
       "    <tr>\n",
       "      <th>1</th>\n",
       "      <td>mean</td>\n",
       "      <td>100.5</td>\n",
       "      <td>147.0425</td>\n",
       "      <td>23.264000000000024</td>\n",
       "      <td>30.553999999999995</td>\n",
       "      <td>14.022500000000003</td>\n",
       "    </tr>\n",
       "    <tr>\n",
       "      <th>2</th>\n",
       "      <td>stddev</td>\n",
       "      <td>57.879184513951124</td>\n",
       "      <td>85.85423631490805</td>\n",
       "      <td>14.846809176168728</td>\n",
       "      <td>21.77862083852283</td>\n",
       "      <td>5.217456565710477</td>\n",
       "    </tr>\n",
       "    <tr>\n",
       "      <th>3</th>\n",
       "      <td>min</td>\n",
       "      <td>1</td>\n",
       "      <td>0.7</td>\n",
       "      <td>0.0</td>\n",
       "      <td>0.3</td>\n",
       "      <td>1.6</td>\n",
       "    </tr>\n",
       "    <tr>\n",
       "      <th>4</th>\n",
       "      <td>max</td>\n",
       "      <td>200</td>\n",
       "      <td>296.4</td>\n",
       "      <td>49.6</td>\n",
       "      <td>114.0</td>\n",
       "      <td>27.0</td>\n",
       "    </tr>\n",
       "  </tbody>\n",
       "</table>\n",
       "</div>"
      ],
      "text/plain": [
       "  summary                  id                 TV               Radio  \\\n",
       "0   count                 200                200                 200   \n",
       "1    mean               100.5           147.0425  23.264000000000024   \n",
       "2  stddev  57.879184513951124  85.85423631490805  14.846809176168728   \n",
       "3     min                   1                0.7                 0.0   \n",
       "4     max                 200              296.4                49.6   \n",
       "\n",
       "            Newspaper               label  \n",
       "0                 200                 200  \n",
       "1  30.553999999999995  14.022500000000003  \n",
       "2   21.77862083852283   5.217456565710477  \n",
       "3                 0.3                 1.6  \n",
       "4               114.0                27.0  "
      ]
     },
     "execution_count": 40,
     "metadata": {},
     "output_type": "execute_result"
    }
   ],
   "source": [
    "df2.describe().toPandas().head()"
   ]
  },
  {
   "cell_type": "markdown",
   "id": "21746bb1",
   "metadata": {},
   "source": [
    "# Eksik bir veri yok Veri kaybı Gozukmuyor"
   ]
  },
  {
   "cell_type": "markdown",
   "id": "7597ff63",
   "metadata": {},
   "source": [
    "# Veri Hazirligine Gecebilirz"
   ]
  },
  {
   "cell_type": "code",
   "execution_count": 41,
   "id": "d460ebe0",
   "metadata": {},
   "outputs": [],
   "source": [
    "from pyspark.ml.feature import VectorAssembler"
   ]
  },
  {
   "cell_type": "code",
   "execution_count": 42,
   "id": "79912ac0",
   "metadata": {},
   "outputs": [],
   "source": [
    "vector_assembler = VectorAssembler().setInputCols(numerik_nitelikler) \\\n",
    ".setOutputCol(\"features\")"
   ]
  },
  {
   "cell_type": "markdown",
   "id": "4eef0341",
   "metadata": {},
   "source": [
    "# Regresyon Modeli"
   ]
  },
  {
   "cell_type": "code",
   "execution_count": 43,
   "id": "a00ddff6",
   "metadata": {},
   "outputs": [],
   "source": [
    "from pyspark.ml.regression import LinearRegression"
   ]
  },
  {
   "cell_type": "code",
   "execution_count": 44,
   "id": "0383ba7d",
   "metadata": {},
   "outputs": [],
   "source": [
    "lr_obj = LinearRegression().setFeaturesCol(\"features\") \\\n",
    ".setLabelCol(\"label\")"
   ]
  },
  {
   "cell_type": "markdown",
   "id": "947124d0",
   "metadata": {},
   "source": [
    "# Pipeline Modeli"
   ]
  },
  {
   "cell_type": "code",
   "execution_count": 45,
   "id": "36cafeb6",
   "metadata": {},
   "outputs": [],
   "source": [
    "from pyspark.ml import Pipeline"
   ]
  },
  {
   "cell_type": "code",
   "execution_count": 46,
   "id": "b3ca19bb",
   "metadata": {},
   "outputs": [],
   "source": [
    "pipeline_obj = Pipeline().setStages([vector_assembler,lr_obj])"
   ]
  },
  {
   "cell_type": "markdown",
   "id": "5c1356d6",
   "metadata": {},
   "source": [
    "# Veri Ayirimi"
   ]
  },
  {
   "cell_type": "code",
   "execution_count": 47,
   "id": "39d65830",
   "metadata": {},
   "outputs": [],
   "source": [
    "train_df , test_df = df2.randomSplit([0.8,0.2],seed = 142)"
   ]
  },
  {
   "cell_type": "markdown",
   "id": "518f1373",
   "metadata": {},
   "source": [
    "# Model Egitimi"
   ]
  },
  {
   "cell_type": "code",
   "execution_count": 48,
   "id": "6382a4d0",
   "metadata": {},
   "outputs": [],
   "source": [
    "pipeline_model = pipeline_obj.fit(train_df)"
   ]
  },
  {
   "cell_type": "markdown",
   "id": "7fe6a7ae",
   "metadata": {},
   "source": [
    "# Model testi"
   ]
  },
  {
   "cell_type": "code",
   "execution_count": 49,
   "id": "f7d9e397",
   "metadata": {},
   "outputs": [],
   "source": [
    "result_df = pipeline_model.transform(test_df)"
   ]
  },
  {
   "cell_type": "code",
   "execution_count": 50,
   "id": "1b0ab73c",
   "metadata": {},
   "outputs": [
    {
     "data": {
      "text/html": [
       "<div>\n",
       "<style scoped>\n",
       "    .dataframe tbody tr th:only-of-type {\n",
       "        vertical-align: middle;\n",
       "    }\n",
       "\n",
       "    .dataframe tbody tr th {\n",
       "        vertical-align: top;\n",
       "    }\n",
       "\n",
       "    .dataframe thead th {\n",
       "        text-align: right;\n",
       "    }\n",
       "</style>\n",
       "<table border=\"1\" class=\"dataframe\">\n",
       "  <thead>\n",
       "    <tr style=\"text-align: right;\">\n",
       "      <th></th>\n",
       "      <th>id</th>\n",
       "      <th>TV</th>\n",
       "      <th>Radio</th>\n",
       "      <th>Newspaper</th>\n",
       "      <th>label</th>\n",
       "      <th>features</th>\n",
       "      <th>prediction</th>\n",
       "    </tr>\n",
       "  </thead>\n",
       "  <tbody>\n",
       "    <tr>\n",
       "      <th>0</th>\n",
       "      <td>3</td>\n",
       "      <td>17.2</td>\n",
       "      <td>45.9</td>\n",
       "      <td>69.3</td>\n",
       "      <td>9.3</td>\n",
       "      <td>[17.2, 45.9]</td>\n",
       "      <td>12.773880</td>\n",
       "    </tr>\n",
       "    <tr>\n",
       "      <th>1</th>\n",
       "      <td>6</td>\n",
       "      <td>8.7</td>\n",
       "      <td>48.9</td>\n",
       "      <td>75.0</td>\n",
       "      <td>7.2</td>\n",
       "      <td>[8.7, 48.9]</td>\n",
       "      <td>12.991416</td>\n",
       "    </tr>\n",
       "    <tr>\n",
       "      <th>2</th>\n",
       "      <td>9</td>\n",
       "      <td>8.6</td>\n",
       "      <td>2.1</td>\n",
       "      <td>1.0</td>\n",
       "      <td>4.8</td>\n",
       "      <td>[8.6, 2.1]</td>\n",
       "      <td>3.731130</td>\n",
       "    </tr>\n",
       "    <tr>\n",
       "      <th>3</th>\n",
       "      <td>10</td>\n",
       "      <td>199.8</td>\n",
       "      <td>2.6</td>\n",
       "      <td>21.2</td>\n",
       "      <td>10.6</td>\n",
       "      <td>[199.8, 2.6]</td>\n",
       "      <td>12.283048</td>\n",
       "    </tr>\n",
       "    <tr>\n",
       "      <th>4</th>\n",
       "      <td>17</td>\n",
       "      <td>67.8</td>\n",
       "      <td>36.6</td>\n",
       "      <td>114.0</td>\n",
       "      <td>12.5</td>\n",
       "      <td>[67.8, 36.6]</td>\n",
       "      <td>13.171620</td>\n",
       "    </tr>\n",
       "  </tbody>\n",
       "</table>\n",
       "</div>"
      ],
      "text/plain": [
       "   id     TV  Radio  Newspaper  label      features  prediction\n",
       "0   3   17.2   45.9       69.3    9.3  [17.2, 45.9]   12.773880\n",
       "1   6    8.7   48.9       75.0    7.2   [8.7, 48.9]   12.991416\n",
       "2   9    8.6    2.1        1.0    4.8    [8.6, 2.1]    3.731130\n",
       "3  10  199.8    2.6       21.2   10.6  [199.8, 2.6]   12.283048\n",
       "4  17   67.8   36.6      114.0   12.5  [67.8, 36.6]   13.171620"
      ]
     },
     "execution_count": 50,
     "metadata": {},
     "output_type": "execute_result"
    }
   ],
   "source": [
    "result_df.toPandas().head()"
   ]
  },
  {
   "cell_type": "markdown",
   "id": "ca99822d",
   "metadata": {},
   "source": [
    "# Pipeline modelin icinden lr modeli almak"
   ]
  },
  {
   "cell_type": "code",
   "execution_count": 51,
   "id": "e7801be3",
   "metadata": {},
   "outputs": [],
   "source": [
    "lr_model = pipeline_model.stages[1]"
   ]
  },
  {
   "cell_type": "code",
   "execution_count": 52,
   "id": "d06b1d84",
   "metadata": {},
   "outputs": [
    {
     "data": {
      "text/plain": [
       "DenseVector([0.0442, 0.1978])"
      ]
     },
     "execution_count": 52,
     "metadata": {},
     "output_type": "execute_result"
    }
   ],
   "source": [
    "lr_model.coefficients"
   ]
  },
  {
   "cell_type": "code",
   "execution_count": 53,
   "id": "e211c498",
   "metadata": {},
   "outputs": [
    {
     "data": {
      "text/plain": [
       "2.935593134859488"
      ]
     },
     "execution_count": 53,
     "metadata": {},
     "output_type": "execute_result"
    }
   ],
   "source": [
    "lr_model.intercept"
   ]
  },
  {
   "cell_type": "code",
   "execution_count": 54,
   "id": "1536d55e",
   "metadata": {},
   "outputs": [
    {
     "data": {
      "text/plain": [
       "0.8928931248714045"
      ]
     },
     "execution_count": 54,
     "metadata": {},
     "output_type": "execute_result"
    }
   ],
   "source": [
    "lr_model.summary.r2"
   ]
  },
  {
   "cell_type": "code",
   "execution_count": 55,
   "id": "4f96ce3a",
   "metadata": {},
   "outputs": [
    {
     "data": {
      "text/plain": [
       "1.6578475603790448"
      ]
     },
     "execution_count": 55,
     "metadata": {},
     "output_type": "execute_result"
    }
   ],
   "source": [
    "lr_model.summary.rootMeanSquaredError"
   ]
  },
  {
   "cell_type": "code",
   "execution_count": 56,
   "id": "27b644a4",
   "metadata": {},
   "outputs": [
    {
     "data": {
      "text/plain": [
       "[0.0, 0.0, 3.774758283725532e-15]"
      ]
     },
     "execution_count": 56,
     "metadata": {},
     "output_type": "execute_result"
    }
   ],
   "source": [
    "lr_model.summary.pValues"
   ]
  },
  {
   "cell_type": "code",
   "execution_count": 57,
   "id": "2aa00755",
   "metadata": {},
   "outputs": [
    {
     "data": {
      "text/plain": [
       "[27.918094216203865, 21.216582516976807, 8.740412243937218]"
      ]
     },
     "execution_count": 57,
     "metadata": {},
     "output_type": "execute_result"
    }
   ],
   "source": [
    "lr_model.summary.tValues"
   ]
  },
  {
   "cell_type": "markdown",
   "id": "f7b1d74b",
   "metadata": {},
   "source": [
    "# NOT\n",
    "### p values lere baktigimizda newspaperin degeiriniz(0.57)\n",
    "### yani 0.05 ten kat kat buyuk oldugu gorulur\n",
    "### daha kesin sonuc icin bu deger cikarilmalidir\n",
    "### simdi numerik degisikliklerden bu degeri cikaracagiz\n",
    "### ve kodu tekrar calistaracagiz"
   ]
  },
  {
   "cell_type": "markdown",
   "id": "223fb669",
   "metadata": {},
   "source": [
    "### Cikar isleminden sonra p degerleri 0.05 ten az kaldi"
   ]
  },
  {
   "cell_type": "markdown",
   "id": "e761ffcd",
   "metadata": {},
   "source": [
    "# Prediction"
   ]
  },
  {
   "cell_type": "code",
   "execution_count": 58,
   "id": "2ecbd09c",
   "metadata": {},
   "outputs": [],
   "source": [
    "# 100 bin TV için 10 bin Radio için"
   ]
  },
  {
   "cell_type": "code",
   "execution_count": 59,
   "id": "c540cf40",
   "metadata": {},
   "outputs": [],
   "source": [
    "import pandas"
   ]
  },
  {
   "cell_type": "code",
   "execution_count": 61,
   "id": "89a4d9ae",
   "metadata": {},
   "outputs": [
    {
     "data": {
      "text/html": [
       "<div>\n",
       "<style scoped>\n",
       "    .dataframe tbody tr th:only-of-type {\n",
       "        vertical-align: middle;\n",
       "    }\n",
       "\n",
       "    .dataframe tbody tr th {\n",
       "        vertical-align: top;\n",
       "    }\n",
       "\n",
       "    .dataframe thead th {\n",
       "        text-align: right;\n",
       "    }\n",
       "</style>\n",
       "<table border=\"1\" class=\"dataframe\">\n",
       "  <thead>\n",
       "    <tr style=\"text-align: right;\">\n",
       "      <th></th>\n",
       "      <th>TV</th>\n",
       "      <th>Radio</th>\n",
       "    </tr>\n",
       "  </thead>\n",
       "  <tbody>\n",
       "    <tr>\n",
       "      <th>0</th>\n",
       "      <td>100.0</td>\n",
       "      <td>10.0</td>\n",
       "    </tr>\n",
       "  </tbody>\n",
       "</table>\n",
       "</div>"
      ],
      "text/plain": [
       "      TV  Radio\n",
       "0  100.0   10.0"
      ]
     },
     "execution_count": 61,
     "metadata": {},
     "output_type": "execute_result"
    }
   ],
   "source": [
    "new_df = {\"TV\":[100.0],\"Radio\":[10.0]}\n",
    "pd_df = pandas.DataFrame(data=new_df)\n",
    "pd_df.head()"
   ]
  },
  {
   "cell_type": "markdown",
   "id": "f9181ece",
   "metadata": {},
   "source": [
    "# pandas dataframe i spark dataframe cevirmeliyiz"
   ]
  },
  {
   "cell_type": "code",
   "execution_count": 64,
   "id": "6aea4a09",
   "metadata": {},
   "outputs": [],
   "source": [
    "predict_df = spark.createDataFrame(pd_df)"
   ]
  },
  {
   "cell_type": "code",
   "execution_count": 65,
   "id": "298c429a",
   "metadata": {},
   "outputs": [
    {
     "name": "stdout",
     "output_type": "stream",
     "text": [
      "+-----+-----+\n",
      "|   TV|Radio|\n",
      "+-----+-----+\n",
      "|100.0| 10.0|\n",
      "+-----+-----+\n",
      "\n"
     ]
    }
   ],
   "source": [
    "predict_df.show()"
   ]
  },
  {
   "cell_type": "code",
   "execution_count": 66,
   "id": "bcaaf64a",
   "metadata": {},
   "outputs": [],
   "source": [
    "predict_df_vec = vector_assembler.transform(predict_df)"
   ]
  },
  {
   "cell_type": "code",
   "execution_count": 68,
   "id": "629791ee",
   "metadata": {},
   "outputs": [
    {
     "name": "stdout",
     "output_type": "stream",
     "text": [
      "+-----+-----+------------+-----------------+\n",
      "|   TV|Radio|    features|       prediction|\n",
      "+-----+-----+------------+-----------------+\n",
      "|100.0| 10.0|[100.0,10.0]|9.334383277881834|\n",
      "+-----+-----+------------+-----------------+\n",
      "\n"
     ]
    }
   ],
   "source": [
    "lr_model.transform(predict_df_vec).show()"
   ]
  },
  {
   "cell_type": "code",
   "execution_count": null,
   "id": "bd59c55f",
   "metadata": {},
   "outputs": [],
   "source": []
  }
 ],
 "metadata": {
  "kernelspec": {
   "display_name": "Python 3",
   "language": "python",
   "name": "python3"
  },
  "language_info": {
   "codemirror_mode": {
    "name": "ipython",
    "version": 3
   },
   "file_extension": ".py",
   "mimetype": "text/x-python",
   "name": "python",
   "nbconvert_exporter": "python",
   "pygments_lexer": "ipython3",
   "version": "3.6.15"
  }
 },
 "nbformat": 4,
 "nbformat_minor": 5
}
