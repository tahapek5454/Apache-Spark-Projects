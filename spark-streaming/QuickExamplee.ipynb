{
 "cells": [
  {
   "cell_type": "code",
   "execution_count": 1,
   "id": "78f3940b",
   "metadata": {},
   "outputs": [],
   "source": [
    "import findspark\n",
    "findspark.init()"
   ]
  },
  {
   "cell_type": "code",
   "execution_count": 2,
   "id": "30026424",
   "metadata": {},
   "outputs": [],
   "source": [
    "from pyspark.streaming import *\n",
    "from pyspark import SparkContext,SparkConf"
   ]
  },
  {
   "cell_type": "code",
   "execution_count": 3,
   "id": "6344e968",
   "metadata": {},
   "outputs": [],
   "source": [
    "sc = SparkContext(\"local[4]\",\"StreamingQuickc\")"
   ]
  },
  {
   "cell_type": "code",
   "execution_count": 4,
   "id": "9f9e657e",
   "metadata": {},
   "outputs": [],
   "source": [
    "ssc = StreamingContext(sc,batchDuration=10)\n",
    "# 10 saniyede bir veri cek"
   ]
  },
  {
   "cell_type": "code",
   "execution_count": 5,
   "id": "b14700fd",
   "metadata": {},
   "outputs": [],
   "source": [
    "lines = ssc.textFileStream(\"/home/taha/Desktop/projeler/spark-streaming-test\")"
   ]
  },
  {
   "cell_type": "code",
   "execution_count": 6,
   "id": "78018aca",
   "metadata": {},
   "outputs": [],
   "source": [
    "words = lines.flatMap(lambda x : x.split(\" \"))"
   ]
  },
  {
   "cell_type": "code",
   "execution_count": 7,
   "id": "0bd8b276",
   "metadata": {},
   "outputs": [],
   "source": [
    "mapped_words = words.map(lambda  x: (x,1))"
   ]
  },
  {
   "cell_type": "code",
   "execution_count": 8,
   "id": "eb2b113b",
   "metadata": {},
   "outputs": [],
   "source": [
    "wordcounts = mapped_words.reduceByKey(lambda x,y : x+y)"
   ]
  },
  {
   "cell_type": "code",
   "execution_count": 10,
   "id": "27994c83",
   "metadata": {},
   "outputs": [],
   "source": [
    "sorted_wordcounts = wordcounts.map(lambda x : (x[1],x[0])) \\\n",
    ".transform(lambda x : x.sortByKey(False))"
   ]
  },
  {
   "cell_type": "code",
   "execution_count": null,
   "id": "abda54de",
   "metadata": {},
   "outputs": [],
   "source": []
  },
  {
   "cell_type": "code",
   "execution_count": null,
   "id": "e307f6ad",
   "metadata": {},
   "outputs": [],
   "source": []
  },
  {
   "cell_type": "code",
   "execution_count": 11,
   "id": "0da13e87",
   "metadata": {},
   "outputs": [],
   "source": [
    "sorted_wordcounts.pprint(30)\n",
    "# 30 satir oku"
   ]
  },
  {
   "cell_type": "code",
   "execution_count": 12,
   "id": "661ef1aa",
   "metadata": {},
   "outputs": [],
   "source": [
    "ssc.start()"
   ]
  },
  {
   "cell_type": "code",
   "execution_count": null,
   "id": "f5d336be",
   "metadata": {},
   "outputs": [
    {
     "name": "stdout",
     "output_type": "stream",
     "text": [
      "-------------------------------------------\n",
      "Time: 2022-06-25 17:34:20\n",
      "-------------------------------------------\n",
      "\n",
      "-------------------------------------------\n",
      "Time: 2022-06-25 17:34:30\n",
      "-------------------------------------------\n",
      "\n",
      "-------------------------------------------\n",
      "Time: 2022-06-25 17:34:40\n",
      "-------------------------------------------\n",
      "\n",
      "-------------------------------------------\n",
      "Time: 2022-06-25 17:34:50\n",
      "-------------------------------------------\n",
      "(61, '')\n",
      "(33, 'bir')\n",
      "(31, '–')\n",
      "(8, 'yıl')\n",
      "(6, 'diye')\n",
      "(5, 'dedi.')\n",
      "(5, 'onun')\n",
      "(5, 'doğru')\n",
      "(5, 'Kırk')\n",
      "(5, 'Türk')\n",
      "(4, 'Yirmi')\n",
      "(4, 'Ben')\n",
      "(4, 'gibi')\n",
      "(4, 'Ama')\n",
      "(4, 'tutsak')\n",
      "(4, 'büyük')\n",
      "(3, 'içinde')\n",
      "(3, 'daha')\n",
      "(3, 'rüya')\n",
      "(3, 'çıkan')\n",
      "(3, 'Kara')\n",
      "(3, 'gibiydi.')\n",
      "(3, 'kadar')\n",
      "(3, 'baktı.')\n",
      "(3, 'yanı')\n",
      "(3, 'şey')\n",
      "(3, 'onu')\n",
      "(3, 'geminin')\n",
      "(3, 'sonra')\n",
      "(3, 'başladı.')\n",
      "...\n",
      "\n",
      "-------------------------------------------\n",
      "Time: 2022-06-25 17:35:00\n",
      "-------------------------------------------\n",
      "\n",
      "-------------------------------------------\n",
      "Time: 2022-06-25 17:35:10\n",
      "-------------------------------------------\n",
      "\n",
      "-------------------------------------------\n",
      "Time: 2022-06-25 17:35:20\n",
      "-------------------------------------------\n",
      "\n"
     ]
    }
   ],
   "source": [
    "ssc.awaitTermination()"
   ]
  },
  {
   "cell_type": "code",
   "execution_count": null,
   "id": "33d377cd",
   "metadata": {},
   "outputs": [],
   "source": []
  }
 ],
 "metadata": {
  "kernelspec": {
   "display_name": "Python 3",
   "language": "python",
   "name": "python3"
  },
  "language_info": {
   "codemirror_mode": {
    "name": "ipython",
    "version": 3
   },
   "file_extension": ".py",
   "mimetype": "text/x-python",
   "name": "python",
   "nbconvert_exporter": "python",
   "pygments_lexer": "ipython3",
   "version": "3.6.15"
  }
 },
 "nbformat": 4,
 "nbformat_minor": 5
}
