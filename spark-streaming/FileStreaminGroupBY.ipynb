{
 "cells": [
  {
   "cell_type": "code",
   "execution_count": 45,
   "id": "f4899ff5",
   "metadata": {},
   "outputs": [],
   "source": [
    "import findspark\n",
    "findspark.init()"
   ]
  },
  {
   "cell_type": "code",
   "execution_count": 46,
   "id": "18994bdc",
   "metadata": {},
   "outputs": [],
   "source": [
    "from pyspark import SparkContext,SparkConf\n",
    "from pyspark.streaming import *"
   ]
  },
  {
   "cell_type": "code",
   "execution_count": 47,
   "id": "6a48f477",
   "metadata": {},
   "outputs": [],
   "source": [
    "sc = SparkContext(\"local[4]\",\"FileStreamGroupBY\")"
   ]
  },
  {
   "cell_type": "code",
   "execution_count": 48,
   "id": "aa3422f6",
   "metadata": {},
   "outputs": [],
   "source": [
    "ssc = StreamingContext(sc,5)"
   ]
  },
  {
   "cell_type": "code",
   "execution_count": 49,
   "id": "41169004",
   "metadata": {},
   "outputs": [],
   "source": [
    "lines = ssc.textFileStream(\"/home/taha/Desktop/projeler/spark-streaming-test\")"
   ]
  },
  {
   "cell_type": "markdown",
   "id": "8ecb00ee",
   "metadata": {},
   "source": [
    "# CheckPoint "
   ]
  },
  {
   "cell_type": "code",
   "execution_count": 50,
   "id": "17b48d4e",
   "metadata": {},
   "outputs": [],
   "source": [
    "ssc.checkpoint(\"/home/taha/Desktop/projeler/spark-streaming/checkpoint\")"
   ]
  },
  {
   "cell_type": "code",
   "execution_count": 51,
   "id": "ad655b04",
   "metadata": {},
   "outputs": [],
   "source": [
    "words =lines.flatMap(lambda x : x.split(\" \"))"
   ]
  },
  {
   "cell_type": "code",
   "execution_count": 52,
   "id": "8dfbcd31",
   "metadata": {},
   "outputs": [],
   "source": [
    "mapped_words = words.map(lambda x : (x,1))"
   ]
  },
  {
   "cell_type": "markdown",
   "id": "77b6fe50",
   "metadata": {},
   "source": [
    "# CountBY Window"
   ]
  },
  {
   "cell_type": "code",
   "execution_count": 53,
   "id": "402e1ce2",
   "metadata": {},
   "outputs": [],
   "source": [
    "countByWindow = mapped_words.countByWindow(windowDuration=30,slideDuration=10)"
   ]
  },
  {
   "cell_type": "markdown",
   "id": "d4416e7c",
   "metadata": {},
   "source": [
    "# Yazdir"
   ]
  },
  {
   "cell_type": "code",
   "execution_count": 54,
   "id": "cbac4979",
   "metadata": {},
   "outputs": [],
   "source": [
    "countByWindow.pprint()"
   ]
  },
  {
   "cell_type": "markdown",
   "id": "ef62ca5b",
   "metadata": {},
   "source": [
    "# Start"
   ]
  },
  {
   "cell_type": "code",
   "execution_count": 55,
   "id": "a7a53cd0",
   "metadata": {},
   "outputs": [
    {
     "name": "stdout",
     "output_type": "stream",
     "text": [
      "-------------------------------------------\n",
      "Time: 2022-06-25 18:24:10\n",
      "-------------------------------------------\n",
      "\n",
      "-------------------------------------------\n",
      "Time: 2022-06-25 18:24:20\n",
      "-------------------------------------------\n",
      "\n",
      "-------------------------------------------\n",
      "Time: 2022-06-25 18:24:30\n",
      "-------------------------------------------\n",
      "1121\n",
      "\n",
      "-------------------------------------------\n",
      "Time: 2022-06-25 18:24:40\n",
      "-------------------------------------------\n",
      "1121\n",
      "\n",
      "-------------------------------------------\n",
      "Time: 2022-06-25 18:24:50\n",
      "-------------------------------------------\n",
      "1121\n",
      "\n"
     ]
    }
   ],
   "source": [
    "ssc.start()"
   ]
  },
  {
   "cell_type": "code",
   "execution_count": 56,
   "id": "9ed1b78a",
   "metadata": {},
   "outputs": [
    {
     "name": "stdout",
     "output_type": "stream",
     "text": [
      "-------------------------------------------\n",
      "Time: 2022-06-25 18:25:00\n",
      "-------------------------------------------\n",
      "\n"
     ]
    }
   ],
   "source": [
    "ssc.stop(stopSparkContext=True,stopGraceFully=True)"
   ]
  },
  {
   "cell_type": "code",
   "execution_count": null,
   "id": "2aa2f9d3",
   "metadata": {},
   "outputs": [],
   "source": []
  },
  {
   "cell_type": "code",
   "execution_count": null,
   "id": "b3b54301",
   "metadata": {},
   "outputs": [],
   "source": []
  }
 ],
 "metadata": {
  "kernelspec": {
   "display_name": "Python 3",
   "language": "python",
   "name": "python3"
  },
  "language_info": {
   "codemirror_mode": {
    "name": "ipython",
    "version": 3
   },
   "file_extension": ".py",
   "mimetype": "text/x-python",
   "name": "python",
   "nbconvert_exporter": "python",
   "pygments_lexer": "ipython3",
   "version": "3.6.15"
  }
 },
 "nbformat": 4,
 "nbformat_minor": 5
}
