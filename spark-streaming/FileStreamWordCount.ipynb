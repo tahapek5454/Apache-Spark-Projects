{
 "cells": [
  {
   "cell_type": "code",
   "execution_count": 1,
   "id": "9b6e5d2e",
   "metadata": {},
   "outputs": [],
   "source": [
    "import findspark\n",
    "findspark.init()"
   ]
  },
  {
   "cell_type": "code",
   "execution_count": 2,
   "id": "31f56630",
   "metadata": {},
   "outputs": [],
   "source": [
    "from pyspark import SparkContext,SparkConf\n",
    "from pyspark.streaming import *"
   ]
  },
  {
   "cell_type": "code",
   "execution_count": 3,
   "id": "4b1c8811",
   "metadata": {},
   "outputs": [],
   "source": [
    "sc = SparkContext(\"local[4]\",\"FileStream\")"
   ]
  },
  {
   "cell_type": "code",
   "execution_count": 4,
   "id": "eed82921",
   "metadata": {},
   "outputs": [],
   "source": [
    "ssc = StreamingContext(sc,5)"
   ]
  },
  {
   "cell_type": "code",
   "execution_count": 7,
   "id": "ecc6247f",
   "metadata": {},
   "outputs": [],
   "source": [
    "lines = ssc.textFileStream(\"/home/taha/Desktop/projeler/spark-streaming-test\")"
   ]
  },
  {
   "cell_type": "code",
   "execution_count": 9,
   "id": "e04f6cc8",
   "metadata": {},
   "outputs": [],
   "source": [
    "words =lines.flatMap(lambda x : x.split(\" \"))"
   ]
  },
  {
   "cell_type": "code",
   "execution_count": 10,
   "id": "a7d2b58e",
   "metadata": {},
   "outputs": [],
   "source": [
    "mapped_words = words.map(lambda x : (x,1))"
   ]
  },
  {
   "cell_type": "markdown",
   "id": "e3f36674",
   "metadata": {},
   "source": [
    "# Window Ops"
   ]
  },
  {
   "cell_type": "code",
   "execution_count": 11,
   "id": "8a186d0e",
   "metadata": {},
   "outputs": [],
   "source": [
    "window = mapped_words.window(windowDuration=30 , slideDuration=10)\n",
    "# slideDuration = StreaminContext ' deki alim hizinin kati yani = 5k'"
   ]
  },
  {
   "cell_type": "markdown",
   "id": "90a8ddac",
   "metadata": {},
   "source": [
    "# Yazdir"
   ]
  },
  {
   "cell_type": "code",
   "execution_count": 12,
   "id": "b763c7ee",
   "metadata": {},
   "outputs": [],
   "source": [
    "window.pprint()"
   ]
  },
  {
   "cell_type": "markdown",
   "id": "ee73fc77",
   "metadata": {},
   "source": [
    "# Start"
   ]
  },
  {
   "cell_type": "code",
   "execution_count": 13,
   "id": "880c4cfa",
   "metadata": {},
   "outputs": [
    {
     "name": "stdout",
     "output_type": "stream",
     "text": [
      "-------------------------------------------\n",
      "Time: 2022-06-25 18:05:10\n",
      "-------------------------------------------\n",
      "('', 1)\n",
      "('', 1)\n",
      "('', 1)\n",
      "('Ömer', 1)\n",
      "('Seyfettin', 1)\n",
      "('-', 1)\n",
      "('Forsa', 1)\n",
      "('', 1)\n",
      "('Akdeniz’in,', 1)\n",
      "('kahramanlık', 1)\n",
      "...\n",
      "\n",
      "-------------------------------------------\n",
      "Time: 2022-06-25 18:05:20\n",
      "-------------------------------------------\n",
      "('', 1)\n",
      "('', 1)\n",
      "('', 1)\n",
      "('Ömer', 1)\n",
      "('Seyfettin', 1)\n",
      "('-', 1)\n",
      "('Forsa', 1)\n",
      "('', 1)\n",
      "('Akdeniz’in,', 1)\n",
      "('kahramanlık', 1)\n",
      "...\n",
      "\n",
      "-------------------------------------------\n",
      "Time: 2022-06-25 18:05:30\n",
      "-------------------------------------------\n",
      "('', 1)\n",
      "('', 1)\n",
      "('', 1)\n",
      "('Ömer', 1)\n",
      "('Seyfettin', 1)\n",
      "('-', 1)\n",
      "('Forsa', 1)\n",
      "('', 1)\n",
      "('Akdeniz’in,', 1)\n",
      "('kahramanlık', 1)\n",
      "...\n",
      "\n",
      "-------------------------------------------\n",
      "Time: 2022-06-25 18:05:40\n",
      "-------------------------------------------\n",
      "\n",
      "-------------------------------------------\n",
      "Time: 2022-06-25 18:05:50\n",
      "-------------------------------------------\n",
      "\n",
      "-------------------------------------------\n",
      "Time: 2022-06-25 18:06:00\n",
      "-------------------------------------------\n",
      "\n",
      "-------------------------------------------\n",
      "Time: 2022-06-25 18:06:10\n",
      "-------------------------------------------\n",
      "\n"
     ]
    }
   ],
   "source": [
    "ssc.start()"
   ]
  },
  {
   "cell_type": "code",
   "execution_count": 14,
   "id": "6a412d38",
   "metadata": {},
   "outputs": [
    {
     "name": "stdout",
     "output_type": "stream",
     "text": [
      "-------------------------------------------\n",
      "Time: 2022-06-25 18:06:20\n",
      "-------------------------------------------\n",
      "\n"
     ]
    }
   ],
   "source": [
    "ssc.stop(stopSparkContext=True , stopGraceFully=True)"
   ]
  },
  {
   "cell_type": "code",
   "execution_count": null,
   "id": "5d573b1b",
   "metadata": {},
   "outputs": [],
   "source": []
  }
 ],
 "metadata": {
  "kernelspec": {
   "display_name": "Python 3",
   "language": "python",
   "name": "python3"
  },
  "language_info": {
   "codemirror_mode": {
    "name": "ipython",
    "version": 3
   },
   "file_extension": ".py",
   "mimetype": "text/x-python",
   "name": "python",
   "nbconvert_exporter": "python",
   "pygments_lexer": "ipython3",
   "version": "3.6.15"
  }
 },
 "nbformat": 4,
 "nbformat_minor": 5
}
