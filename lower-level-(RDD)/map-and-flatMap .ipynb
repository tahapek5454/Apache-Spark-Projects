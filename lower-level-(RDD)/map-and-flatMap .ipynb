{
 "cells": [
  {
   "cell_type": "code",
   "execution_count": 1,
   "id": "07258f11",
   "metadata": {},
   "outputs": [],
   "source": [
    "import findspark\n",
    "findspark.init()"
   ]
  },
  {
   "cell_type": "code",
   "execution_count": 14,
   "id": "0394cf6b",
   "metadata": {},
   "outputs": [],
   "source": [
    "from pyspark.sql import SparkSession\n",
    "from pyspark.conf import SparkConf"
   ]
  },
  {
   "cell_type": "code",
   "execution_count": 15,
   "id": "2a2bc712",
   "metadata": {},
   "outputs": [],
   "source": [
    "spark = SparkSession.builder \\\n",
    ".master(\"local[4]\") \\\n",
    ".appName(\"map-and-flatMap\") \\\n",
    ".getOrCreate()"
   ]
  },
  {
   "cell_type": "code",
   "execution_count": 16,
   "id": "11c619ca",
   "metadata": {},
   "outputs": [],
   "source": [
    "sc = spark.sparkContext"
   ]
  },
  {
   "cell_type": "code",
   "execution_count": 20,
   "id": "fbc94f0e",
   "metadata": {},
   "outputs": [],
   "source": [
    "insanlarRDD2 = sc.textFile(\"/home/taha/Downloads/simple_data.txt\")"
   ]
  },
  {
   "cell_type": "code",
   "execution_count": 21,
   "id": "dd5aae9d",
   "metadata": {},
   "outputs": [
    {
     "data": {
      "text/plain": [
       "['sirano,isim,yas,meslek,sehir,aylik_gelir',\n",
       " '1,Cemal,35,Isci,Ankara,3500',\n",
       " '2,Ceyda,42,Memur,Kayseri,4200',\n",
       " '3,Timur,30,Müzisyen,Istanbul,9000',\n",
       " '4,Burcu,29,Pazarlamaci,Ankara,4200',\n",
       " '5,Yasemin,23,Pazarlamaci,Bursa,4800',\n",
       " '6,Ali,33,Memur,Ankara,4250',\n",
       " '7,Dilek,29,Pazarlamaci,Istanbul,7300',\n",
       " '8,Murat,31,Müzisyen,Istanbul,12000',\n",
       " '9,Ahmet,33,Doktor,Ankara,18000']"
      ]
     },
     "execution_count": 21,
     "metadata": {},
     "output_type": "execute_result"
    }
   ],
   "source": [
    "insanlarRDD2.take(10)"
   ]
  },
  {
   "cell_type": "code",
   "execution_count": 22,
   "id": "34d4788b",
   "metadata": {},
   "outputs": [],
   "source": [
    "insanlarRDD = insanlarRDD2.filter(lambda x : \"sirano\" not in x)"
   ]
  },
  {
   "cell_type": "code",
   "execution_count": 23,
   "id": "056efe7d",
   "metadata": {},
   "outputs": [
    {
     "data": {
      "text/plain": [
       "['1,Cemal,35,Isci,Ankara,3500',\n",
       " '2,Ceyda,42,Memur,Kayseri,4200',\n",
       " '3,Timur,30,Müzisyen,Istanbul,9000',\n",
       " '4,Burcu,29,Pazarlamaci,Ankara,4200',\n",
       " '5,Yasemin,23,Pazarlamaci,Bursa,4800']"
      ]
     },
     "execution_count": 23,
     "metadata": {},
     "output_type": "execute_result"
    }
   ],
   "source": [
    "insanlarRDD.take(5)"
   ]
  },
  {
   "cell_type": "code",
   "execution_count": 24,
   "id": "8f98b560",
   "metadata": {},
   "outputs": [
    {
     "data": {
      "text/plain": [
       "['1,CEMAL,35,ISCI,ANKARA,3500',\n",
       " '2,CEYDA,42,MEMUR,KAYSERI,4200',\n",
       " '3,TIMUR,30,MÜZISYEN,ISTANBUL,9000',\n",
       " '4,BURCU,29,PAZARLAMACI,ANKARA,4200',\n",
       " '5,YASEMIN,23,PAZARLAMACI,BURSA,4800']"
      ]
     },
     "execution_count": 24,
     "metadata": {},
     "output_type": "execute_result"
    }
   ],
   "source": [
    "insanlarRDD.map(lambda x : x.upper()).take(5)"
   ]
  },
  {
   "cell_type": "code",
   "execution_count": 25,
   "id": "ded4fe10",
   "metadata": {},
   "outputs": [
    {
     "data": {
      "text/plain": [
       "['1', ',', 'C', 'E', 'M', 'A', 'L', ',', '3', '5', ',', 'I', 'S', 'C', 'I']"
      ]
     },
     "execution_count": 25,
     "metadata": {},
     "output_type": "execute_result"
    }
   ],
   "source": [
    "insanlarRDD.flatMap(lambda x : x.upper()).take(15)"
   ]
  },
  {
   "cell_type": "code",
   "execution_count": 28,
   "id": "17d2070c",
   "metadata": {},
   "outputs": [
    {
     "data": {
      "text/plain": [
       "['1',\n",
       " 'CEMAL',\n",
       " '35',\n",
       " 'ISCI',\n",
       " 'ANKARA',\n",
       " '3500',\n",
       " '2',\n",
       " 'CEYDA',\n",
       " '42',\n",
       " 'MEMUR',\n",
       " 'KAYSERI',\n",
       " '4200',\n",
       " '3',\n",
       " 'TIMUR',\n",
       " '30']"
      ]
     },
     "execution_count": 28,
     "metadata": {},
     "output_type": "execute_result"
    }
   ],
   "source": [
    "insanlarRDD.flatMap(lambda x : x.split(\",\")).map(lambda x : x.upper()).take(15)"
   ]
  },
  {
   "cell_type": "code",
   "execution_count": null,
   "id": "0d53e29d",
   "metadata": {},
   "outputs": [],
   "source": []
  }
 ],
 "metadata": {
  "kernelspec": {
   "display_name": "Python 3",
   "language": "python",
   "name": "python3"
  },
  "language_info": {
   "codemirror_mode": {
    "name": "ipython",
    "version": 3
   },
   "file_extension": ".py",
   "mimetype": "text/x-python",
   "name": "python",
   "nbconvert_exporter": "python",
   "pygments_lexer": "ipython3",
   "version": "3.6.15"
  }
 },
 "nbformat": 4,
 "nbformat_minor": 5
}
