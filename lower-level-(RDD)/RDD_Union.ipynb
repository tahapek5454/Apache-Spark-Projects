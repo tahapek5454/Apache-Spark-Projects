{
 "cells": [
  {
   "cell_type": "code",
   "execution_count": 1,
   "id": "721f8569",
   "metadata": {},
   "outputs": [],
   "source": [
    "import findspark\n",
    "findspark.init()"
   ]
  },
  {
   "cell_type": "code",
   "execution_count": 2,
   "id": "5293a7dc",
   "metadata": {},
   "outputs": [],
   "source": [
    "from pyspark import SparkConf , SparkContext"
   ]
  },
  {
   "cell_type": "code",
   "execution_count": 3,
   "id": "b69125f5",
   "metadata": {},
   "outputs": [],
   "source": [
    "conf = SparkConf().setAppName(\"RDD-Join\").setMaster(\"local[4]\")"
   ]
  },
  {
   "cell_type": "code",
   "execution_count": 4,
   "id": "4d9deddb",
   "metadata": {},
   "outputs": [],
   "source": [
    "sc = SparkContext(conf = conf)"
   ]
  },
  {
   "cell_type": "markdown",
   "id": "49bdc78a",
   "metadata": {},
   "source": [
    "## Veri okuma "
   ]
  },
  {
   "cell_type": "code",
   "execution_count": 9,
   "id": "31d25774",
   "metadata": {},
   "outputs": [],
   "source": [
    "#order_items\n",
    "order_items_rdd = sc.textFile(\"/home/taha/Downloads/order_items.txt\").filter(lambda x:'orderItemName' not in x)"
   ]
  },
  {
   "cell_type": "code",
   "execution_count": 10,
   "id": "797206a4",
   "metadata": {},
   "outputs": [
    {
     "data": {
      "text/plain": [
       "['1,1,957,1,299.98,299.98',\n",
       " '2,2,1073,1,199.99,199.99',\n",
       " '3,2,502,5,250.0,50.0',\n",
       " '4,2,403,1,129.99,129.99',\n",
       " '5,4,897,2,49.98,24.99']"
      ]
     },
     "execution_count": 10,
     "metadata": {},
     "output_type": "execute_result"
    }
   ],
   "source": [
    "order_items_rdd.take(5)"
   ]
  },
  {
   "cell_type": "code",
   "execution_count": 11,
   "id": "9aec932b",
   "metadata": {},
   "outputs": [],
   "source": [
    "#products\n",
    "products_rdd = sc.textFile(\"/home/taha/Downloads/products.txt\").filter(lambda x :'productId' not in x)"
   ]
  },
  {
   "cell_type": "code",
   "execution_count": 12,
   "id": "8fa4274e",
   "metadata": {},
   "outputs": [
    {
     "data": {
      "text/plain": [
       "['1,2,Quest Q64 10 FT. x 10 FT. Slant Leg Instant U,,59.98,http://images.acmesports.sports/Quest+Q64+10+FT.+x+10+FT.+Slant+Leg+Instant+Up+Canopy',\n",
       " \"2,2,Under Armour Men's Highlight MC Football Clea,,129.99,http://images.acmesports.sports/Under+Armour+Men%27s+Highlight+MC+Football+Cleat\",\n",
       " \"3,2,Under Armour Men's Renegade D Mid Football Cl,,89.99,http://images.acmesports.sports/Under+Armour+Men%27s+Renegade+D+Mid+Football+Cleat\",\n",
       " \"4,2,Under Armour Men's Renegade D Mid Football Cl,,89.99,http://images.acmesports.sports/Under+Armour+Men%27s+Renegade+D+Mid+Football+Cleat\",\n",
       " '5,2,Riddell Youth Revolution Speed Custom Footbal,,199.99,http://images.acmesports.sports/Riddell+Youth+Revolution+Speed+Custom+Football+Helmet']"
      ]
     },
     "execution_count": 12,
     "metadata": {},
     "output_type": "execute_result"
    }
   ],
   "source": [
    "products_rdd.take(5)"
   ]
  },
  {
   "cell_type": "markdown",
   "id": "6fee4bc0",
   "metadata": {},
   "source": [
    "### anahtar deger iliski yapmaliyiz bunun icin id leri anahtar yapıcaz"
   ]
  },
  {
   "cell_type": "markdown",
   "id": "12e3977d",
   "metadata": {},
   "source": [
    "# Okunan degerleri pair rdd ye cevirme"
   ]
  },
  {
   "cell_type": "code",
   "execution_count": 13,
   "id": "e0aa3ab2",
   "metadata": {},
   "outputs": [],
   "source": [
    "def make_order_items_pair_rdd(line):\n",
    "    orderItemName = line.split(',')[0]\n",
    "    orderItemOrderId = line.split(',')[1]\n",
    "    orderItemProductId = line.split(',')[2]\n",
    "    orderItemQuantity = line.split(',')[3]\n",
    "    orderItemSubTotal = line.split(',')[4]\n",
    "    orderItemProductPrice = line.split(',')[5]\n",
    "    \n",
    "    return (orderItemProductId,(orderItemName,orderItemOrderId,orderItemQuantity,orderItemSubTotal,orderItemProductPrice))"
   ]
  },
  {
   "cell_type": "code",
   "execution_count": 14,
   "id": "a1f2e9e0",
   "metadata": {},
   "outputs": [],
   "source": [
    "order_items_pair_rdd = order_items_rdd.map(make_order_items_pair_rdd)"
   ]
  },
  {
   "cell_type": "code",
   "execution_count": 15,
   "id": "b1984624",
   "metadata": {},
   "outputs": [
    {
     "data": {
      "text/plain": [
       "[('957', ('1', '1', '1', '299.98', '299.98')),\n",
       " ('1073', ('2', '2', '1', '199.99', '199.99')),\n",
       " ('502', ('3', '2', '5', '250.0', '50.0')),\n",
       " ('403', ('4', '2', '1', '129.99', '129.99')),\n",
       " ('897', ('5', '4', '2', '49.98', '24.99'))]"
      ]
     },
     "execution_count": 15,
     "metadata": {},
     "output_type": "execute_result"
    }
   ],
   "source": [
    "order_items_pair_rdd.take(5)"
   ]
  },
  {
   "cell_type": "code",
   "execution_count": 16,
   "id": "2e581c4c",
   "metadata": {},
   "outputs": [],
   "source": [
    "def make_products_pair_rdd(line):\n",
    "    productId = line.split(',')[0]\n",
    "    productCategoryId = line.split(',')[1]\n",
    "    productName = line.split(',')[2]\n",
    "    productDescription = line.split(',')[3]\n",
    "    productPrice = line.split(',')[4]\n",
    "    productImage = line.split(',')[5]\n",
    "    \n",
    "    return (productId,(productCategoryId,productName,productDescription,productPrice,productImage))"
   ]
  },
  {
   "cell_type": "code",
   "execution_count": 17,
   "id": "c805f5e4",
   "metadata": {},
   "outputs": [],
   "source": [
    "products_pair_rdd = products_rdd.map(make_products_pair_rdd)"
   ]
  },
  {
   "cell_type": "code",
   "execution_count": 19,
   "id": "708ed5f7",
   "metadata": {},
   "outputs": [
    {
     "data": {
      "text/plain": [
       "[('1',\n",
       "  ('2',\n",
       "   'Quest Q64 10 FT. x 10 FT. Slant Leg Instant U',\n",
       "   '',\n",
       "   '59.98',\n",
       "   'http://images.acmesports.sports/Quest+Q64+10+FT.+x+10+FT.+Slant+Leg+Instant+Up+Canopy'))]"
      ]
     },
     "execution_count": 19,
     "metadata": {},
     "output_type": "execute_result"
    }
   ],
   "source": [
    "products_pair_rdd.take(1)"
   ]
  },
  {
   "cell_type": "markdown",
   "id": "3a3240dc",
   "metadata": {},
   "source": [
    "# join asamasi"
   ]
  },
  {
   "cell_type": "code",
   "execution_count": 20,
   "id": "8ff8b4eb",
   "metadata": {},
   "outputs": [],
   "source": [
    "order_items_products_pair_rdd = order_items_pair_rdd.join(products_pair_rdd)"
   ]
  },
  {
   "cell_type": "code",
   "execution_count": 21,
   "id": "a9523323",
   "metadata": {},
   "outputs": [
    {
     "data": {
      "text/plain": [
       "[('957',\n",
       "  (('1', '1', '1', '299.98', '299.98'),\n",
       "   ('43',\n",
       "    \"Diamondback Women's Serene Classic Comfort Bi\",\n",
       "    '',\n",
       "    '299.98',\n",
       "    'http://images.acmesports.sports/Diamondback+Women%27s+Serene+Classic+Comfort+Bike+2014'))),\n",
       " ('957',\n",
       "  (('9', '5', '1', '299.98', '299.98'),\n",
       "   ('43',\n",
       "    \"Diamondback Women's Serene Classic Comfort Bi\",\n",
       "    '',\n",
       "    '299.98',\n",
       "    'http://images.acmesports.sports/Diamondback+Women%27s+Serene+Classic+Comfort+Bike+2014'))),\n",
       " ('957',\n",
       "  (('12', '5', '1', '299.98', '299.98'),\n",
       "   ('43',\n",
       "    \"Diamondback Women's Serene Classic Comfort Bi\",\n",
       "    '',\n",
       "    '299.98',\n",
       "    'http://images.acmesports.sports/Diamondback+Women%27s+Serene+Classic+Comfort+Bike+2014'))),\n",
       " ('957',\n",
       "  (('15', '7', '1', '299.98', '299.98'),\n",
       "   ('43',\n",
       "    \"Diamondback Women's Serene Classic Comfort Bi\",\n",
       "    '',\n",
       "    '299.98',\n",
       "    'http://images.acmesports.sports/Diamondback+Women%27s+Serene+Classic+Comfort+Bike+2014'))),\n",
       " ('957',\n",
       "  (('34', '12', '1', '299.98', '299.98'),\n",
       "   ('43',\n",
       "    \"Diamondback Women's Serene Classic Comfort Bi\",\n",
       "    '',\n",
       "    '299.98',\n",
       "    'http://images.acmesports.sports/Diamondback+Women%27s+Serene+Classic+Comfort+Bike+2014')))]"
      ]
     },
     "execution_count": 21,
     "metadata": {},
     "output_type": "execute_result"
    }
   ],
   "source": [
    "order_items_products_pair_rdd.take(5)"
   ]
  },
  {
   "cell_type": "code",
   "execution_count": 22,
   "id": "fba1ab09",
   "metadata": {},
   "outputs": [
    {
     "data": {
      "text/plain": [
       "80240"
      ]
     },
     "execution_count": 22,
     "metadata": {},
     "output_type": "execute_result"
    }
   ],
   "source": [
    "order_items_pair_rdd.count()"
   ]
  },
  {
   "cell_type": "code",
   "execution_count": 23,
   "id": "e5c85ce5",
   "metadata": {},
   "outputs": [
    {
     "data": {
      "text/plain": [
       "1345"
      ]
     },
     "execution_count": 23,
     "metadata": {},
     "output_type": "execute_result"
    }
   ],
   "source": [
    "products_pair_rdd.count()"
   ]
  },
  {
   "cell_type": "code",
   "execution_count": 25,
   "id": "748247ca",
   "metadata": {},
   "outputs": [
    {
     "data": {
      "text/plain": [
       "80240"
      ]
     },
     "execution_count": 25,
     "metadata": {},
     "output_type": "execute_result"
    }
   ],
   "source": [
    "order_items_products_pair_rdd.count()"
   ]
  },
  {
   "cell_type": "code",
   "execution_count": null,
   "id": "6e71ca28",
   "metadata": {},
   "outputs": [],
   "source": []
  }
 ],
 "metadata": {
  "kernelspec": {
   "display_name": "Python 3",
   "language": "python",
   "name": "python3"
  },
  "language_info": {
   "codemirror_mode": {
    "name": "ipython",
    "version": 3
   },
   "file_extension": ".py",
   "mimetype": "text/x-python",
   "name": "python",
   "nbconvert_exporter": "python",
   "pygments_lexer": "ipython3",
   "version": "3.6.15"
  }
 },
 "nbformat": 4,
 "nbformat_minor": 5
}
