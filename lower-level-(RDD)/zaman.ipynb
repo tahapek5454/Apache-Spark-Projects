{
 "cells": [
  {
   "cell_type": "code",
   "execution_count": 1,
   "id": "3e7a547e",
   "metadata": {},
   "outputs": [],
   "source": [
    "import findspark\n",
    "findspark.init()\n",
    "from pyspark.sql import SparkSession\n",
    "spark = SparkSession.builder \\\n",
    ".master(\"local[4]\") \\\n",
    ".appName(\"time\") \\\n",
    ".config(\"spark.executor.memory\",\"4g\") \\\n",
    ".config(\"spark.driver.memory\",\"2g\") \\\n",
    ".getOrCreate()\n",
    "sc = spark.sparkContext"
   ]
  },
  {
   "cell_type": "code",
   "execution_count": 2,
   "id": "e2814c76",
   "metadata": {},
   "outputs": [],
   "source": [
    "df = spark.read \\\n",
    ".option(\"header\",\"True\") \\\n",
    ".option(\"inferSchema\",\"True\")\\\n",
    ".option(\"sep\",\";\") \\\n",
    ".csv(\"/home/taha/Downloads/OnlineRetail.csv\") \\\n",
    ".select(\"InvoiceDate\").distinct()"
   ]
  },
  {
   "cell_type": "code",
   "execution_count": 3,
   "id": "e51e6b56",
   "metadata": {},
   "outputs": [
    {
     "name": "stdout",
     "output_type": "stream",
     "text": [
      "+----------------+\n",
      "|     InvoiceDate|\n",
      "+----------------+\n",
      "| 3.12.2010 16:50|\n",
      "| 7.12.2010 12:28|\n",
      "| 8.12.2010 15:02|\n",
      "|10.12.2010 09:53|\n",
      "|12.12.2010 13:32|\n",
      "+----------------+\n",
      "only showing top 5 rows\n",
      "\n"
     ]
    }
   ],
   "source": [
    "df.show(5)"
   ]
  },
  {
   "cell_type": "code",
   "execution_count": 4,
   "id": "eff511d7",
   "metadata": {},
   "outputs": [],
   "source": [
    "mevcut_format = \"dd.MM.yyyy HH:mm\""
   ]
  },
  {
   "cell_type": "code",
   "execution_count": 13,
   "id": "ee183c94",
   "metadata": {},
   "outputs": [],
   "source": [
    "from pyspark.sql import functions as F"
   ]
  },
  {
   "cell_type": "code",
   "execution_count": 14,
   "id": "976d1c05",
   "metadata": {},
   "outputs": [
    {
     "name": "stdout",
     "output_type": "stream",
     "text": [
      "+----------------+------------+-------------------+\n",
      "|     InvoiceDate|normal_tarih|         standar_ts|\n",
      "+----------------+------------+-------------------+\n",
      "| 3.12.2010 16:50|  2010-12-03|2010-12-03 16:50:00|\n",
      "| 7.12.2010 12:28|  2010-12-07|2010-12-07 12:28:00|\n",
      "| 8.12.2010 15:02|  2010-12-08|2010-12-08 15:02:00|\n",
      "|10.12.2010 09:53|  2010-12-10|2010-12-10 09:53:00|\n",
      "|12.12.2010 13:32|  2010-12-12|2010-12-12 13:32:00|\n",
      "+----------------+------------+-------------------+\n",
      "only showing top 5 rows\n",
      "\n"
     ]
    }
   ],
   "source": [
    "df2 = df \\\n",
    ".withColumn(\"normal_tarih\",F.to_date(F.col(\"InvoiceDate\"),mevcut_format)) \\\n",
    ".withColumn(\"standar_ts\",F.to_timestamp(F.col(\"InvoiceDate\"),mevcut_format))\n",
    "\n",
    "df2.show(5)"
   ]
  },
  {
   "cell_type": "code",
   "execution_count": 13,
   "id": "81157107",
   "metadata": {},
   "outputs": [
    {
     "name": "stdout",
     "output_type": "stream",
     "text": [
      "root\n",
      " |-- InvoiceDate: string (nullable = true)\n",
      " |-- normal_tarih: date (nullable = true)\n",
      " |-- standar_ts: timestamp (nullable = true)\n",
      "\n"
     ]
    }
   ],
   "source": [
    "df2.printSchema()"
   ]
  },
  {
   "cell_type": "markdown",
   "id": "ad77342a",
   "metadata": {},
   "source": [
    "# Tarih formati degistirme "
   ]
  },
  {
   "cell_type": "code",
   "execution_count": 14,
   "id": "f40f3ee4",
   "metadata": {},
   "outputs": [],
   "source": [
    "format_tr = \"dd/MM/yyyy HH:mm:ss\""
   ]
  },
  {
   "cell_type": "code",
   "execution_count": 17,
   "id": "2c444d1c",
   "metadata": {},
   "outputs": [],
   "source": [
    "df3 = df2 \\\n",
    ".withColumn(\"TSTR\",F.date_format(F.col(\"standar_ts\"),format_tr)) "
   ]
  },
  {
   "cell_type": "code",
   "execution_count": 19,
   "id": "e7e951dd",
   "metadata": {},
   "outputs": [
    {
     "name": "stdout",
     "output_type": "stream",
     "text": [
      "+---------------+------------+-------------------+-------------------+\n",
      "|    InvoiceDate|normal_tarih|         standar_ts|               TSTR|\n",
      "+---------------+------------+-------------------+-------------------+\n",
      "|3.12.2010 16:50|  2010-12-03|2010-12-03 16:50:00|03/12/2010 16:50:00|\n",
      "|7.12.2010 12:28|  2010-12-07|2010-12-07 12:28:00|07/12/2010 12:28:00|\n",
      "+---------------+------------+-------------------+-------------------+\n",
      "only showing top 2 rows\n",
      "\n"
     ]
    }
   ],
   "source": [
    "df3.show(2)"
   ]
  },
  {
   "cell_type": "markdown",
   "id": "d6dc2072",
   "metadata": {},
   "source": [
    "# tarih ekleme tarih farkı alama timestap icinden yil alma"
   ]
  },
  {
   "cell_type": "code",
   "execution_count": 21,
   "id": "619956ae",
   "metadata": {},
   "outputs": [
    {
     "name": "stdout",
     "output_type": "stream",
     "text": [
      "+---------------+------------+-------------------+----------+----+----+\n",
      "|    InvoiceDate|normal_tarih|         standar_ts|   bir_yil| yil|fark|\n",
      "+---------------+------------+-------------------+----------+----+----+\n",
      "|3.12.2010 16:50|  2010-12-03|2010-12-03 16:50:00|2011-12-03|2010| 365|\n",
      "|7.12.2010 12:28|  2010-12-07|2010-12-07 12:28:00|2011-12-07|2010| 365|\n",
      "+---------------+------------+-------------------+----------+----+----+\n",
      "only showing top 2 rows\n",
      "\n"
     ]
    }
   ],
   "source": [
    "df4 = df2 \\\n",
    ".withColumn(\"bir_yil\",F.date_add(\"standar_ts\",365)) \\\n",
    ".withColumn(\"yil\",F.year(F.col(\"standar_ts\"))) \\\n",
    ".withColumn(\"fark\",F.datediff(F.col(\"bir_yil\"),df2.standar_ts))\n",
    "\n",
    "df4.show(2)"
   ]
  },
  {
   "cell_type": "code",
   "execution_count": null,
   "id": "92d053a0",
   "metadata": {},
   "outputs": [],
   "source": []
  }
 ],
 "metadata": {
  "kernelspec": {
   "display_name": "Python 3",
   "language": "python",
   "name": "python3"
  },
  "language_info": {
   "codemirror_mode": {
    "name": "ipython",
    "version": 3
   },
   "file_extension": ".py",
   "mimetype": "text/x-python",
   "name": "python",
   "nbconvert_exporter": "python",
   "pygments_lexer": "ipython3",
   "version": "3.6.15"
  }
 },
 "nbformat": 4,
 "nbformat_minor": 5
}
