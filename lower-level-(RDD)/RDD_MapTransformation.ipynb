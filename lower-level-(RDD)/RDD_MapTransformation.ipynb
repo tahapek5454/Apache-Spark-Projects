{
 "cells": [
  {
   "cell_type": "code",
   "execution_count": 1,
   "id": "862fdc3f",
   "metadata": {},
   "outputs": [],
   "source": [
    "import findspark\n",
    "findspark.init()"
   ]
  },
  {
   "cell_type": "code",
   "execution_count": 2,
   "id": "a3ddb961",
   "metadata": {},
   "outputs": [],
   "source": [
    "from pyspark.sql import SparkSession"
   ]
  },
  {
   "cell_type": "code",
   "execution_count": 3,
   "id": "ea4beacf",
   "metadata": {},
   "outputs": [],
   "source": [
    "spark = SparkSession.builder \\\n",
    ".master(\"local[4]\") \\\n",
    ".appName(\"Dataset-Olusturmak\") \\\n",
    ".config(\"spark.executor.memory\",\"4g\") \\\n",
    ".config(\"spark.driver.memory\",\"2g\") \\\n",
    ".getOrCreate()\n",
    "\n",
    "sc = spark.sparkContext"
   ]
  },
  {
   "cell_type": "code",
   "execution_count": 4,
   "id": "66732cb1",
   "metadata": {},
   "outputs": [],
   "source": [
    "dosya_yolu=\"/home/taha/Downloads/OnlineRetail.csv\""
   ]
  },
  {
   "cell_type": "code",
   "execution_count": 5,
   "id": "0c6a3602",
   "metadata": {},
   "outputs": [],
   "source": [
    "retail_RDD=sc.textFile(dosya_yolu)"
   ]
  },
  {
   "cell_type": "code",
   "execution_count": 6,
   "id": "83978b27",
   "metadata": {},
   "outputs": [
    {
     "data": {
      "text/plain": [
       "['InvoiceNo;StockCode;Description;Quantity;InvoiceDate;UnitPrice;CustomerID;Country',\n",
       " '536365;85123A;WHITE HANGING HEART T-LIGHT HOLDER;6;1.12.2010 08:26;2,55;17850;United Kingdom',\n",
       " '536365;71053;WHITE METAL LANTERN;6;1.12.2010 08:26;3,39;17850;United Kingdom',\n",
       " '536365;84406B;CREAM CUPID HEARTS COAT HANGER;8;1.12.2010 08:26;2,75;17850;United Kingdom',\n",
       " '536365;84029G;KNITTED UNION FLAG HOT WATER BOTTLE;6;1.12.2010 08:26;3,39;17850;United Kingdom']"
      ]
     },
     "execution_count": 6,
     "metadata": {},
     "output_type": "execute_result"
    }
   ],
   "source": [
    "retail_RDD.take(5)"
   ]
  },
  {
   "cell_type": "markdown",
   "id": "1c879943",
   "metadata": {},
   "source": [
    "## Basligi kaldiralim"
   ]
  },
  {
   "cell_type": "code",
   "execution_count": 7,
   "id": "c630dd5d",
   "metadata": {},
   "outputs": [],
   "source": [
    "retail_RDD_without_title=retail_RDD.filter(lambda x:'InvoiceNo' not in x)"
   ]
  },
  {
   "cell_type": "code",
   "execution_count": 8,
   "id": "782735fa",
   "metadata": {},
   "outputs": [
    {
     "data": {
      "text/plain": [
       "['536365;85123A;WHITE HANGING HEART T-LIGHT HOLDER;6;1.12.2010 08:26;2,55;17850;United Kingdom',\n",
       " '536365;71053;WHITE METAL LANTERN;6;1.12.2010 08:26;3,39;17850;United Kingdom',\n",
       " '536365;84406B;CREAM CUPID HEARTS COAT HANGER;8;1.12.2010 08:26;2,75;17850;United Kingdom',\n",
       " '536365;84029G;KNITTED UNION FLAG HOT WATER BOTTLE;6;1.12.2010 08:26;3,39;17850;United Kingdom',\n",
       " '536365;84029E;RED WOOLLY HOTTIE WHITE HEART.;6;1.12.2010 08:26;3,39;17850;United Kingdom']"
      ]
     },
     "execution_count": 8,
     "metadata": {},
     "output_type": "execute_result"
    }
   ],
   "source": [
    "retail_RDD_without_title.take(5)"
   ]
  },
  {
   "cell_type": "markdown",
   "id": "c02de3be",
   "metadata": {},
   "source": [
    "## amac satisi iptal olan urunlerin maliyetlerini bulma"
   ]
  },
  {
   "cell_type": "code",
   "execution_count": 13,
   "id": "3e7bbf30",
   "metadata": {},
   "outputs": [],
   "source": [
    "def cancelled_price(line):\n",
    "    is_cancelled = True if(line.split(';')[0].startswith('C')) else False\n",
    "    quantity = float(line.split(';')[3])\n",
    "    price = float(line.split(';')[5].replace(',','.'))\n",
    "    total = quantity * price\n",
    "    \n",
    "    return (is_cancelled , total)"
   ]
  },
  {
   "cell_type": "code",
   "execution_count": 14,
   "id": "5a4549d6",
   "metadata": {},
   "outputs": [],
   "source": [
    "cancelled_total_rdd = retail_RDD_without_title.map(lambda x : cancelled_price(x))"
   ]
  },
  {
   "cell_type": "code",
   "execution_count": 15,
   "id": "8aeacc60",
   "metadata": {},
   "outputs": [
    {
     "data": {
      "text/plain": [
       "[(False, 15.299999999999999),\n",
       " (False, 20.34),\n",
       " (False, 22.0),\n",
       " (False, 20.34),\n",
       " (False, 20.34)]"
      ]
     },
     "execution_count": 15,
     "metadata": {},
     "output_type": "execute_result"
    }
   ],
   "source": [
    "cancelled_total_rdd.take(5)"
   ]
  },
  {
   "cell_type": "code",
   "execution_count": 16,
   "id": "e6690d6c",
   "metadata": {},
   "outputs": [],
   "source": [
    "cancelled_total_rdd = cancelled_total_rdd.reduceByKey(lambda x,y : x+y)"
   ]
  },
  {
   "cell_type": "code",
   "execution_count": 17,
   "id": "0a92ae07",
   "metadata": {},
   "outputs": [
    {
     "data": {
      "text/plain": [
       "[(False, 10644560.424000263), (True, -896812.4900000116)]"
      ]
     },
     "execution_count": 17,
     "metadata": {},
     "output_type": "execute_result"
    }
   ],
   "source": [
    "cancelled_total_rdd.take(5)"
   ]
  },
  {
   "cell_type": "code",
   "execution_count": null,
   "id": "2a1a6096",
   "metadata": {},
   "outputs": [],
   "source": []
  },
  {
   "cell_type": "code",
   "execution_count": null,
   "id": "c29a59d2",
   "metadata": {},
   "outputs": [],
   "source": []
  },
  {
   "cell_type": "code",
   "execution_count": null,
   "id": "a9416b81",
   "metadata": {},
   "outputs": [],
   "source": []
  },
  {
   "cell_type": "code",
   "execution_count": null,
   "id": "3f1fdacb",
   "metadata": {},
   "outputs": [],
   "source": []
  }
 ],
 "metadata": {
  "kernelspec": {
   "display_name": "Python 3",
   "language": "python",
   "name": "python3"
  },
  "language_info": {
   "codemirror_mode": {
    "name": "ipython",
    "version": 3
   },
   "file_extension": ".py",
   "mimetype": "text/x-python",
   "name": "python",
   "nbconvert_exporter": "python",
   "pygments_lexer": "ipython3",
   "version": "3.6.15"
  }
 },
 "nbformat": 4,
 "nbformat_minor": 5
}
