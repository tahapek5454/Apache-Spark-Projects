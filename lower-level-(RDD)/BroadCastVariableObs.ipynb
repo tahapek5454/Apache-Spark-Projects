{
 "cells": [
  {
   "cell_type": "code",
   "execution_count": 2,
   "id": "08631e5b",
   "metadata": {},
   "outputs": [],
   "source": [
    "import findspark\n",
    "findspark.init()"
   ]
  },
  {
   "cell_type": "code",
   "execution_count": 3,
   "id": "205997ae",
   "metadata": {},
   "outputs": [],
   "source": [
    "from pyspark import SparkConf , SparkContext\n",
    "conf = SparkConf().setMaster(\"local[4]\").setAppName(\"BroadCastVariableObs\")\n",
    "sc = SparkContext(conf=conf).getOrCreate()"
   ]
  },
  {
   "cell_type": "markdown",
   "id": "347f56d1",
   "metadata": {},
   "source": [
    "# product dosyasini okuyup urun id ve adini donduren fonk tanımlama"
   ]
  },
  {
   "cell_type": "code",
   "execution_count": null,
   "id": "619db22f",
   "metadata": {},
   "outputs": [],
   "source": [
    "\n",
    "            "
   ]
  },
  {
   "cell_type": "code",
   "execution_count": 37,
   "id": "4d87c4fc",
   "metadata": {},
   "outputs": [],
   "source": [
    "def read_products():\n",
    "    products_text_wrapper = open(\"/home/taha/Downloads/products.txt\",\"r\",encoding = \"utf-8\")\n",
    "    \n",
    "    products = products_text_wrapper.readlines()\n",
    "    product_id_name={}\n",
    "    \n",
    "    \n",
    "    for line in products:\n",
    "        \n",
    "        if 'productCategoryId' not in line:\n",
    "            prduct_id=int (line.split(',')[0])\n",
    "            product_name = line.split(',')[2]\n",
    "            \n",
    "            product_id_name.update({prduct_id:product_name})\n",
    "    \n",
    "    return product_id_name"
   ]
  },
  {
   "cell_type": "code",
   "execution_count": 38,
   "id": "706f4881",
   "metadata": {},
   "outputs": [],
   "source": [
    "products = read_products()"
   ]
  },
  {
   "cell_type": "code",
   "execution_count": 39,
   "id": "fd8ea42f",
   "metadata": {},
   "outputs": [],
   "source": [
    "broadcast_products = sc.broadcast(products)"
   ]
  },
  {
   "cell_type": "code",
   "execution_count": 40,
   "id": "e5ed814c",
   "metadata": {},
   "outputs": [
    {
     "data": {
      "text/plain": [
       "\"Nike Men's Fly Shorts 2.0\""
      ]
     },
     "execution_count": 40,
     "metadata": {},
     "output_type": "execute_result"
    }
   ],
   "source": [
    "broadcast_products.value.get(114)"
   ]
  },
  {
   "cell_type": "raw",
   "id": "0d7c1fd9",
   "metadata": {},
   "source": []
  },
  {
   "cell_type": "markdown",
   "id": "cb34701a",
   "metadata": {},
   "source": [
    "# Order item okuma RDD olusturma"
   ]
  },
  {
   "cell_type": "code",
   "execution_count": 41,
   "id": "da61f1b9",
   "metadata": {},
   "outputs": [],
   "source": [
    "order_items_rdd2 = sc.textFile(\"/home/taha/Downloads/order_items.txt\") "
   ]
  },
  {
   "cell_type": "code",
   "execution_count": 42,
   "id": "70a1c255",
   "metadata": {},
   "outputs": [],
   "source": [
    "order_items_RDD = order_items_rdd2.filter(lambda x :'orderItemOrderId' not in x)"
   ]
  },
  {
   "cell_type": "code",
   "execution_count": 43,
   "id": "20ebc4e6",
   "metadata": {},
   "outputs": [
    {
     "data": {
      "text/plain": [
       "['1,1,957,1,299.98,299.98',\n",
       " '2,2,1073,1,199.99,199.99',\n",
       " '3,2,502,5,250.0,50.0',\n",
       " '4,2,403,1,129.99,129.99',\n",
       " '5,4,897,2,49.98,24.99']"
      ]
     },
     "execution_count": 43,
     "metadata": {},
     "output_type": "execute_result"
    }
   ],
   "source": [
    "order_items_RDD.take(5)"
   ]
  },
  {
   "cell_type": "markdown",
   "id": "b848da0f",
   "metadata": {},
   "source": [
    "# order items i pair RDD yapalım"
   ]
  },
  {
   "cell_type": "code",
   "execution_count": 58,
   "id": "5d6c21ed",
   "metadata": {},
   "outputs": [],
   "source": [
    "def make_order_items_pair_rdd(line):\n",
    "    order_item_product = int(line.split(',')[2])\n",
    "    order_item_sub_total =float (line.split(',')[4])\n",
    "    \n",
    "    return (order_item_product,order_item_sub_total)"
   ]
  },
  {
   "cell_type": "code",
   "execution_count": 59,
   "id": "3f3688ba",
   "metadata": {},
   "outputs": [],
   "source": [
    "order_items_pair_Rdd=order_items_RDD.map(make_order_items_pair_rdd)"
   ]
  },
  {
   "cell_type": "code",
   "execution_count": 60,
   "id": "30caee94",
   "metadata": {},
   "outputs": [
    {
     "data": {
      "text/plain": [
       "[(957, 299.98), (1073, 199.99), (502, 250.0), (403, 129.99), (897, 49.98)]"
      ]
     },
     "execution_count": 60,
     "metadata": {},
     "output_type": "execute_result"
    }
   ],
   "source": [
    "order_items_pair_Rdd.take(5)"
   ]
  },
  {
   "cell_type": "code",
   "execution_count": 61,
   "id": "92c9bdfe",
   "metadata": {},
   "outputs": [],
   "source": [
    "rdd=order_items_pair_Rdd.reduceByKey(lambda x , y : x+y)\n",
    "\n"
   ]
  },
  {
   "cell_type": "code",
   "execution_count": 64,
   "id": "68223a86",
   "metadata": {},
   "outputs": [],
   "source": [
    "rdd=rdd.map(lambda x : (x[1],x[0]))"
   ]
  },
  {
   "cell_type": "code",
   "execution_count": 65,
   "id": "3001a9b6",
   "metadata": {},
   "outputs": [
    {
     "data": {
      "text/plain": [
       "[(1460400.0, 502), (1358106.5399999893, 1014)]"
      ]
     },
     "execution_count": 65,
     "metadata": {},
     "output_type": "execute_result"
    }
   ],
   "source": [
    "rdd.take(2)"
   ]
  },
  {
   "cell_type": "code",
   "execution_count": 67,
   "id": "c43b1d83",
   "metadata": {},
   "outputs": [],
   "source": [
    "order_items_pair_Rdd=rdd.sortByKey(False)"
   ]
  },
  {
   "cell_type": "code",
   "execution_count": 68,
   "id": "d95507bb",
   "metadata": {},
   "outputs": [
    {
     "data": {
      "text/plain": [
       "[(3232238.37999988, 1004),\n",
       " (2056937.1199998325, 365),\n",
       " (1897373.4999999227, 957),\n",
       " (1730026.9799999292, 191),\n",
       " (1460400.0, 502),\n",
       " (1438328.0799999484, 1073),\n",
       " (1358106.5399999893, 1014),\n",
       " (1329407.7299999283, 403),\n",
       " (596930.7300000004, 627),\n",
       " (39760.0, 565)]"
      ]
     },
     "execution_count": 68,
     "metadata": {},
     "output_type": "execute_result"
    }
   ],
   "source": [
    "order_items_pair_Rdd.take(10)"
   ]
  },
  {
   "cell_type": "code",
   "execution_count": 69,
   "id": "ff3bcfa3",
   "metadata": {},
   "outputs": [],
   "source": [
    "order_items_pair_Rdd=order_items_pair_Rdd.map(lambda x : (x[1],x[0]))"
   ]
  },
  {
   "cell_type": "code",
   "execution_count": 70,
   "id": "4f76ceea",
   "metadata": {},
   "outputs": [
    {
     "data": {
      "text/plain": [
       "[(1004, 3232238.37999988),\n",
       " (365, 2056937.1199998325),\n",
       " (957, 1897373.4999999227),\n",
       " (191, 1730026.9799999292),\n",
       " (502, 1460400.0),\n",
       " (1073, 1438328.0799999484),\n",
       " (1014, 1358106.5399999893),\n",
       " (403, 1329407.7299999283),\n",
       " (627, 596930.7300000004),\n",
       " (565, 39760.0)]"
      ]
     },
     "execution_count": 70,
     "metadata": {},
     "output_type": "execute_result"
    }
   ],
   "source": [
    "order_items_pair_Rdd.take(10)"
   ]
  },
  {
   "cell_type": "markdown",
   "id": "9c4696d5",
   "metadata": {},
   "source": [
    " # order_items ile broadcast variable olan product i birlestirme"
   ]
  },
  {
   "cell_type": "code",
   "execution_count": 71,
   "id": "787946e8",
   "metadata": {},
   "outputs": [],
   "source": [
    "shorted_orders_with_product_name = order_items_pair_Rdd.map(lambda x :(broadcast_products.value.get(x[0]),x[1]))"
   ]
  },
  {
   "cell_type": "code",
   "execution_count": 72,
   "id": "89e45e3d",
   "metadata": {},
   "outputs": [
    {
     "data": {
      "text/plain": [
       "[('Field & Stream Sportsman 16 Gun Fire Safe', 3232238.37999988),\n",
       " ('Perfect Fitness Perfect Rip Deck', 2056937.1199998325),\n",
       " (\"Diamondback Women's Serene Classic Comfort Bi\", 1897373.4999999227),\n",
       " (\"Nike Men's Free 5.0+ Running Shoe\", 1730026.9799999292),\n",
       " (\"Nike Men's Dri-FIT Victory Golf Polo\", 1460400.0),\n",
       " ('Pelican Sunstream 100 Kayak', 1438328.0799999484),\n",
       " (\"O'Brien Men's Neoprene Life Vest\", 1358106.5399999893),\n",
       " (\"Nike Men's CJ Elite 2 TD Football Cleat\", 1329407.7299999283),\n",
       " (\"Under Armour Girls' Toddler Spine Surge Runni\", 596930.7300000004),\n",
       " ('adidas Youth Germany Black/Red Away Match Soc', 39760.0)]"
      ]
     },
     "execution_count": 72,
     "metadata": {},
     "output_type": "execute_result"
    }
   ],
   "source": [
    "shorted_orders_with_product_name.take(10)"
   ]
  },
  {
   "cell_type": "code",
   "execution_count": null,
   "id": "743c343a",
   "metadata": {},
   "outputs": [],
   "source": []
  }
 ],
 "metadata": {
  "kernelspec": {
   "display_name": "Python 3",
   "language": "python",
   "name": "python3"
  },
  "language_info": {
   "codemirror_mode": {
    "name": "ipython",
    "version": 3
   },
   "file_extension": ".py",
   "mimetype": "text/x-python",
   "name": "python",
   "nbconvert_exporter": "python",
   "pygments_lexer": "ipython3",
   "version": "3.6.15"
  }
 },
 "nbformat": 4,
 "nbformat_minor": 5
}
