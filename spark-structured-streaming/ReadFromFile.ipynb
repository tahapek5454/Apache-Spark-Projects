{
 "cells": [
  {
   "cell_type": "code",
   "execution_count": 1,
   "id": "4ac0c646",
   "metadata": {},
   "outputs": [],
   "source": [
    "import findspark\n",
    "findspark.init()"
   ]
  },
  {
   "cell_type": "code",
   "execution_count": 2,
   "id": "9a6f9293",
   "metadata": {},
   "outputs": [],
   "source": [
    "from pyspark.sql import SparkSession\n",
    "from pyspark.sql.types import *\n",
    "import pyspark.sql.functions as f"
   ]
  },
  {
   "cell_type": "code",
   "execution_count": 3,
   "id": "b00e6dd4",
   "metadata": {},
   "outputs": [],
   "source": [
    "spark = SparkSession.builder \\\n",
    ".master(\"local[4]\") \\\n",
    ".appName(\"ReadFromFile\") \\\n",
    ".config(\"spark.driver.memory\",\"2g\") \\\n",
    ".config(\"spark.execute.memory\",\"4g\") \\\n",
    ".getOrCreate()"
   ]
  },
  {
   "cell_type": "code",
   "execution_count": 4,
   "id": "dc1f56e9",
   "metadata": {},
   "outputs": [],
   "source": [
    "lines = spark.readStream \\\n",
    ".format(\"text\") \\\n",
    ".load(\"/home/taha/Desktop/projeler/spark-streaming-test/\")"
   ]
  },
  {
   "cell_type": "code",
   "execution_count": 6,
   "id": "a039d663",
   "metadata": {},
   "outputs": [],
   "source": [
    "words = lines.select(f.explode(f.split(f.col(\"value\"),\" \")).alias(\"word\"))"
   ]
  },
  {
   "cell_type": "code",
   "execution_count": 7,
   "id": "20503e46",
   "metadata": {},
   "outputs": [],
   "source": [
    "word_counts = words.groupBy(\"word\").count().sort(f.desc(\"count\"))"
   ]
  },
  {
   "cell_type": "code",
   "execution_count": 8,
   "id": "7117bc04",
   "metadata": {},
   "outputs": [],
   "source": [
    "query = word_counts.writeStream \\\n",
    ".outputMode(\"complete\") \\\n",
    ".format(\"console\") \\\n",
    ".start()"
   ]
  },
  {
   "cell_type": "code",
   "execution_count": null,
   "id": "409fe874",
   "metadata": {},
   "outputs": [],
   "source": [
    "query.awaitTermination()"
   ]
  },
  {
   "cell_type": "code",
   "execution_count": null,
   "id": "49960281",
   "metadata": {
    "scrolled": true
   },
   "outputs": [],
   "source": []
  }
 ],
 "metadata": {
  "kernelspec": {
   "display_name": "Python 3",
   "language": "python",
   "name": "python3"
  },
  "language_info": {
   "codemirror_mode": {
    "name": "ipython",
    "version": 3
   },
   "file_extension": ".py",
   "mimetype": "text/x-python",
   "name": "python",
   "nbconvert_exporter": "python",
   "pygments_lexer": "ipython3",
   "version": "3.6.15"
  }
 },
 "nbformat": 4,
 "nbformat_minor": 5
}
